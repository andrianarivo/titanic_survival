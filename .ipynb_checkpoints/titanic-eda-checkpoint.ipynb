{
 "cells": [
  {
   "cell_type": "markdown",
   "id": "0e4017fe",
   "metadata": {
    "papermill": {
     "duration": 0.020774,
     "end_time": "2025-03-11T07:07:40.917643",
     "exception": false,
     "start_time": "2025-03-11T07:07:40.896869",
     "status": "completed"
    },
    "tags": []
   },
   "source": [
    "# INTRODUCTION \n",
    "\n",
    "The sinking of Titanic is one of the most notorious skipwrecks in the history. In 1912, during her voyage, the Titanic sank after crush with an iceberg.\n",
    "\n",
    "<font color = \"Green\">\n",
    "Content:\n",
    "    \n",
    "1. [Load and Check Data](#1)\n",
    "2. [Variable Description](#2)\n",
    "    * [Univariate Variable Analysis](#3)\n",
    "      * [Categorical Variable ](#4)\n",
    "      * [Numerical Variable ](#5)\n",
    "1. [Basic Data Analysis](#6)\n",
    "2. [Outlier Dedection](#7)\n",
    "3. [Missing Value](#8)\n",
    "    * [Find Missing Value](#9)\n",
    "    * [Fill Missing Value](#10)\n",
    "1. [Visulazitaion](#11)\n",
    "   * [Correlation Between SibSp -- Parch -- Age -- Fare -- Survived](#12)\n",
    "   * [SibSp -- Survived](#13)\n",
    "   * [Parch -- Survived](#14)\n",
    "   * [Pclass -- Survived](#15)\n",
    "   * [Age -- Survived](#16)\n",
    "   * [Pclass -- Survived -- Age](#17)\n",
    "   * [Embarked -- Sex -- Pclass -- Survived](#18)\n",
    "   * [Embarked -- Sex -- Fare -- Survived](#19)\n",
    "   * [Fill Missing: Age Feature](#20)\n",
    "1. [Feature Engineering](#21)\n",
    "   * [Name -- Title](#22)\n",
    "   * [Family Size](#23)\n",
    "   * [Embarked](#24)\n",
    "   * [Ticket](#25)\n",
    "   * [Pclass](#26)\n",
    "   * [Sex](#27)\n",
    "   * [Drop Passenger ID and Cabin](#28)\n",
    "1. [Modeling](#29)\n",
    "   * [Train - Test Split](#30)\n",
    "   * [Simple Logistic Regression](#31)\n",
    "   * [Hyper Parameter Tuning -- Grid Search -- Cross Validation](#32)\n",
    "   * [Ensemble Modeling](#33)\n",
    "   * [Prediction and Submission](#34)"
   ]
  },
  {
   "cell_type": "code",
   "execution_count": 1,
   "id": "e6d94009",
   "metadata": {
    "_cell_guid": "b1076dfc-b9ad-4769-8c92-a6c4dae69d19",
    "_uuid": "8f2839f25d086af736a60e9eeb907d3b93b6e0e5",
    "execution": {
     "iopub.execute_input": "2025-03-11T07:07:40.957098Z",
     "iopub.status.busy": "2025-03-11T07:07:40.956714Z",
     "iopub.status.idle": "2025-03-11T07:07:43.729103Z",
     "shell.execute_reply": "2025-03-11T07:07:43.728194Z"
    },
    "papermill": {
     "duration": 2.794198,
     "end_time": "2025-03-11T07:07:43.730831",
     "exception": false,
     "start_time": "2025-03-11T07:07:40.936633",
     "status": "completed"
    },
    "tags": []
   },
   "outputs": [
    {
     "name": "stdout",
     "output_type": "stream",
     "text": [
      "/kaggle/input/titanic/train.csv\n",
      "/kaggle/input/titanic/test.csv\n",
      "/kaggle/input/titanic/gender_submission.csv\n"
     ]
    }
   ],
   "source": [
    "# This Python 3 environment comes with many helpful analytics libraries installed\n",
    "# It is defined by the kaggle/python Docker image: https://github.com/kaggle/docker-python\n",
    "# For example, here's several helpful packages to load\n",
    "\n",
    "import numpy as np # linear algebra\n",
    "import pandas as pd # data processing, CSV file I/O (e.g. pd.read_csv)\n",
    "import matplotlib.pyplot as plt\n",
    "import seaborn as sns\n",
    "from collections import Counter\n",
    "import warnings\n",
    "warnings.filterwarnings(\"ignore\")\n",
    "# Input data files are available in the read-only \"../input/\" directory\n",
    "# For example, running this (by clicking run or pressing Shift+Enter) will list all files under the input directory\n",
    "\n",
    "import os\n",
    "for dirname, _, filenames in os.walk('/kaggle/input'):\n",
    "    for filename in filenames:\n",
    "        print(os.path.join(dirname, filename))\n",
    "\n",
    "# You can write up to 20GB to the current directory (/kaggle/working/) that gets preserved as output when you create a version using \"Save & Run All\" \n",
    "# You can also write temporary files to /kaggle/temp/, but they won't be saved outside of the current session"
   ]
  },
  {
   "cell_type": "markdown",
   "id": "45a5ff5a",
   "metadata": {
    "papermill": {
     "duration": 0.018704,
     "end_time": "2025-03-11T07:07:43.769087",
     "exception": false,
     "start_time": "2025-03-11T07:07:43.750383",
     "status": "completed"
    },
    "tags": []
   },
   "source": [
    "<a id = \"1\"></a><br>\n",
    "# Load and Check Data"
   ]
  },
  {
   "cell_type": "code",
   "execution_count": 2,
   "id": "edacc8f7",
   "metadata": {
    "execution": {
     "iopub.execute_input": "2025-03-11T07:07:43.810110Z",
     "iopub.status.busy": "2025-03-11T07:07:43.809622Z",
     "iopub.status.idle": "2025-03-11T07:07:43.845637Z",
     "shell.execute_reply": "2025-03-11T07:07:43.844560Z"
    },
    "papermill": {
     "duration": 0.059532,
     "end_time": "2025-03-11T07:07:43.847540",
     "exception": false,
     "start_time": "2025-03-11T07:07:43.788008",
     "status": "completed"
    },
    "tags": []
   },
   "outputs": [],
   "source": [
    "train_df = pd.read_csv(\"/kaggle/input/titanic/train.csv\")\n",
    "test_df = pd.read_csv(\"/kaggle/input/titanic/test.csv\")\n",
    "test_PassangerId = test_df[\"PassengerId\"]"
   ]
  },
  {
   "cell_type": "code",
   "execution_count": 3,
   "id": "f02ba9cb",
   "metadata": {
    "execution": {
     "iopub.execute_input": "2025-03-11T07:07:43.886626Z",
     "iopub.status.busy": "2025-03-11T07:07:43.886322Z",
     "iopub.status.idle": "2025-03-11T07:07:43.892679Z",
     "shell.execute_reply": "2025-03-11T07:07:43.891823Z"
    },
    "papermill": {
     "duration": 0.027166,
     "end_time": "2025-03-11T07:07:43.894054",
     "exception": false,
     "start_time": "2025-03-11T07:07:43.866888",
     "status": "completed"
    },
    "tags": []
   },
   "outputs": [
    {
     "data": {
      "text/plain": [
       "Index(['PassengerId', 'Survived', 'Pclass', 'Name', 'Sex', 'Age', 'SibSp',\n",
       "       'Parch', 'Ticket', 'Fare', 'Cabin', 'Embarked'],\n",
       "      dtype='object')"
      ]
     },
     "execution_count": 3,
     "metadata": {},
     "output_type": "execute_result"
    }
   ],
   "source": [
    "train_df.columns"
   ]
  },
  {
   "cell_type": "code",
   "execution_count": 4,
   "id": "daa2d472",
   "metadata": {
    "execution": {
     "iopub.execute_input": "2025-03-11T07:07:43.933291Z",
     "iopub.status.busy": "2025-03-11T07:07:43.932907Z",
     "iopub.status.idle": "2025-03-11T07:07:43.956183Z",
     "shell.execute_reply": "2025-03-11T07:07:43.955249Z"
    },
    "papermill": {
     "duration": 0.044532,
     "end_time": "2025-03-11T07:07:43.957760",
     "exception": false,
     "start_time": "2025-03-11T07:07:43.913228",
     "status": "completed"
    },
    "tags": []
   },
   "outputs": [
    {
     "data": {
      "text/html": [
       "<div>\n",
       "<style scoped>\n",
       "    .dataframe tbody tr th:only-of-type {\n",
       "        vertical-align: middle;\n",
       "    }\n",
       "\n",
       "    .dataframe tbody tr th {\n",
       "        vertical-align: top;\n",
       "    }\n",
       "\n",
       "    .dataframe thead th {\n",
       "        text-align: right;\n",
       "    }\n",
       "</style>\n",
       "<table border=\"1\" class=\"dataframe\">\n",
       "  <thead>\n",
       "    <tr style=\"text-align: right;\">\n",
       "      <th></th>\n",
       "      <th>PassengerId</th>\n",
       "      <th>Survived</th>\n",
       "      <th>Pclass</th>\n",
       "      <th>Name</th>\n",
       "      <th>Sex</th>\n",
       "      <th>Age</th>\n",
       "      <th>SibSp</th>\n",
       "      <th>Parch</th>\n",
       "      <th>Ticket</th>\n",
       "      <th>Fare</th>\n",
       "      <th>Cabin</th>\n",
       "      <th>Embarked</th>\n",
       "    </tr>\n",
       "  </thead>\n",
       "  <tbody>\n",
       "    <tr>\n",
       "      <th>0</th>\n",
       "      <td>1</td>\n",
       "      <td>0</td>\n",
       "      <td>3</td>\n",
       "      <td>Braund, Mr. Owen Harris</td>\n",
       "      <td>male</td>\n",
       "      <td>22.0</td>\n",
       "      <td>1</td>\n",
       "      <td>0</td>\n",
       "      <td>A/5 21171</td>\n",
       "      <td>7.2500</td>\n",
       "      <td>NaN</td>\n",
       "      <td>S</td>\n",
       "    </tr>\n",
       "    <tr>\n",
       "      <th>1</th>\n",
       "      <td>2</td>\n",
       "      <td>1</td>\n",
       "      <td>1</td>\n",
       "      <td>Cumings, Mrs. John Bradley (Florence Briggs Th...</td>\n",
       "      <td>female</td>\n",
       "      <td>38.0</td>\n",
       "      <td>1</td>\n",
       "      <td>0</td>\n",
       "      <td>PC 17599</td>\n",
       "      <td>71.2833</td>\n",
       "      <td>C85</td>\n",
       "      <td>C</td>\n",
       "    </tr>\n",
       "    <tr>\n",
       "      <th>2</th>\n",
       "      <td>3</td>\n",
       "      <td>1</td>\n",
       "      <td>3</td>\n",
       "      <td>Heikkinen, Miss. Laina</td>\n",
       "      <td>female</td>\n",
       "      <td>26.0</td>\n",
       "      <td>0</td>\n",
       "      <td>0</td>\n",
       "      <td>STON/O2. 3101282</td>\n",
       "      <td>7.9250</td>\n",
       "      <td>NaN</td>\n",
       "      <td>S</td>\n",
       "    </tr>\n",
       "    <tr>\n",
       "      <th>3</th>\n",
       "      <td>4</td>\n",
       "      <td>1</td>\n",
       "      <td>1</td>\n",
       "      <td>Futrelle, Mrs. Jacques Heath (Lily May Peel)</td>\n",
       "      <td>female</td>\n",
       "      <td>35.0</td>\n",
       "      <td>1</td>\n",
       "      <td>0</td>\n",
       "      <td>113803</td>\n",
       "      <td>53.1000</td>\n",
       "      <td>C123</td>\n",
       "      <td>S</td>\n",
       "    </tr>\n",
       "    <tr>\n",
       "      <th>4</th>\n",
       "      <td>5</td>\n",
       "      <td>0</td>\n",
       "      <td>3</td>\n",
       "      <td>Allen, Mr. William Henry</td>\n",
       "      <td>male</td>\n",
       "      <td>35.0</td>\n",
       "      <td>0</td>\n",
       "      <td>0</td>\n",
       "      <td>373450</td>\n",
       "      <td>8.0500</td>\n",
       "      <td>NaN</td>\n",
       "      <td>S</td>\n",
       "    </tr>\n",
       "  </tbody>\n",
       "</table>\n",
       "</div>"
      ],
      "text/plain": [
       "   PassengerId  Survived  Pclass  \\\n",
       "0            1         0       3   \n",
       "1            2         1       1   \n",
       "2            3         1       3   \n",
       "3            4         1       1   \n",
       "4            5         0       3   \n",
       "\n",
       "                                                Name     Sex   Age  SibSp  \\\n",
       "0                            Braund, Mr. Owen Harris    male  22.0      1   \n",
       "1  Cumings, Mrs. John Bradley (Florence Briggs Th...  female  38.0      1   \n",
       "2                             Heikkinen, Miss. Laina  female  26.0      0   \n",
       "3       Futrelle, Mrs. Jacques Heath (Lily May Peel)  female  35.0      1   \n",
       "4                           Allen, Mr. William Henry    male  35.0      0   \n",
       "\n",
       "   Parch            Ticket     Fare Cabin Embarked  \n",
       "0      0         A/5 21171   7.2500   NaN        S  \n",
       "1      0          PC 17599  71.2833   C85        C  \n",
       "2      0  STON/O2. 3101282   7.9250   NaN        S  \n",
       "3      0            113803  53.1000  C123        S  \n",
       "4      0            373450   8.0500   NaN        S  "
      ]
     },
     "execution_count": 4,
     "metadata": {},
     "output_type": "execute_result"
    }
   ],
   "source": [
    "train_df.head()"
   ]
  },
  {
   "cell_type": "code",
   "execution_count": 5,
   "id": "11477922",
   "metadata": {
    "execution": {
     "iopub.execute_input": "2025-03-11T07:07:43.997318Z",
     "iopub.status.busy": "2025-03-11T07:07:43.996915Z",
     "iopub.status.idle": "2025-03-11T07:07:44.027768Z",
     "shell.execute_reply": "2025-03-11T07:07:44.026648Z"
    },
    "papermill": {
     "duration": 0.052396,
     "end_time": "2025-03-11T07:07:44.029493",
     "exception": false,
     "start_time": "2025-03-11T07:07:43.977097",
     "status": "completed"
    },
    "tags": []
   },
   "outputs": [
    {
     "data": {
      "text/html": [
       "<div>\n",
       "<style scoped>\n",
       "    .dataframe tbody tr th:only-of-type {\n",
       "        vertical-align: middle;\n",
       "    }\n",
       "\n",
       "    .dataframe tbody tr th {\n",
       "        vertical-align: top;\n",
       "    }\n",
       "\n",
       "    .dataframe thead th {\n",
       "        text-align: right;\n",
       "    }\n",
       "</style>\n",
       "<table border=\"1\" class=\"dataframe\">\n",
       "  <thead>\n",
       "    <tr style=\"text-align: right;\">\n",
       "      <th></th>\n",
       "      <th>PassengerId</th>\n",
       "      <th>Survived</th>\n",
       "      <th>Pclass</th>\n",
       "      <th>Age</th>\n",
       "      <th>SibSp</th>\n",
       "      <th>Parch</th>\n",
       "      <th>Fare</th>\n",
       "    </tr>\n",
       "  </thead>\n",
       "  <tbody>\n",
       "    <tr>\n",
       "      <th>count</th>\n",
       "      <td>891.000000</td>\n",
       "      <td>891.000000</td>\n",
       "      <td>891.000000</td>\n",
       "      <td>714.000000</td>\n",
       "      <td>891.000000</td>\n",
       "      <td>891.000000</td>\n",
       "      <td>891.000000</td>\n",
       "    </tr>\n",
       "    <tr>\n",
       "      <th>mean</th>\n",
       "      <td>446.000000</td>\n",
       "      <td>0.383838</td>\n",
       "      <td>2.308642</td>\n",
       "      <td>29.699118</td>\n",
       "      <td>0.523008</td>\n",
       "      <td>0.381594</td>\n",
       "      <td>32.204208</td>\n",
       "    </tr>\n",
       "    <tr>\n",
       "      <th>std</th>\n",
       "      <td>257.353842</td>\n",
       "      <td>0.486592</td>\n",
       "      <td>0.836071</td>\n",
       "      <td>14.526497</td>\n",
       "      <td>1.102743</td>\n",
       "      <td>0.806057</td>\n",
       "      <td>49.693429</td>\n",
       "    </tr>\n",
       "    <tr>\n",
       "      <th>min</th>\n",
       "      <td>1.000000</td>\n",
       "      <td>0.000000</td>\n",
       "      <td>1.000000</td>\n",
       "      <td>0.420000</td>\n",
       "      <td>0.000000</td>\n",
       "      <td>0.000000</td>\n",
       "      <td>0.000000</td>\n",
       "    </tr>\n",
       "    <tr>\n",
       "      <th>25%</th>\n",
       "      <td>223.500000</td>\n",
       "      <td>0.000000</td>\n",
       "      <td>2.000000</td>\n",
       "      <td>20.125000</td>\n",
       "      <td>0.000000</td>\n",
       "      <td>0.000000</td>\n",
       "      <td>7.910400</td>\n",
       "    </tr>\n",
       "    <tr>\n",
       "      <th>50%</th>\n",
       "      <td>446.000000</td>\n",
       "      <td>0.000000</td>\n",
       "      <td>3.000000</td>\n",
       "      <td>28.000000</td>\n",
       "      <td>0.000000</td>\n",
       "      <td>0.000000</td>\n",
       "      <td>14.454200</td>\n",
       "    </tr>\n",
       "    <tr>\n",
       "      <th>75%</th>\n",
       "      <td>668.500000</td>\n",
       "      <td>1.000000</td>\n",
       "      <td>3.000000</td>\n",
       "      <td>38.000000</td>\n",
       "      <td>1.000000</td>\n",
       "      <td>0.000000</td>\n",
       "      <td>31.000000</td>\n",
       "    </tr>\n",
       "    <tr>\n",
       "      <th>max</th>\n",
       "      <td>891.000000</td>\n",
       "      <td>1.000000</td>\n",
       "      <td>3.000000</td>\n",
       "      <td>80.000000</td>\n",
       "      <td>8.000000</td>\n",
       "      <td>6.000000</td>\n",
       "      <td>512.329200</td>\n",
       "    </tr>\n",
       "  </tbody>\n",
       "</table>\n",
       "</div>"
      ],
      "text/plain": [
       "       PassengerId    Survived      Pclass         Age       SibSp  \\\n",
       "count   891.000000  891.000000  891.000000  714.000000  891.000000   \n",
       "mean    446.000000    0.383838    2.308642   29.699118    0.523008   \n",
       "std     257.353842    0.486592    0.836071   14.526497    1.102743   \n",
       "min       1.000000    0.000000    1.000000    0.420000    0.000000   \n",
       "25%     223.500000    0.000000    2.000000   20.125000    0.000000   \n",
       "50%     446.000000    0.000000    3.000000   28.000000    0.000000   \n",
       "75%     668.500000    1.000000    3.000000   38.000000    1.000000   \n",
       "max     891.000000    1.000000    3.000000   80.000000    8.000000   \n",
       "\n",
       "            Parch        Fare  \n",
       "count  891.000000  891.000000  \n",
       "mean     0.381594   32.204208  \n",
       "std      0.806057   49.693429  \n",
       "min      0.000000    0.000000  \n",
       "25%      0.000000    7.910400  \n",
       "50%      0.000000   14.454200  \n",
       "75%      0.000000   31.000000  \n",
       "max      6.000000  512.329200  "
      ]
     },
     "execution_count": 5,
     "metadata": {},
     "output_type": "execute_result"
    }
   ],
   "source": [
    "train_df.describe()"
   ]
  },
  {
   "cell_type": "markdown",
   "id": "322d3791",
   "metadata": {
    "papermill": {
     "duration": 0.019575,
     "end_time": "2025-03-11T07:07:44.068864",
     "exception": false,
     "start_time": "2025-03-11T07:07:44.049289",
     "status": "completed"
    },
    "tags": []
   },
   "source": [
    "<a id = \"2\"></a><br>\n",
    "# Variable Description\n",
    "1. PassengerId: Unique id number to each passanger\n",
    "1. Survived: Passanger survived (1) or died (0)\n",
    "1. Pclass: Passenger class\n",
    "1. Name: Name\n",
    "1. Sex: Gender\n",
    "1. Age: Age\n",
    "1. SibSp: Number of siblings/spouses\n",
    "1. Parch: Number of parents/children\n",
    "1. Ticket: Ticket number\n",
    "1. Fare: Amount of money spent on ticket\n",
    "1. Cabin: Cabin\n",
    "1. Embarked: Port where passenger embarked (C = Cherbourg, Q = Queenstown, S = Southampton"
   ]
  },
  {
   "cell_type": "code",
   "execution_count": 6,
   "id": "d47a3d15",
   "metadata": {
    "execution": {
     "iopub.execute_input": "2025-03-11T07:07:44.108515Z",
     "iopub.status.busy": "2025-03-11T07:07:44.108085Z",
     "iopub.status.idle": "2025-03-11T07:07:44.134031Z",
     "shell.execute_reply": "2025-03-11T07:07:44.132857Z"
    },
    "papermill": {
     "duration": 0.047525,
     "end_time": "2025-03-11T07:07:44.135659",
     "exception": false,
     "start_time": "2025-03-11T07:07:44.088134",
     "status": "completed"
    },
    "tags": []
   },
   "outputs": [
    {
     "name": "stdout",
     "output_type": "stream",
     "text": [
      "<class 'pandas.core.frame.DataFrame'>\n",
      "RangeIndex: 891 entries, 0 to 890\n",
      "Data columns (total 12 columns):\n",
      " #   Column       Non-Null Count  Dtype  \n",
      "---  ------       --------------  -----  \n",
      " 0   PassengerId  891 non-null    int64  \n",
      " 1   Survived     891 non-null    int64  \n",
      " 2   Pclass       891 non-null    int64  \n",
      " 3   Name         891 non-null    object \n",
      " 4   Sex          891 non-null    object \n",
      " 5   Age          714 non-null    float64\n",
      " 6   SibSp        891 non-null    int64  \n",
      " 7   Parch        891 non-null    int64  \n",
      " 8   Ticket       891 non-null    object \n",
      " 9   Fare         891 non-null    float64\n",
      " 10  Cabin        204 non-null    object \n",
      " 11  Embarked     889 non-null    object \n",
      "dtypes: float64(2), int64(5), object(5)\n",
      "memory usage: 83.7+ KB\n"
     ]
    }
   ],
   "source": [
    "train_df.info()"
   ]
  },
  {
   "cell_type": "markdown",
   "id": "73fc9d13",
   "metadata": {
    "papermill": {
     "duration": 0.01905,
     "end_time": "2025-03-11T07:07:44.174678",
     "exception": false,
     "start_time": "2025-03-11T07:07:44.155628",
     "status": "completed"
    },
    "tags": []
   },
   "source": [
    "* float64(2): Fare and Age\n",
    "* int64(5): Pclass, SibSp, Parch, PassengerId and Survived\n",
    "* object(5): Cabin, Embarked, Name, Sex, Ticket"
   ]
  },
  {
   "cell_type": "markdown",
   "id": "9cbaf0c3",
   "metadata": {
    "papermill": {
     "duration": 0.018804,
     "end_time": "2025-03-11T07:07:44.212773",
     "exception": false,
     "start_time": "2025-03-11T07:07:44.193969",
     "status": "completed"
    },
    "tags": []
   },
   "source": [
    "<a id = \"3\"></a><br>\n",
    "# Univariate Variable Analysis\n",
    "* Categorical Variable: Survived, Sex, Pclass, Embarked, Cabin, Name, Ticket, SibSp and Parch\n",
    "* Numerical Variable: Age, Fare and PassengerId"
   ]
  },
  {
   "cell_type": "markdown",
   "id": "d0bba501",
   "metadata": {
    "papermill": {
     "duration": 0.019743,
     "end_time": "2025-03-11T07:07:44.253084",
     "exception": false,
     "start_time": "2025-03-11T07:07:44.233341",
     "status": "completed"
    },
    "tags": []
   },
   "source": [
    "<a id = \"4\"></a><br>\n",
    "# Categorial Variable"
   ]
  },
  {
   "cell_type": "code",
   "execution_count": 7,
   "id": "39da8c93",
   "metadata": {
    "execution": {
     "iopub.execute_input": "2025-03-11T07:07:44.292725Z",
     "iopub.status.busy": "2025-03-11T07:07:44.292397Z",
     "iopub.status.idle": "2025-03-11T07:07:44.298254Z",
     "shell.execute_reply": "2025-03-11T07:07:44.297274Z"
    },
    "papermill": {
     "duration": 0.027368,
     "end_time": "2025-03-11T07:07:44.299680",
     "exception": false,
     "start_time": "2025-03-11T07:07:44.272312",
     "status": "completed"
    },
    "tags": []
   },
   "outputs": [],
   "source": [
    "def bar_plot(variable):\n",
    "    \"\"\"\n",
    "        input: variable\n",
    "        output: bar plot & value count\n",
    "    \"\"\"\n",
    "    # get feature\n",
    "    var = train_df[variable]\n",
    "    # count number of categorical variable(value)\n",
    "    varValue = var.value_counts()\n",
    "\n",
    "    #visualize\n",
    "    plt.figure(figsize = (9,3))\n",
    "    plt.bar(varValue.index, varValue)\n",
    "    plt.xticks(varValue.index, varValue.index.values)\n",
    "    plt.ylabel(\"Frequency\")\n",
    "    plt.title(variable)\n",
    "    plt.show()\n",
    "    print(\"{}: \\n {}\" .format(variable,varValue))"
   ]
  },
  {
   "cell_type": "code",
   "execution_count": 8,
   "id": "58fb8da5",
   "metadata": {
    "execution": {
     "iopub.execute_input": "2025-03-11T07:07:44.339124Z",
     "iopub.status.busy": "2025-03-11T07:07:44.338801Z",
     "iopub.status.idle": "2025-03-11T07:07:45.295991Z",
     "shell.execute_reply": "2025-03-11T07:07:45.294943Z"
    },
    "papermill": {
     "duration": 0.978886,
     "end_time": "2025-03-11T07:07:45.297685",
     "exception": false,
     "start_time": "2025-03-11T07:07:44.318799",
     "status": "completed"
    },
    "tags": []
   },
   "outputs": [
    {
     "data": {
      "image/png": "[encoded data removed]",
      "text/plain": [
       "<Figure size 900x300 with 1 Axes>"
      ]
     },
     "metadata": {},
     "output_type": "display_data"
    },
    {
     "name": "stdout",
     "output_type": "stream",
     "text": [
      "Survived: \n",
      " Survived\n",
      "0    549\n",
      "1    342\n",
      "Name: count, dtype: int64\n"
     ]
    },
    {
     "data": {
      "image/png": "[encoded data removed]",
      "text/plain": [
       "<Figure size 900x300 with 1 Axes>"
      ]
     },
     "metadata": {},
     "output_type": "display_data"
    },
    {
     "name": "stdout",
     "output_type": "stream",
     "text": [
      "Sex: \n",
      " Sex\n",
      "male      577\n",
      "female    314\n",
      "Name: count, dtype: int64\n"
     ]
    },
    {
     "data": {
      "image/png": "[encoded data removed]",
      "text/plain": [
       "<Figure size 900x300 with 1 Axes>"
      ]
     },
     "metadata": {},
     "output_type": "display_data"
    },
    {
     "name": "stdout",
     "output_type": "stream",
     "text": [
      "Pclass: \n",
      " Pclass\n",
      "3    491\n",
      "1    216\n",
      "2    184\n",
      "Name: count, dtype: int64\n"
     ]
    },
    {
     "data": {
      "image/png": "[encoded data removed]",
      "text/plain": [
       "<Figure size 900x300 with 1 Axes>"
      ]
     },
     "metadata": {},
     "output_type": "display_data"
    },
    {
     "name": "stdout",
     "output_type": "stream",
     "text": [
      "Embarked: \n",
      " Embarked\n",
      "S    644\n",
      "C    168\n",
      "Q     77\n",
      "Name: count, dtype: int64\n"
     ]
    },
    {
     "data": {
      "image/png": "[encoded data removed]",
      "text/plain": [
       "<Figure size 900x300 with 1 Axes>"
      ]
     },
     "metadata": {},
     "output_type": "display_data"
    },
    {
     "name": "stdout",
     "output_type": "stream",
     "text": [
      "SibSp: \n",
      " SibSp\n",
      "0    608\n",
      "1    209\n",
      "2     28\n",
      "4     18\n",
      "3     16\n",
      "8      7\n",
      "5      5\n",
      "Name: count, dtype: int64\n"
     ]
    },
    {
     "data": {
      "image/png": "[encoded data removed]",
      "text/plain": [
       "<Figure size 900x300 with 1 Axes>"
      ]
     },
     "metadata": {},
     "output_type": "display_data"
    },
    {
     "name": "stdout",
     "output_type": "stream",
     "text": [
      "Parch: \n",
      " Parch\n",
      "0    678\n",
      "1    118\n",
      "2     80\n",
      "5      5\n",
      "3      5\n",
      "4      4\n",
      "6      1\n",
      "Name: count, dtype: int64\n"
     ]
    }
   ],
   "source": [
    "category1 = [\"Survived\",\"Sex\",\"Pclass\",\"Embarked\",\"SibSp\",\"Parch\"]\n",
    "for c in category1:\n",
    "    bar_plot(c)"
   ]
  },
  {
   "cell_type": "code",
   "execution_count": 9,
   "id": "3f118427",
   "metadata": {
    "execution": {
     "iopub.execute_input": "2025-03-11T07:07:45.343519Z",
     "iopub.status.busy": "2025-03-11T07:07:45.343154Z",
     "iopub.status.idle": "2025-03-11T07:07:45.353584Z",
     "shell.execute_reply": "2025-03-11T07:07:45.352628Z"
    },
    "papermill": {
     "duration": 0.035034,
     "end_time": "2025-03-11T07:07:45.355091",
     "exception": false,
     "start_time": "2025-03-11T07:07:45.320057",
     "status": "completed"
    },
    "tags": []
   },
   "outputs": [
    {
     "name": "stdout",
     "output_type": "stream",
     "text": [
      "Cabin\n",
      "B96 B98        4\n",
      "G6             4\n",
      "C23 C25 C27    4\n",
      "C22 C26        3\n",
      "F33            3\n",
      "              ..\n",
      "E34            1\n",
      "C7             1\n",
      "C54            1\n",
      "E36            1\n",
      "C148           1\n",
      "Name: count, Length: 147, dtype: int64 \n",
      "\n",
      "Name\n",
      "Braund, Mr. Owen Harris                     1\n",
      "Boulos, Mr. Hanna                           1\n",
      "Frolicher-Stehli, Mr. Maxmillian            1\n",
      "Gilinski, Mr. Eliezer                       1\n",
      "Murdlin, Mr. Joseph                         1\n",
      "                                           ..\n",
      "Kelly, Miss. Anna Katherine \"Annie Kate\"    1\n",
      "McCoy, Mr. Bernard                          1\n",
      "Johnson, Mr. William Cahoone Jr             1\n",
      "Keane, Miss. Nora A                         1\n",
      "Dooley, Mr. Patrick                         1\n",
      "Name: count, Length: 891, dtype: int64 \n",
      "\n",
      "Ticket\n",
      "347082      7\n",
      "CA. 2343    7\n",
      "1601        7\n",
      "3101295     6\n",
      "CA 2144     6\n",
      "           ..\n",
      "9234        1\n",
      "19988       1\n",
      "2693        1\n",
      "PC 17612    1\n",
      "370376      1\n",
      "Name: count, Length: 681, dtype: int64 \n",
      "\n"
     ]
    }
   ],
   "source": [
    "category2 = [\"Cabin\", \"Name\", \"Ticket\"]\n",
    "for c in category2:\n",
    "    print(\"{} \\n\".format(train_df[c].value_counts()))"
   ]
  },
  {
   "cell_type": "markdown",
   "id": "1869aa7b",
   "metadata": {
    "papermill": {
     "duration": 0.022468,
     "end_time": "2025-03-11T07:07:45.399473",
     "exception": false,
     "start_time": "2025-03-11T07:07:45.377005",
     "status": "completed"
    },
    "tags": []
   },
   "source": [
    "<a id = \"5\"></a><br>\n",
    "# Numerical Variable"
   ]
  },
  {
   "cell_type": "code",
   "execution_count": 10,
   "id": "699525fc",
   "metadata": {
    "execution": {
     "iopub.execute_input": "2025-03-11T07:07:45.486122Z",
     "iopub.status.busy": "2025-03-11T07:07:45.485789Z",
     "iopub.status.idle": "2025-03-11T07:07:45.490169Z",
     "shell.execute_reply": "2025-03-11T07:07:45.489329Z"
    },
    "papermill": {
     "duration": 0.028392,
     "end_time": "2025-03-11T07:07:45.491717",
     "exception": false,
     "start_time": "2025-03-11T07:07:45.463325",
     "status": "completed"
    },
    "tags": []
   },
   "outputs": [],
   "source": [
    "def plot_hist(variable):\n",
    "    plt.figure(figsize=(9,3))\n",
    "    plt.hist(train_df[variable], bins = 50)\n",
    "    plt.xlabel(variable)\n",
    "    plt.ylabel(\"Frequency\")\n",
    "    plt.title(\"{} distribution with hist\".format(variable))\n",
    "    plt.show()"
   ]
  },
  {
   "cell_type": "code",
   "execution_count": 11,
   "id": "dd735538",
   "metadata": {
    "execution": {
     "iopub.execute_input": "2025-03-11T07:07:45.536152Z",
     "iopub.status.busy": "2025-03-11T07:07:45.535803Z",
     "iopub.status.idle": "2025-03-11T07:07:46.376899Z",
     "shell.execute_reply": "2025-03-11T07:07:46.375743Z"
    },
    "papermill": {
     "duration": 0.865246,
     "end_time": "2025-03-11T07:07:46.378619",
     "exception": false,
     "start_time": "2025-03-11T07:07:45.513373",
     "status": "completed"
    },
    "tags": []
   },
   "outputs": [
    {
     "data": {
      "image/png": "[encoded data removed]",
      "text/plain": [
       "<Figure size 900x300 with 1 Axes>"
      ]
     },
     "metadata": {},
     "output_type": "display_data"
    },
    {
     "data": {
      "image/png": "[encoded data removed]",
      "text/plain": [
       "<Figure size 900x300 with 1 Axes>"
      ]
     },
     "metadata": {},
     "output_type": "display_data"
    },
    {
     "data": {
      "image/png": "[encoded data removed]",
      "text/plain": [
       "<Figure size 900x300 with 1 Axes>"
      ]
     },
     "metadata": {},
     "output_type": "display_data"
    }
   ],
   "source": [
    "numericVar = [\"Fare\", \"Age\", \"PassengerId\"]\n",
    "for n in numericVar:\n",
    "    plot_hist(n)"
   ]
  },
  {
   "cell_type": "markdown",
   "id": "20266859",
   "metadata": {
    "papermill": {
     "duration": 0.022269,
     "end_time": "2025-03-11T07:07:46.424058",
     "exception": false,
     "start_time": "2025-03-11T07:07:46.401789",
     "status": "completed"
    },
    "tags": []
   },
   "source": [
    "<a id = \"6\"></a><br>\n",
    "# Basic Data Analysis\n",
    "* Pclass - Survived\n",
    "* Sex - Survived\n",
    "* SibSp - Survived\n",
    "* Parch - Survived"
   ]
  },
  {
   "cell_type": "code",
   "execution_count": 12,
   "id": "16515372",
   "metadata": {
    "execution": {
     "iopub.execute_input": "2025-03-11T07:07:46.470316Z",
     "iopub.status.busy": "2025-03-11T07:07:46.469916Z",
     "iopub.status.idle": "2025-03-11T07:07:46.483290Z",
     "shell.execute_reply": "2025-03-11T07:07:46.482394Z"
    },
    "papermill": {
     "duration": 0.038258,
     "end_time": "2025-03-11T07:07:46.484828",
     "exception": false,
     "start_time": "2025-03-11T07:07:46.446570",
     "status": "completed"
    },
    "tags": []
   },
   "outputs": [
    {
     "data": {
      "text/html": [
       "<div>\n",
       "<style scoped>\n",
       "    .dataframe tbody tr th:only-of-type {\n",
       "        vertical-align: middle;\n",
       "    }\n",
       "\n",
       "    .dataframe tbody tr th {\n",
       "        vertical-align: top;\n",
       "    }\n",
       "\n",
       "    .dataframe thead th {\n",
       "        text-align: right;\n",
       "    }\n",
       "</style>\n",
       "<table border=\"1\" class=\"dataframe\">\n",
       "  <thead>\n",
       "    <tr style=\"text-align: right;\">\n",
       "      <th></th>\n",
       "      <th>Pclass</th>\n",
       "      <th>Survived</th>\n",
       "    </tr>\n",
       "  </thead>\n",
       "  <tbody>\n",
       "    <tr>\n",
       "      <th>0</th>\n",
       "      <td>1</td>\n",
       "      <td>0.629630</td>\n",
       "    </tr>\n",
       "    <tr>\n",
       "      <th>1</th>\n",
       "      <td>2</td>\n",
       "      <td>0.472826</td>\n",
       "    </tr>\n",
       "    <tr>\n",
       "      <th>2</th>\n",
       "      <td>3</td>\n",
       "      <td>0.242363</td>\n",
       "    </tr>\n",
       "  </tbody>\n",
       "</table>\n",
       "</div>"
      ],
      "text/plain": [
       "   Pclass  Survived\n",
       "0       1  0.629630\n",
       "1       2  0.472826\n",
       "2       3  0.242363"
      ]
     },
     "execution_count": 12,
     "metadata": {},
     "output_type": "execute_result"
    }
   ],
   "source": [
    "# Pclass - Survived\n",
    "train_df[[\"Pclass\",\"Survived\"]].groupby([\"Pclass\"], as_index = False).mean().sort_values(by=\"Survived\",ascending=False)\n"
   ]
  },
  {
   "cell_type": "code",
   "execution_count": 13,
   "id": "7c3d032b",
   "metadata": {
    "execution": {
     "iopub.execute_input": "2025-03-11T07:07:46.531718Z",
     "iopub.status.busy": "2025-03-11T07:07:46.531386Z",
     "iopub.status.idle": "2025-03-11T07:07:46.544603Z",
     "shell.execute_reply": "2025-03-11T07:07:46.543603Z"
    },
    "papermill": {
     "duration": 0.038523,
     "end_time": "2025-03-11T07:07:46.546197",
     "exception": false,
     "start_time": "2025-03-11T07:07:46.507674",
     "status": "completed"
    },
    "tags": []
   },
   "outputs": [
    {
     "data": {
      "text/html": [
       "<div>\n",
       "<style scoped>\n",
       "    .dataframe tbody tr th:only-of-type {\n",
       "        vertical-align: middle;\n",
       "    }\n",
       "\n",
       "    .dataframe tbody tr th {\n",
       "        vertical-align: top;\n",
       "    }\n",
       "\n",
       "    .dataframe thead th {\n",
       "        text-align: right;\n",
       "    }\n",
       "</style>\n",
       "<table border=\"1\" class=\"dataframe\">\n",
       "  <thead>\n",
       "    <tr style=\"text-align: right;\">\n",
       "      <th></th>\n",
       "      <th>Sex</th>\n",
       "      <th>Survived</th>\n",
       "    </tr>\n",
       "  </thead>\n",
       "  <tbody>\n",
       "    <tr>\n",
       "      <th>0</th>\n",
       "      <td>female</td>\n",
       "      <td>0.742038</td>\n",
       "    </tr>\n",
       "    <tr>\n",
       "      <th>1</th>\n",
       "      <td>male</td>\n",
       "      <td>0.188908</td>\n",
       "    </tr>\n",
       "  </tbody>\n",
       "</table>\n",
       "</div>"
      ],
      "text/plain": [
       "      Sex  Survived\n",
       "0  female  0.742038\n",
       "1    male  0.188908"
      ]
     },
     "execution_count": 13,
     "metadata": {},
     "output_type": "execute_result"
    }
   ],
   "source": [
    "# Sex - Survived\n",
    "train_df[[\"Sex\",\"Survived\"]].groupby([\"Sex\"], as_index = False).mean().sort_values(by=\"Survived\",ascending=False)\n"
   ]
  },
  {
   "cell_type": "code",
   "execution_count": 14,
   "id": "473a0852",
   "metadata": {
    "execution": {
     "iopub.execute_input": "2025-03-11T07:07:46.594151Z",
     "iopub.status.busy": "2025-03-11T07:07:46.593808Z",
     "iopub.status.idle": "2025-03-11T07:07:46.607451Z",
     "shell.execute_reply": "2025-03-11T07:07:46.606396Z"
    },
    "papermill": {
     "duration": 0.039516,
     "end_time": "2025-03-11T07:07:46.609028",
     "exception": false,
     "start_time": "2025-03-11T07:07:46.569512",
     "status": "completed"
    },
    "tags": []
   },
   "outputs": [
    {
     "data": {
      "text/html": [
       "<div>\n",
       "<style scoped>\n",
       "    .dataframe tbody tr th:only-of-type {\n",
       "        vertical-align: middle;\n",
       "    }\n",
       "\n",
       "    .dataframe tbody tr th {\n",
       "        vertical-align: top;\n",
       "    }\n",
       "\n",
       "    .dataframe thead th {\n",
       "        text-align: right;\n",
       "    }\n",
       "</style>\n",
       "<table border=\"1\" class=\"dataframe\">\n",
       "  <thead>\n",
       "    <tr style=\"text-align: right;\">\n",
       "      <th></th>\n",
       "      <th>SibSp</th>\n",
       "      <th>Survived</th>\n",
       "    </tr>\n",
       "  </thead>\n",
       "  <tbody>\n",
       "    <tr>\n",
       "      <th>1</th>\n",
       "      <td>1</td>\n",
       "      <td>0.535885</td>\n",
       "    </tr>\n",
       "    <tr>\n",
       "      <th>2</th>\n",
       "      <td>2</td>\n",
       "      <td>0.464286</td>\n",
       "    </tr>\n",
       "    <tr>\n",
       "      <th>0</th>\n",
       "      <td>0</td>\n",
       "      <td>0.345395</td>\n",
       "    </tr>\n",
       "    <tr>\n",
       "      <th>3</th>\n",
       "      <td>3</td>\n",
       "      <td>0.250000</td>\n",
       "    </tr>\n",
       "    <tr>\n",
       "      <th>4</th>\n",
       "      <td>4</td>\n",
       "      <td>0.166667</td>\n",
       "    </tr>\n",
       "    <tr>\n",
       "      <th>5</th>\n",
       "      <td>5</td>\n",
       "      <td>0.000000</td>\n",
       "    </tr>\n",
       "    <tr>\n",
       "      <th>6</th>\n",
       "      <td>8</td>\n",
       "      <td>0.000000</td>\n",
       "    </tr>\n",
       "  </tbody>\n",
       "</table>\n",
       "</div>"
      ],
      "text/plain": [
       "   SibSp  Survived\n",
       "1      1  0.535885\n",
       "2      2  0.464286\n",
       "0      0  0.345395\n",
       "3      3  0.250000\n",
       "4      4  0.166667\n",
       "5      5  0.000000\n",
       "6      8  0.000000"
      ]
     },
     "execution_count": 14,
     "metadata": {},
     "output_type": "execute_result"
    }
   ],
   "source": [
    "# SibSp - Survived\n",
    "train_df[[\"SibSp\",\"Survived\"]].groupby([\"SibSp\"], as_index = False).mean().sort_values(by=\"Survived\",ascending=False)\n"
   ]
  },
  {
   "cell_type": "code",
   "execution_count": 15,
   "id": "7294d989",
   "metadata": {
    "execution": {
     "iopub.execute_input": "2025-03-11T07:07:46.656820Z",
     "iopub.status.busy": "2025-03-11T07:07:46.656494Z",
     "iopub.status.idle": "2025-03-11T07:07:46.668375Z",
     "shell.execute_reply": "2025-03-11T07:07:46.667167Z"
    },
    "papermill": {
     "duration": 0.037688,
     "end_time": "2025-03-11T07:07:46.670028",
     "exception": false,
     "start_time": "2025-03-11T07:07:46.632340",
     "status": "completed"
    },
    "tags": []
   },
   "outputs": [
    {
     "data": {
      "text/html": [
       "<div>\n",
       "<style scoped>\n",
       "    .dataframe tbody tr th:only-of-type {\n",
       "        vertical-align: middle;\n",
       "    }\n",
       "\n",
       "    .dataframe tbody tr th {\n",
       "        vertical-align: top;\n",
       "    }\n",
       "\n",
       "    .dataframe thead th {\n",
       "        text-align: right;\n",
       "    }\n",
       "</style>\n",
       "<table border=\"1\" class=\"dataframe\">\n",
       "  <thead>\n",
       "    <tr style=\"text-align: right;\">\n",
       "      <th></th>\n",
       "      <th>Parch</th>\n",
       "      <th>Survived</th>\n",
       "    </tr>\n",
       "  </thead>\n",
       "  <tbody>\n",
       "    <tr>\n",
       "      <th>3</th>\n",
       "      <td>3</td>\n",
       "      <td>0.600000</td>\n",
       "    </tr>\n",
       "    <tr>\n",
       "      <th>1</th>\n",
       "      <td>1</td>\n",
       "      <td>0.550847</td>\n",
       "    </tr>\n",
       "    <tr>\n",
       "      <th>2</th>\n",
       "      <td>2</td>\n",
       "      <td>0.500000</td>\n",
       "    </tr>\n",
       "    <tr>\n",
       "      <th>0</th>\n",
       "      <td>0</td>\n",
       "      <td>0.343658</td>\n",
       "    </tr>\n",
       "    <tr>\n",
       "      <th>5</th>\n",
       "      <td>5</td>\n",
       "      <td>0.200000</td>\n",
       "    </tr>\n",
       "    <tr>\n",
       "      <th>4</th>\n",
       "      <td>4</td>\n",
       "      <td>0.000000</td>\n",
       "    </tr>\n",
       "    <tr>\n",
       "      <th>6</th>\n",
       "      <td>6</td>\n",
       "      <td>0.000000</td>\n",
       "    </tr>\n",
       "  </tbody>\n",
       "</table>\n",
       "</div>"
      ],
      "text/plain": [
       "   Parch  Survived\n",
       "3      3  0.600000\n",
       "1      1  0.550847\n",
       "2      2  0.500000\n",
       "0      0  0.343658\n",
       "5      5  0.200000\n",
       "4      4  0.000000\n",
       "6      6  0.000000"
      ]
     },
     "execution_count": 15,
     "metadata": {},
     "output_type": "execute_result"
    }
   ],
   "source": [
    "# Parch - Survived\n",
    "train_df[[\"Parch\",\"Survived\"]].groupby([\"Parch\"], as_index = False).mean().sort_values(by=\"Survived\",ascending=False)\n"
   ]
  },
  {
   "cell_type": "markdown",
   "id": "0b3b9417",
   "metadata": {
    "papermill": {
     "duration": 0.02325,
     "end_time": "2025-03-11T07:07:46.716666",
     "exception": false,
     "start_time": "2025-03-11T07:07:46.693416",
     "status": "completed"
    },
    "tags": []
   },
   "source": [
    "<a id = \"7\"></a><br>\n",
    "# Outlier Dedection\n"
   ]
  },
  {
   "cell_type": "code",
   "execution_count": 16,
   "id": "03a0578e",
   "metadata": {
    "execution": {
     "iopub.execute_input": "2025-03-11T07:07:46.764971Z",
     "iopub.status.busy": "2025-03-11T07:07:46.764634Z",
     "iopub.status.idle": "2025-03-11T07:07:46.770237Z",
     "shell.execute_reply": "2025-03-11T07:07:46.769302Z"
    },
    "papermill": {
     "duration": 0.031981,
     "end_time": "2025-03-11T07:07:46.771809",
     "exception": false,
     "start_time": "2025-03-11T07:07:46.739828",
     "status": "completed"
    },
    "tags": []
   },
   "outputs": [],
   "source": [
    "def detect_outliers(df,features):\n",
    "    outlier_indices = []\n",
    "\n",
    "    for c in features:\n",
    "        # 1st quartile\n",
    "        Q1 = np.percentile(df[c],25)\n",
    "        # 3rd quartile\n",
    "        Q3 = np.percentile(df[c],75)\n",
    "        # IQR\n",
    "        IQR = Q3 - Q1\n",
    "        # Outlier step\n",
    "        outlier_step = IQR * 1.5\n",
    "        # Dedect outlier and their indices\n",
    "        outlier_list_col = df[(df[c] < Q1 - outlier_step) | (df[c] > Q3 + outlier_step)].index\n",
    "        #Store indices\n",
    "        outlier_indices.extend(outlier_list_col)\n",
    "   \n",
    "    outlier_indices = Counter(outlier_indices)\n",
    "    multiple_outliers = list(i for i, v in outlier_indices.items() if v>2)\n",
    "\n",
    "    return multiple_outliers"
   ]
  },
  {
   "cell_type": "code",
   "execution_count": 17,
   "id": "0f430a69",
   "metadata": {
    "execution": {
     "iopub.execute_input": "2025-03-11T07:07:46.821902Z",
     "iopub.status.busy": "2025-03-11T07:07:46.821602Z",
     "iopub.status.idle": "2025-03-11T07:07:46.843416Z",
     "shell.execute_reply": "2025-03-11T07:07:46.842456Z"
    },
    "papermill": {
     "duration": 0.049467,
     "end_time": "2025-03-11T07:07:46.845105",
     "exception": false,
     "start_time": "2025-03-11T07:07:46.795638",
     "status": "completed"
    },
    "tags": []
   },
   "outputs": [
    {
     "data": {
      "text/html": [
       "<div>\n",
       "<style scoped>\n",
       "    .dataframe tbody tr th:only-of-type {\n",
       "        vertical-align: middle;\n",
       "    }\n",
       "\n",
       "    .dataframe tbody tr th {\n",
       "        vertical-align: top;\n",
       "    }\n",
       "\n",
       "    .dataframe thead th {\n",
       "        text-align: right;\n",
       "    }\n",
       "</style>\n",
       "<table border=\"1\" class=\"dataframe\">\n",
       "  <thead>\n",
       "    <tr style=\"text-align: right;\">\n",
       "      <th></th>\n",
       "      <th>PassengerId</th>\n",
       "      <th>Survived</th>\n",
       "      <th>Pclass</th>\n",
       "      <th>Name</th>\n",
       "      <th>Sex</th>\n",
       "      <th>Age</th>\n",
       "      <th>SibSp</th>\n",
       "      <th>Parch</th>\n",
       "      <th>Ticket</th>\n",
       "      <th>Fare</th>\n",
       "      <th>Cabin</th>\n",
       "      <th>Embarked</th>\n",
       "    </tr>\n",
       "  </thead>\n",
       "  <tbody>\n",
       "    <tr>\n",
       "      <th>27</th>\n",
       "      <td>28</td>\n",
       "      <td>0</td>\n",
       "      <td>1</td>\n",
       "      <td>Fortune, Mr. Charles Alexander</td>\n",
       "      <td>male</td>\n",
       "      <td>19.0</td>\n",
       "      <td>3</td>\n",
       "      <td>2</td>\n",
       "      <td>19950</td>\n",
       "      <td>263.00</td>\n",
       "      <td>C23 C25 C27</td>\n",
       "      <td>S</td>\n",
       "    </tr>\n",
       "    <tr>\n",
       "      <th>88</th>\n",
       "      <td>89</td>\n",
       "      <td>1</td>\n",
       "      <td>1</td>\n",
       "      <td>Fortune, Miss. Mabel Helen</td>\n",
       "      <td>female</td>\n",
       "      <td>23.0</td>\n",
       "      <td>3</td>\n",
       "      <td>2</td>\n",
       "      <td>19950</td>\n",
       "      <td>263.00</td>\n",
       "      <td>C23 C25 C27</td>\n",
       "      <td>S</td>\n",
       "    </tr>\n",
       "    <tr>\n",
       "      <th>159</th>\n",
       "      <td>160</td>\n",
       "      <td>0</td>\n",
       "      <td>3</td>\n",
       "      <td>Sage, Master. Thomas Henry</td>\n",
       "      <td>male</td>\n",
       "      <td>NaN</td>\n",
       "      <td>8</td>\n",
       "      <td>2</td>\n",
       "      <td>CA. 2343</td>\n",
       "      <td>69.55</td>\n",
       "      <td>NaN</td>\n",
       "      <td>S</td>\n",
       "    </tr>\n",
       "    <tr>\n",
       "      <th>180</th>\n",
       "      <td>181</td>\n",
       "      <td>0</td>\n",
       "      <td>3</td>\n",
       "      <td>Sage, Miss. Constance Gladys</td>\n",
       "      <td>female</td>\n",
       "      <td>NaN</td>\n",
       "      <td>8</td>\n",
       "      <td>2</td>\n",
       "      <td>CA. 2343</td>\n",
       "      <td>69.55</td>\n",
       "      <td>NaN</td>\n",
       "      <td>S</td>\n",
       "    </tr>\n",
       "    <tr>\n",
       "      <th>201</th>\n",
       "      <td>202</td>\n",
       "      <td>0</td>\n",
       "      <td>3</td>\n",
       "      <td>Sage, Mr. Frederick</td>\n",
       "      <td>male</td>\n",
       "      <td>NaN</td>\n",
       "      <td>8</td>\n",
       "      <td>2</td>\n",
       "      <td>CA. 2343</td>\n",
       "      <td>69.55</td>\n",
       "      <td>NaN</td>\n",
       "      <td>S</td>\n",
       "    </tr>\n",
       "    <tr>\n",
       "      <th>324</th>\n",
       "      <td>325</td>\n",
       "      <td>0</td>\n",
       "      <td>3</td>\n",
       "      <td>Sage, Mr. George John Jr</td>\n",
       "      <td>male</td>\n",
       "      <td>NaN</td>\n",
       "      <td>8</td>\n",
       "      <td>2</td>\n",
       "      <td>CA. 2343</td>\n",
       "      <td>69.55</td>\n",
       "      <td>NaN</td>\n",
       "      <td>S</td>\n",
       "    </tr>\n",
       "    <tr>\n",
       "      <th>341</th>\n",
       "      <td>342</td>\n",
       "      <td>1</td>\n",
       "      <td>1</td>\n",
       "      <td>Fortune, Miss. Alice Elizabeth</td>\n",
       "      <td>female</td>\n",
       "      <td>24.0</td>\n",
       "      <td>3</td>\n",
       "      <td>2</td>\n",
       "      <td>19950</td>\n",
       "      <td>263.00</td>\n",
       "      <td>C23 C25 C27</td>\n",
       "      <td>S</td>\n",
       "    </tr>\n",
       "    <tr>\n",
       "      <th>792</th>\n",
       "      <td>793</td>\n",
       "      <td>0</td>\n",
       "      <td>3</td>\n",
       "      <td>Sage, Miss. Stella Anna</td>\n",
       "      <td>female</td>\n",
       "      <td>NaN</td>\n",
       "      <td>8</td>\n",
       "      <td>2</td>\n",
       "      <td>CA. 2343</td>\n",
       "      <td>69.55</td>\n",
       "      <td>NaN</td>\n",
       "      <td>S</td>\n",
       "    </tr>\n",
       "    <tr>\n",
       "      <th>846</th>\n",
       "      <td>847</td>\n",
       "      <td>0</td>\n",
       "      <td>3</td>\n",
       "      <td>Sage, Mr. Douglas Bullen</td>\n",
       "      <td>male</td>\n",
       "      <td>NaN</td>\n",
       "      <td>8</td>\n",
       "      <td>2</td>\n",
       "      <td>CA. 2343</td>\n",
       "      <td>69.55</td>\n",
       "      <td>NaN</td>\n",
       "      <td>S</td>\n",
       "    </tr>\n",
       "    <tr>\n",
       "      <th>863</th>\n",
       "      <td>864</td>\n",
       "      <td>0</td>\n",
       "      <td>3</td>\n",
       "      <td>Sage, Miss. Dorothy Edith \"Dolly\"</td>\n",
       "      <td>female</td>\n",
       "      <td>NaN</td>\n",
       "      <td>8</td>\n",
       "      <td>2</td>\n",
       "      <td>CA. 2343</td>\n",
       "      <td>69.55</td>\n",
       "      <td>NaN</td>\n",
       "      <td>S</td>\n",
       "    </tr>\n",
       "  </tbody>\n",
       "</table>\n",
       "</div>"
      ],
      "text/plain": [
       "     PassengerId  Survived  Pclass                               Name     Sex  \\\n",
       "27            28         0       1     Fortune, Mr. Charles Alexander    male   \n",
       "88            89         1       1         Fortune, Miss. Mabel Helen  female   \n",
       "159          160         0       3         Sage, Master. Thomas Henry    male   \n",
       "180          181         0       3       Sage, Miss. Constance Gladys  female   \n",
       "201          202         0       3                Sage, Mr. Frederick    male   \n",
       "324          325         0       3           Sage, Mr. George John Jr    male   \n",
       "341          342         1       1     Fortune, Miss. Alice Elizabeth  female   \n",
       "792          793         0       3            Sage, Miss. Stella Anna  female   \n",
       "846          847         0       3           Sage, Mr. Douglas Bullen    male   \n",
       "863          864         0       3  Sage, Miss. Dorothy Edith \"Dolly\"  female   \n",
       "\n",
       "      Age  SibSp  Parch    Ticket    Fare        Cabin Embarked  \n",
       "27   19.0      3      2     19950  263.00  C23 C25 C27        S  \n",
       "88   23.0      3      2     19950  263.00  C23 C25 C27        S  \n",
       "159   NaN      8      2  CA. 2343   69.55          NaN        S  \n",
       "180   NaN      8      2  CA. 2343   69.55          NaN        S  \n",
       "201   NaN      8      2  CA. 2343   69.55          NaN        S  \n",
       "324   NaN      8      2  CA. 2343   69.55          NaN        S  \n",
       "341  24.0      3      2     19950  263.00  C23 C25 C27        S  \n",
       "792   NaN      8      2  CA. 2343   69.55          NaN        S  \n",
       "846   NaN      8      2  CA. 2343   69.55          NaN        S  \n",
       "863   NaN      8      2  CA. 2343   69.55          NaN        S  "
      ]
     },
     "execution_count": 17,
     "metadata": {},
     "output_type": "execute_result"
    }
   ],
   "source": [
    "train_df.loc[detect_outliers(train_df, [\"Age\", \"SibSp\", \"Parch\", \"Fare\"])]"
   ]
  },
  {
   "cell_type": "code",
   "execution_count": 18,
   "id": "1cf1adf0",
   "metadata": {
    "execution": {
     "iopub.execute_input": "2025-03-11T07:07:46.895181Z",
     "iopub.status.busy": "2025-03-11T07:07:46.894819Z",
     "iopub.status.idle": "2025-03-11T07:07:46.906119Z",
     "shell.execute_reply": "2025-03-11T07:07:46.905135Z"
    },
    "papermill": {
     "duration": 0.037593,
     "end_time": "2025-03-11T07:07:46.907874",
     "exception": false,
     "start_time": "2025-03-11T07:07:46.870281",
     "status": "completed"
    },
    "tags": []
   },
   "outputs": [],
   "source": [
    "# drop outliers\n",
    "train_df = train_df.drop(detect_outliers(train_df, [\"Age\", \"SibSp\", \"Parch\", \"Fare\"]), axis= 0).reset_index(drop=True)"
   ]
  },
  {
   "cell_type": "markdown",
   "id": "8228a3b3",
   "metadata": {
    "papermill": {
     "duration": 0.023494,
     "end_time": "2025-03-11T07:07:46.955125",
     "exception": false,
     "start_time": "2025-03-11T07:07:46.931631",
     "status": "completed"
    },
    "tags": []
   },
   "source": [
    "<a id = \"8\"></a><br>\n",
    "\n",
    "# Missing Value\n",
    "* Find Missing Value\n",
    "* Fill Missing Value"
   ]
  },
  {
   "cell_type": "code",
   "execution_count": 19,
   "id": "56399f13",
   "metadata": {
    "execution": {
     "iopub.execute_input": "2025-03-11T07:07:47.004570Z",
     "iopub.status.busy": "2025-03-11T07:07:47.004185Z",
     "iopub.status.idle": "2025-03-11T07:07:47.011004Z",
     "shell.execute_reply": "2025-03-11T07:07:47.010106Z"
    },
    "papermill": {
     "duration": 0.033968,
     "end_time": "2025-03-11T07:07:47.013086",
     "exception": false,
     "start_time": "2025-03-11T07:07:46.979118",
     "status": "completed"
    },
    "tags": []
   },
   "outputs": [],
   "source": [
    "train_df_len = len(train_df)\n",
    "train_df = pd.concat([train_df,test_df], axis = 0).reset_index(drop = True)"
   ]
  },
  {
   "cell_type": "code",
   "execution_count": 20,
   "id": "97d5ce19",
   "metadata": {
    "execution": {
     "iopub.execute_input": "2025-03-11T07:07:47.063075Z",
     "iopub.status.busy": "2025-03-11T07:07:47.062706Z",
     "iopub.status.idle": "2025-03-11T07:07:47.076562Z",
     "shell.execute_reply": "2025-03-11T07:07:47.075536Z"
    },
    "papermill": {
     "duration": 0.040318,
     "end_time": "2025-03-11T07:07:47.078102",
     "exception": false,
     "start_time": "2025-03-11T07:07:47.037784",
     "status": "completed"
    },
    "tags": []
   },
   "outputs": [
    {
     "data": {
      "text/html": [
       "<div>\n",
       "<style scoped>\n",
       "    .dataframe tbody tr th:only-of-type {\n",
       "        vertical-align: middle;\n",
       "    }\n",
       "\n",
       "    .dataframe tbody tr th {\n",
       "        vertical-align: top;\n",
       "    }\n",
       "\n",
       "    .dataframe thead th {\n",
       "        text-align: right;\n",
       "    }\n",
       "</style>\n",
       "<table border=\"1\" class=\"dataframe\">\n",
       "  <thead>\n",
       "    <tr style=\"text-align: right;\">\n",
       "      <th></th>\n",
       "      <th>PassengerId</th>\n",
       "      <th>Survived</th>\n",
       "      <th>Pclass</th>\n",
       "      <th>Name</th>\n",
       "      <th>Sex</th>\n",
       "      <th>Age</th>\n",
       "      <th>SibSp</th>\n",
       "      <th>Parch</th>\n",
       "      <th>Ticket</th>\n",
       "      <th>Fare</th>\n",
       "      <th>Cabin</th>\n",
       "      <th>Embarked</th>\n",
       "    </tr>\n",
       "  </thead>\n",
       "  <tbody>\n",
       "    <tr>\n",
       "      <th>0</th>\n",
       "      <td>1</td>\n",
       "      <td>0.0</td>\n",
       "      <td>3</td>\n",
       "      <td>Braund, Mr. Owen Harris</td>\n",
       "      <td>male</td>\n",
       "      <td>22.0</td>\n",
       "      <td>1</td>\n",
       "      <td>0</td>\n",
       "      <td>A/5 21171</td>\n",
       "      <td>7.2500</td>\n",
       "      <td>NaN</td>\n",
       "      <td>S</td>\n",
       "    </tr>\n",
       "    <tr>\n",
       "      <th>1</th>\n",
       "      <td>2</td>\n",
       "      <td>1.0</td>\n",
       "      <td>1</td>\n",
       "      <td>Cumings, Mrs. John Bradley (Florence Briggs Th...</td>\n",
       "      <td>female</td>\n",
       "      <td>38.0</td>\n",
       "      <td>1</td>\n",
       "      <td>0</td>\n",
       "      <td>PC 17599</td>\n",
       "      <td>71.2833</td>\n",
       "      <td>C85</td>\n",
       "      <td>C</td>\n",
       "    </tr>\n",
       "    <tr>\n",
       "      <th>2</th>\n",
       "      <td>3</td>\n",
       "      <td>1.0</td>\n",
       "      <td>3</td>\n",
       "      <td>Heikkinen, Miss. Laina</td>\n",
       "      <td>female</td>\n",
       "      <td>26.0</td>\n",
       "      <td>0</td>\n",
       "      <td>0</td>\n",
       "      <td>STON/O2. 3101282</td>\n",
       "      <td>7.9250</td>\n",
       "      <td>NaN</td>\n",
       "      <td>S</td>\n",
       "    </tr>\n",
       "    <tr>\n",
       "      <th>3</th>\n",
       "      <td>4</td>\n",
       "      <td>1.0</td>\n",
       "      <td>1</td>\n",
       "      <td>Futrelle, Mrs. Jacques Heath (Lily May Peel)</td>\n",
       "      <td>female</td>\n",
       "      <td>35.0</td>\n",
       "      <td>1</td>\n",
       "      <td>0</td>\n",
       "      <td>113803</td>\n",
       "      <td>53.1000</td>\n",
       "      <td>C123</td>\n",
       "      <td>S</td>\n",
       "    </tr>\n",
       "    <tr>\n",
       "      <th>4</th>\n",
       "      <td>5</td>\n",
       "      <td>0.0</td>\n",
       "      <td>3</td>\n",
       "      <td>Allen, Mr. William Henry</td>\n",
       "      <td>male</td>\n",
       "      <td>35.0</td>\n",
       "      <td>0</td>\n",
       "      <td>0</td>\n",
       "      <td>373450</td>\n",
       "      <td>8.0500</td>\n",
       "      <td>NaN</td>\n",
       "      <td>S</td>\n",
       "    </tr>\n",
       "  </tbody>\n",
       "</table>\n",
       "</div>"
      ],
      "text/plain": [
       "   PassengerId  Survived  Pclass  \\\n",
       "0            1       0.0       3   \n",
       "1            2       1.0       1   \n",
       "2            3       1.0       3   \n",
       "3            4       1.0       1   \n",
       "4            5       0.0       3   \n",
       "\n",
       "                                                Name     Sex   Age  SibSp  \\\n",
       "0                            Braund, Mr. Owen Harris    male  22.0      1   \n",
       "1  Cumings, Mrs. John Bradley (Florence Briggs Th...  female  38.0      1   \n",
       "2                             Heikkinen, Miss. Laina  female  26.0      0   \n",
       "3       Futrelle, Mrs. Jacques Heath (Lily May Peel)  female  35.0      1   \n",
       "4                           Allen, Mr. William Henry    male  35.0      0   \n",
       "\n",
       "   Parch            Ticket     Fare Cabin Embarked  \n",
       "0      0         A/5 21171   7.2500   NaN        S  \n",
       "1      0          PC 17599  71.2833   C85        C  \n",
       "2      0  STON/O2. 3101282   7.9250   NaN        S  \n",
       "3      0            113803  53.1000  C123        S  \n",
       "4      0            373450   8.0500   NaN        S  "
      ]
     },
     "execution_count": 20,
     "metadata": {},
     "output_type": "execute_result"
    }
   ],
   "source": [
    "train_df.head()"
   ]
  },
  {
   "cell_type": "markdown",
   "id": "a3c9b50c",
   "metadata": {
    "papermill": {
     "duration": 0.024016,
     "end_time": "2025-03-11T07:07:47.126757",
     "exception": false,
     "start_time": "2025-03-11T07:07:47.102741",
     "status": "completed"
    },
    "tags": []
   },
   "source": [
    "<a id = \"9\"></a><br>\n",
    "\n",
    "# Find Missing Value"
   ]
  },
  {
   "cell_type": "code",
   "execution_count": 21,
   "id": "234b8096",
   "metadata": {
    "execution": {
     "iopub.execute_input": "2025-03-11T07:07:47.176346Z",
     "iopub.status.busy": "2025-03-11T07:07:47.175960Z",
     "iopub.status.idle": "2025-03-11T07:07:47.183099Z",
     "shell.execute_reply": "2025-03-11T07:07:47.182095Z"
    },
    "papermill": {
     "duration": 0.033529,
     "end_time": "2025-03-11T07:07:47.184677",
     "exception": false,
     "start_time": "2025-03-11T07:07:47.151148",
     "status": "completed"
    },
    "tags": []
   },
   "outputs": [
    {
     "data": {
      "text/plain": [
       "Index(['Survived', 'Age', 'Fare', 'Cabin', 'Embarked'], dtype='object')"
      ]
     },
     "execution_count": 21,
     "metadata": {},
     "output_type": "execute_result"
    }
   ],
   "source": [
    "train_df.columns[train_df.isnull().any()]"
   ]
  },
  {
   "cell_type": "code",
   "execution_count": 22,
   "id": "e8975804",
   "metadata": {
    "execution": {
     "iopub.execute_input": "2025-03-11T07:07:47.234549Z",
     "iopub.status.busy": "2025-03-11T07:07:47.234040Z",
     "iopub.status.idle": "2025-03-11T07:07:47.242156Z",
     "shell.execute_reply": "2025-03-11T07:07:47.241076Z"
    },
    "papermill": {
     "duration": 0.035205,
     "end_time": "2025-03-11T07:07:47.243775",
     "exception": false,
     "start_time": "2025-03-11T07:07:47.208570",
     "status": "completed"
    },
    "tags": []
   },
   "outputs": [
    {
     "data": {
      "text/plain": [
       "PassengerId       0\n",
       "Survived        418\n",
       "Pclass            0\n",
       "Name              0\n",
       "Sex               0\n",
       "Age             256\n",
       "SibSp             0\n",
       "Parch             0\n",
       "Ticket            0\n",
       "Fare              1\n",
       "Cabin          1007\n",
       "Embarked          2\n",
       "dtype: int64"
      ]
     },
     "execution_count": 22,
     "metadata": {},
     "output_type": "execute_result"
    }
   ],
   "source": [
    "train_df.isnull().sum()"
   ]
  },
  {
   "cell_type": "markdown",
   "id": "b1bcd203",
   "metadata": {
    "papermill": {
     "duration": 0.023943,
     "end_time": "2025-03-11T07:07:47.292070",
     "exception": false,
     "start_time": "2025-03-11T07:07:47.268127",
     "status": "completed"
    },
    "tags": []
   },
   "source": [
    "<a id = \"10\"></a><br>\n",
    "# Fill Missing Value\n",
    "* Embarked has 2\n",
    "* Fare has 1"
   ]
  },
  {
   "cell_type": "code",
   "execution_count": 23,
   "id": "6e3a3b60",
   "metadata": {
    "execution": {
     "iopub.execute_input": "2025-03-11T07:07:47.341309Z",
     "iopub.status.busy": "2025-03-11T07:07:47.340898Z",
     "iopub.status.idle": "2025-03-11T07:07:47.354588Z",
     "shell.execute_reply": "2025-03-11T07:07:47.353670Z"
    },
    "papermill": {
     "duration": 0.040128,
     "end_time": "2025-03-11T07:07:47.356100",
     "exception": false,
     "start_time": "2025-03-11T07:07:47.315972",
     "status": "completed"
    },
    "tags": []
   },
   "outputs": [
    {
     "data": {
      "text/html": [
       "<div>\n",
       "<style scoped>\n",
       "    .dataframe tbody tr th:only-of-type {\n",
       "        vertical-align: middle;\n",
       "    }\n",
       "\n",
       "    .dataframe tbody tr th {\n",
       "        vertical-align: top;\n",
       "    }\n",
       "\n",
       "    .dataframe thead th {\n",
       "        text-align: right;\n",
       "    }\n",
       "</style>\n",
       "<table border=\"1\" class=\"dataframe\">\n",
       "  <thead>\n",
       "    <tr style=\"text-align: right;\">\n",
       "      <th></th>\n",
       "      <th>PassengerId</th>\n",
       "      <th>Survived</th>\n",
       "      <th>Pclass</th>\n",
       "      <th>Name</th>\n",
       "      <th>Sex</th>\n",
       "      <th>Age</th>\n",
       "      <th>SibSp</th>\n",
       "      <th>Parch</th>\n",
       "      <th>Ticket</th>\n",
       "      <th>Fare</th>\n",
       "      <th>Cabin</th>\n",
       "      <th>Embarked</th>\n",
       "    </tr>\n",
       "  </thead>\n",
       "  <tbody>\n",
       "    <tr>\n",
       "      <th>60</th>\n",
       "      <td>62</td>\n",
       "      <td>1.0</td>\n",
       "      <td>1</td>\n",
       "      <td>Icard, Miss. Amelie</td>\n",
       "      <td>female</td>\n",
       "      <td>38.0</td>\n",
       "      <td>0</td>\n",
       "      <td>0</td>\n",
       "      <td>113572</td>\n",
       "      <td>80.0</td>\n",
       "      <td>B28</td>\n",
       "      <td>NaN</td>\n",
       "    </tr>\n",
       "    <tr>\n",
       "      <th>821</th>\n",
       "      <td>830</td>\n",
       "      <td>1.0</td>\n",
       "      <td>1</td>\n",
       "      <td>Stone, Mrs. George Nelson (Martha Evelyn)</td>\n",
       "      <td>female</td>\n",
       "      <td>62.0</td>\n",
       "      <td>0</td>\n",
       "      <td>0</td>\n",
       "      <td>113572</td>\n",
       "      <td>80.0</td>\n",
       "      <td>B28</td>\n",
       "      <td>NaN</td>\n",
       "    </tr>\n",
       "  </tbody>\n",
       "</table>\n",
       "</div>"
      ],
      "text/plain": [
       "     PassengerId  Survived  Pclass                                       Name  \\\n",
       "60            62       1.0       1                        Icard, Miss. Amelie   \n",
       "821          830       1.0       1  Stone, Mrs. George Nelson (Martha Evelyn)   \n",
       "\n",
       "        Sex   Age  SibSp  Parch  Ticket  Fare Cabin Embarked  \n",
       "60   female  38.0      0      0  113572  80.0   B28      NaN  \n",
       "821  female  62.0      0      0  113572  80.0   B28      NaN  "
      ]
     },
     "execution_count": 23,
     "metadata": {},
     "output_type": "execute_result"
    }
   ],
   "source": [
    "train_df[train_df[\"Embarked\"].isnull()]"
   ]
  },
  {
   "cell_type": "code",
   "execution_count": 24,
   "id": "cc3e320d",
   "metadata": {
    "execution": {
     "iopub.execute_input": "2025-03-11T07:07:47.405709Z",
     "iopub.status.busy": "2025-03-11T07:07:47.405372Z",
     "iopub.status.idle": "2025-03-11T07:07:47.619597Z",
     "shell.execute_reply": "2025-03-11T07:07:47.618594Z"
    },
    "papermill": {
     "duration": 0.240634,
     "end_time": "2025-03-11T07:07:47.621047",
     "exception": false,
     "start_time": "2025-03-11T07:07:47.380413",
     "status": "completed"
    },
    "tags": []
   },
   "outputs": [
    {
     "data": {
      "image/png": "[encoded data removed]",
      "text/plain": [
       "<Figure size 640x480 with 1 Axes>"
      ]
     },
     "metadata": {},
     "output_type": "display_data"
    }
   ],
   "source": [
    "train_df.boxplot(column=\"Fare\",by=\"Embarked\")\n",
    "plt.show()"
   ]
  },
  {
   "cell_type": "code",
   "execution_count": 25,
   "id": "c9187284",
   "metadata": {
    "execution": {
     "iopub.execute_input": "2025-03-11T07:07:47.671821Z",
     "iopub.status.busy": "2025-03-11T07:07:47.671475Z",
     "iopub.status.idle": "2025-03-11T07:07:47.682716Z",
     "shell.execute_reply": "2025-03-11T07:07:47.681707Z"
    },
    "papermill": {
     "duration": 0.038083,
     "end_time": "2025-03-11T07:07:47.684147",
     "exception": false,
     "start_time": "2025-03-11T07:07:47.646064",
     "status": "completed"
    },
    "tags": []
   },
   "outputs": [
    {
     "data": {
      "text/html": [
       "<div>\n",
       "<style scoped>\n",
       "    .dataframe tbody tr th:only-of-type {\n",
       "        vertical-align: middle;\n",
       "    }\n",
       "\n",
       "    .dataframe tbody tr th {\n",
       "        vertical-align: top;\n",
       "    }\n",
       "\n",
       "    .dataframe thead th {\n",
       "        text-align: right;\n",
       "    }\n",
       "</style>\n",
       "<table border=\"1\" class=\"dataframe\">\n",
       "  <thead>\n",
       "    <tr style=\"text-align: right;\">\n",
       "      <th></th>\n",
       "      <th>PassengerId</th>\n",
       "      <th>Survived</th>\n",
       "      <th>Pclass</th>\n",
       "      <th>Name</th>\n",
       "      <th>Sex</th>\n",
       "      <th>Age</th>\n",
       "      <th>SibSp</th>\n",
       "      <th>Parch</th>\n",
       "      <th>Ticket</th>\n",
       "      <th>Fare</th>\n",
       "      <th>Cabin</th>\n",
       "      <th>Embarked</th>\n",
       "    </tr>\n",
       "  </thead>\n",
       "  <tbody>\n",
       "  </tbody>\n",
       "</table>\n",
       "</div>"
      ],
      "text/plain": [
       "Empty DataFrame\n",
       "Columns: [PassengerId, Survived, Pclass, Name, Sex, Age, SibSp, Parch, Ticket, Fare, Cabin, Embarked]\n",
       "Index: []"
      ]
     },
     "execution_count": 25,
     "metadata": {},
     "output_type": "execute_result"
    }
   ],
   "source": [
    "train_df[\"Embarked\"] = train_df[\"Embarked\"].fillna(\"C\")\n",
    "train_df[train_df[\"Embarked\"].isnull()]"
   ]
  },
  {
   "cell_type": "code",
   "execution_count": 26,
   "id": "75f966cf",
   "metadata": {
    "execution": {
     "iopub.execute_input": "2025-03-11T07:07:47.734530Z",
     "iopub.status.busy": "2025-03-11T07:07:47.734146Z",
     "iopub.status.idle": "2025-03-11T07:07:47.748013Z",
     "shell.execute_reply": "2025-03-11T07:07:47.746434Z"
    },
    "papermill": {
     "duration": 0.040777,
     "end_time": "2025-03-11T07:07:47.749645",
     "exception": false,
     "start_time": "2025-03-11T07:07:47.708868",
     "status": "completed"
    },
    "tags": []
   },
   "outputs": [
    {
     "data": {
      "text/html": [
       "<div>\n",
       "<style scoped>\n",
       "    .dataframe tbody tr th:only-of-type {\n",
       "        vertical-align: middle;\n",
       "    }\n",
       "\n",
       "    .dataframe tbody tr th {\n",
       "        vertical-align: top;\n",
       "    }\n",
       "\n",
       "    .dataframe thead th {\n",
       "        text-align: right;\n",
       "    }\n",
       "</style>\n",
       "<table border=\"1\" class=\"dataframe\">\n",
       "  <thead>\n",
       "    <tr style=\"text-align: right;\">\n",
       "      <th></th>\n",
       "      <th>PassengerId</th>\n",
       "      <th>Survived</th>\n",
       "      <th>Pclass</th>\n",
       "      <th>Name</th>\n",
       "      <th>Sex</th>\n",
       "      <th>Age</th>\n",
       "      <th>SibSp</th>\n",
       "      <th>Parch</th>\n",
       "      <th>Ticket</th>\n",
       "      <th>Fare</th>\n",
       "      <th>Cabin</th>\n",
       "      <th>Embarked</th>\n",
       "    </tr>\n",
       "  </thead>\n",
       "  <tbody>\n",
       "    <tr>\n",
       "      <th>1033</th>\n",
       "      <td>1044</td>\n",
       "      <td>NaN</td>\n",
       "      <td>3</td>\n",
       "      <td>Storey, Mr. Thomas</td>\n",
       "      <td>male</td>\n",
       "      <td>60.5</td>\n",
       "      <td>0</td>\n",
       "      <td>0</td>\n",
       "      <td>3701</td>\n",
       "      <td>NaN</td>\n",
       "      <td>NaN</td>\n",
       "      <td>S</td>\n",
       "    </tr>\n",
       "  </tbody>\n",
       "</table>\n",
       "</div>"
      ],
      "text/plain": [
       "      PassengerId  Survived  Pclass                Name   Sex   Age  SibSp  \\\n",
       "1033         1044       NaN       3  Storey, Mr. Thomas  male  60.5      0   \n",
       "\n",
       "      Parch Ticket  Fare Cabin Embarked  \n",
       "1033      0   3701   NaN   NaN        S  "
      ]
     },
     "execution_count": 26,
     "metadata": {},
     "output_type": "execute_result"
    }
   ],
   "source": [
    "train_df[train_df[\"Fare\"].isnull()]"
   ]
  },
  {
   "cell_type": "code",
   "execution_count": 27,
   "id": "3196654c",
   "metadata": {
    "execution": {
     "iopub.execute_input": "2025-03-11T07:07:47.801808Z",
     "iopub.status.busy": "2025-03-11T07:07:47.801442Z",
     "iopub.status.idle": "2025-03-11T07:07:47.808670Z",
     "shell.execute_reply": "2025-03-11T07:07:47.807297Z"
    },
    "papermill": {
     "duration": 0.035295,
     "end_time": "2025-03-11T07:07:47.810421",
     "exception": false,
     "start_time": "2025-03-11T07:07:47.775126",
     "status": "completed"
    },
    "tags": []
   },
   "outputs": [],
   "source": [
    "train_df[\"Fare\"] = train_df[\"Fare\"].fillna(np.mean(train_df[train_df[\"Pclass\"] == 3][\"Fare\"]))"
   ]
  },
  {
   "cell_type": "code",
   "execution_count": 28,
   "id": "82304ca9",
   "metadata": {
    "execution": {
     "iopub.execute_input": "2025-03-11T07:07:47.862293Z",
     "iopub.status.busy": "2025-03-11T07:07:47.861919Z",
     "iopub.status.idle": "2025-03-11T07:07:47.871190Z",
     "shell.execute_reply": "2025-03-11T07:07:47.870417Z"
    },
    "papermill": {
     "duration": 0.036416,
     "end_time": "2025-03-11T07:07:47.872582",
     "exception": false,
     "start_time": "2025-03-11T07:07:47.836166",
     "status": "completed"
    },
    "tags": []
   },
   "outputs": [
    {
     "data": {
      "text/html": [
       "<div>\n",
       "<style scoped>\n",
       "    .dataframe tbody tr th:only-of-type {\n",
       "        vertical-align: middle;\n",
       "    }\n",
       "\n",
       "    .dataframe tbody tr th {\n",
       "        vertical-align: top;\n",
       "    }\n",
       "\n",
       "    .dataframe thead th {\n",
       "        text-align: right;\n",
       "    }\n",
       "</style>\n",
       "<table border=\"1\" class=\"dataframe\">\n",
       "  <thead>\n",
       "    <tr style=\"text-align: right;\">\n",
       "      <th></th>\n",
       "      <th>PassengerId</th>\n",
       "      <th>Survived</th>\n",
       "      <th>Pclass</th>\n",
       "      <th>Name</th>\n",
       "      <th>Sex</th>\n",
       "      <th>Age</th>\n",
       "      <th>SibSp</th>\n",
       "      <th>Parch</th>\n",
       "      <th>Ticket</th>\n",
       "      <th>Fare</th>\n",
       "      <th>Cabin</th>\n",
       "      <th>Embarked</th>\n",
       "    </tr>\n",
       "  </thead>\n",
       "  <tbody>\n",
       "  </tbody>\n",
       "</table>\n",
       "</div>"
      ],
      "text/plain": [
       "Empty DataFrame\n",
       "Columns: [PassengerId, Survived, Pclass, Name, Sex, Age, SibSp, Parch, Ticket, Fare, Cabin, Embarked]\n",
       "Index: []"
      ]
     },
     "execution_count": 28,
     "metadata": {},
     "output_type": "execute_result"
    }
   ],
   "source": [
    "train_df[train_df[\"Fare\"].isnull()]"
   ]
  },
  {
   "cell_type": "markdown",
   "id": "95b103ba",
   "metadata": {
    "papermill": {
     "duration": 0.024831,
     "end_time": "2025-03-11T07:07:47.922625",
     "exception": false,
     "start_time": "2025-03-11T07:07:47.897794",
     "status": "completed"
    },
    "tags": []
   },
   "source": [
    "<a id = \"11\"></a><br>\n",
    "# Visualization"
   ]
  },
  {
   "cell_type": "markdown",
   "id": "f92092e4",
   "metadata": {
    "papermill": {
     "duration": 0.024728,
     "end_time": "2025-03-11T07:07:47.972271",
     "exception": false,
     "start_time": "2025-03-11T07:07:47.947543",
     "status": "completed"
    },
    "tags": []
   },
   "source": [
    "<a id = \"12\"></a><br>\n",
    "## Correlation Between SibSp -- Parch -- Age -- Fare -- Survived"
   ]
  },
  {
   "cell_type": "code",
   "execution_count": 29,
   "id": "3654ad4f",
   "metadata": {
    "execution": {
     "iopub.execute_input": "2025-03-11T07:07:48.023179Z",
     "iopub.status.busy": "2025-03-11T07:07:48.022837Z",
     "iopub.status.idle": "2025-03-11T07:07:48.266905Z",
     "shell.execute_reply": "2025-03-11T07:07:48.265871Z"
    },
    "papermill": {
     "duration": 0.271735,
     "end_time": "2025-03-11T07:07:48.268802",
     "exception": false,
     "start_time": "2025-03-11T07:07:47.997067",
     "status": "completed"
    },
    "tags": []
   },
   "outputs": [
    {
     "data": {
      "image/png": "[encoded data removed]",
      "text/plain": [
       "<Figure size 640x480 with 2 Axes>"
      ]
     },
     "metadata": {},
     "output_type": "display_data"
    }
   ],
   "source": [
    "list1 = [ \"SibSp\", \"Parch\",\"Age\", \"Fare\", \"Survived\"]\n",
    "sns.heatmap(train_df[list1].corr(), annot = True, fmt = \".2f\")\n",
    "plt.show()"
   ]
  },
  {
   "cell_type": "raw",
   "id": "e289af05",
   "metadata": {
    "papermill": {
     "duration": 0.02574,
     "end_time": "2025-03-11T07:07:48.320652",
     "exception": false,
     "start_time": "2025-03-11T07:07:48.294912",
     "status": "completed"
    },
    "tags": []
   },
   "source": [
    "Fare feature seems to have correlation with survived feature (0.26)"
   ]
  },
  {
   "cell_type": "markdown",
   "id": "bb33109a",
   "metadata": {
    "papermill": {
     "duration": 0.025711,
     "end_time": "2025-03-11T07:07:48.372377",
     "exception": false,
     "start_time": "2025-03-11T07:07:48.346666",
     "status": "completed"
    },
    "tags": []
   },
   "source": [
    "<a id = \"13\"></a><br>\n",
    "## SibSp -- Survived"
   ]
  },
  {
   "cell_type": "code",
   "execution_count": 30,
   "id": "41cbdb3d",
   "metadata": {
    "execution": {
     "iopub.execute_input": "2025-03-11T07:07:48.425334Z",
     "iopub.status.busy": "2025-03-11T07:07:48.424961Z",
     "iopub.status.idle": "2025-03-11T07:07:48.966854Z",
     "shell.execute_reply": "2025-03-11T07:07:48.965815Z"
    },
    "papermill": {
     "duration": 0.570261,
     "end_time": "2025-03-11T07:07:48.968448",
     "exception": false,
     "start_time": "2025-03-11T07:07:48.398187",
     "status": "completed"
    },
    "tags": []
   },
   "outputs": [
    {
     "data": {
      "image/png": "[encoded data removed]",
      "text/plain": [
       "<Figure size 600x600 with 1 Axes>"
      ]
     },
     "metadata": {},
     "output_type": "display_data"
    }
   ],
   "source": [
    "g = sns.catplot(x = \"SibSp\", y = \"Survived\", data = train_df, kind = \"bar\", height = 6)\n",
    "g.set_ylabels(\"Survived Probability\")\n",
    "plt.show()"
   ]
  },
  {
   "cell_type": "markdown",
   "id": "97171c27",
   "metadata": {
    "papermill": {
     "duration": 0.025868,
     "end_time": "2025-03-11T07:07:49.021000",
     "exception": false,
     "start_time": "2025-03-11T07:07:48.995132",
     "status": "completed"
    },
    "tags": []
   },
   "source": [
    "* Having a lot of SibSp have less chance to survive\n",
    "* if SibSp < 3 passenger has more chance to survive\n",
    "* We can consider a new feature describing the categories"
   ]
  },
  {
   "cell_type": "markdown",
   "id": "0e2e1286",
   "metadata": {
    "papermill": {
     "duration": 0.026261,
     "end_time": "2025-03-11T07:07:49.073430",
     "exception": false,
     "start_time": "2025-03-11T07:07:49.047169",
     "status": "completed"
    },
    "tags": []
   },
   "source": [
    "<a id = \"14\"></a><br>\n",
    "## Parch -- Survived"
   ]
  },
  {
   "cell_type": "code",
   "execution_count": 31,
   "id": "5f37a5bf",
   "metadata": {
    "execution": {
     "iopub.execute_input": "2025-03-11T07:07:49.126680Z",
     "iopub.status.busy": "2025-03-11T07:07:49.126349Z",
     "iopub.status.idle": "2025-03-11T07:07:49.702106Z",
     "shell.execute_reply": "2025-03-11T07:07:49.701122Z"
    },
    "papermill": {
     "duration": 0.604299,
     "end_time": "2025-03-11T07:07:49.703735",
     "exception": false,
     "start_time": "2025-03-11T07:07:49.099436",
     "status": "completed"
    },
    "tags": []
   },
   "outputs": [
    {
     "data": {
      "image/png": "[encoded data removed]",
      "text/plain": [
       "<Figure size 600x600 with 1 Axes>"
      ]
     },
     "metadata": {},
     "output_type": "display_data"
    }
   ],
   "source": [
    "g = sns.catplot(x = \"Parch\", y = \"Survived\", data = train_df, kind = \"bar\", height = 6)\n",
    "g.set_ylabels(\"Survived Probability\")\n",
    "plt.show() "
   ]
  },
  {
   "cell_type": "markdown",
   "id": "bc09e11b",
   "metadata": {
    "papermill": {
     "duration": 0.026484,
     "end_time": "2025-03-11T07:07:49.757099",
     "exception": false,
     "start_time": "2025-03-11T07:07:49.730615",
     "status": "completed"
    },
    "tags": []
   },
   "source": [
    "* SibSp and Parch can be used for new feature extraciton with th = 3\n",
    "* Small Families have more chance to survive\n",
    "* There is a std in survival of passanger with parch = 3"
   ]
  },
  {
   "cell_type": "markdown",
   "id": "12979e24",
   "metadata": {
    "papermill": {
     "duration": 0.026408,
     "end_time": "2025-03-11T07:07:49.810230",
     "exception": false,
     "start_time": "2025-03-11T07:07:49.783822",
     "status": "completed"
    },
    "tags": []
   },
   "source": [
    "<a id = \"15\"></a><br>\n",
    "## Pclass -- Survived"
   ]
  },
  {
   "cell_type": "code",
   "execution_count": 32,
   "id": "07459dcc",
   "metadata": {
    "execution": {
     "iopub.execute_input": "2025-03-11T07:07:49.866996Z",
     "iopub.status.busy": "2025-03-11T07:07:49.866603Z",
     "iopub.status.idle": "2025-03-11T07:07:50.217739Z",
     "shell.execute_reply": "2025-03-11T07:07:50.216689Z"
    },
    "papermill": {
     "duration": 0.380978,
     "end_time": "2025-03-11T07:07:50.219498",
     "exception": false,
     "start_time": "2025-03-11T07:07:49.838520",
     "status": "completed"
    },
    "tags": []
   },
   "outputs": [
    {
     "data": {
      "image/png": "[encoded data removed]",
      "text/plain": [
       "<Figure size 600x600 with 1 Axes>"
      ]
     },
     "metadata": {},
     "output_type": "display_data"
    }
   ],
   "source": [
    "g = sns.catplot(x = \"Pclass\", y = \"Survived\", data = train_df, kind = \"bar\", height = 6)\n",
    "g.set_ylabels(\"Survived Probability\")\n",
    "plt.show() "
   ]
  },
  {
   "cell_type": "markdown",
   "id": "12fa773a",
   "metadata": {
    "papermill": {
     "duration": 0.02803,
     "end_time": "2025-03-11T07:07:50.275544",
     "exception": false,
     "start_time": "2025-03-11T07:07:50.247514",
     "status": "completed"
    },
    "tags": []
   },
   "source": [
    "<a id = \"16\"></a><br>\n",
    "## Age -- Survived"
   ]
  },
  {
   "cell_type": "code",
   "execution_count": 33,
   "id": "4ab01aa5",
   "metadata": {
    "execution": {
     "iopub.execute_input": "2025-03-11T07:07:50.331002Z",
     "iopub.status.busy": "2025-03-11T07:07:50.330675Z",
     "iopub.status.idle": "2025-03-11T07:07:51.219297Z",
     "shell.execute_reply": "2025-03-11T07:07:51.217825Z"
    },
    "papermill": {
     "duration": 0.918358,
     "end_time": "2025-03-11T07:07:51.220998",
     "exception": false,
     "start_time": "2025-03-11T07:07:50.302640",
     "status": "completed"
    },
    "tags": []
   },
   "outputs": [
    {
     "data": {
      "image/png": "[encoded data removed]",
      "text/plain": [
       "<Figure size 600x300 with 2 Axes>"
      ]
     },
     "metadata": {},
     "output_type": "display_data"
    },
    {
     "data": {
      "image/png": "[encoded data removed]",
      "text/plain": [
       "<Figure size 500x500 with 1 Axes>"
      ]
     },
     "metadata": {},
     "output_type": "display_data"
    },
    {
     "data": {
      "image/png": "[encoded data removed]",
      "text/plain": [
       "<Figure size 500x500 with 1 Axes>"
      ]
     },
     "metadata": {},
     "output_type": "display_data"
    }
   ],
   "source": [
    "g = sns.FacetGrid(train_df, col = \"Survived\")\n",
    "g.map(sns.displot, \"Age\", bins = 25)\n",
    "plt.show() "
   ]
  },
  {
   "cell_type": "markdown",
   "id": "d9a243e9",
   "metadata": {
    "papermill": {
     "duration": 0.027784,
     "end_time": "2025-03-11T07:07:51.277345",
     "exception": false,
     "start_time": "2025-03-11T07:07:51.249561",
     "status": "completed"
    },
    "tags": []
   },
   "source": [
    "* Age <= 10 has a high survival rate\n",
    "* Oldest passanger (80) survived\n",
    "* Large number of 20 years old did't survive\n",
    "* Most passangers are in 15-35 age range\n",
    "* Use age feature in training\n",
    "* Use age distribution for missing value of range"
   ]
  },
  {
   "cell_type": "markdown",
   "id": "c97d3c4c",
   "metadata": {
    "papermill": {
     "duration": 0.027673,
     "end_time": "2025-03-11T07:07:51.332942",
     "exception": false,
     "start_time": "2025-03-11T07:07:51.305269",
     "status": "completed"
    },
    "tags": []
   },
   "source": [
    "<a id = \"17\"></a><br>\n",
    "## Age -- Survived -- Age"
   ]
  },
  {
   "cell_type": "code",
   "execution_count": 34,
   "id": "89dc2674",
   "metadata": {
    "execution": {
     "iopub.execute_input": "2025-03-11T07:07:51.389629Z",
     "iopub.status.busy": "2025-03-11T07:07:51.389286Z",
     "iopub.status.idle": "2025-03-11T07:07:53.307004Z",
     "shell.execute_reply": "2025-03-11T07:07:53.306005Z"
    },
    "papermill": {
     "duration": 1.947935,
     "end_time": "2025-03-11T07:07:53.308587",
     "exception": false,
     "start_time": "2025-03-11T07:07:51.360652",
     "status": "completed"
    },
    "tags": []
   },
   "outputs": [
    {
     "data": {
      "image/png": "[encoded data removed]",
      "text/plain": [
       "<Figure size 411.111x600 with 6 Axes>"
      ]
     },
     "metadata": {},
     "output_type": "display_data"
    }
   ],
   "source": [
    "g = sns.FacetGrid(train_df, col = \"Survived\", row = \"Pclass\", height=2)\n",
    "g.map(plt.hist, \"Age\", bins = 25)\n",
    "g.add_legend()\n",
    "plt.show()"
   ]
  },
  {
   "cell_type": "markdown",
   "id": "92e6354c",
   "metadata": {
    "papermill": {
     "duration": 0.028065,
     "end_time": "2025-03-11T07:07:53.365467",
     "exception": false,
     "start_time": "2025-03-11T07:07:53.337402",
     "status": "completed"
    },
    "tags": []
   },
   "source": [
    "* Pclass is important feature for model training"
   ]
  },
  {
   "cell_type": "markdown",
   "id": "ac1e1cd7",
   "metadata": {
    "papermill": {
     "duration": 0.028009,
     "end_time": "2025-03-11T07:07:53.421769",
     "exception": false,
     "start_time": "2025-03-11T07:07:53.393760",
     "status": "completed"
    },
    "tags": []
   },
   "source": [
    "<a id = \"18\"></a><br>\n",
    "## Embarked -- Sex -- Pclass -- Survived"
   ]
  },
  {
   "cell_type": "code",
   "execution_count": 35,
   "id": "1481eb92",
   "metadata": {
    "execution": {
     "iopub.execute_input": "2025-03-11T07:07:53.479592Z",
     "iopub.status.busy": "2025-03-11T07:07:53.479258Z",
     "iopub.status.idle": "2025-03-11T07:07:54.977163Z",
     "shell.execute_reply": "2025-03-11T07:07:54.976238Z"
    },
    "papermill": {
     "duration": 1.528947,
     "end_time": "2025-03-11T07:07:54.978929",
     "exception": false,
     "start_time": "2025-03-11T07:07:53.449982",
     "status": "completed"
    },
    "tags": []
   },
   "outputs": [
    {
     "data": {
      "image/png": "[encoded data removed]",
      "text/plain": [
       "<Figure size 300x900 with 3 Axes>"
      ]
     },
     "metadata": {},
     "output_type": "display_data"
    }
   ],
   "source": [
    "g = sns.FacetGrid(train_df, row = \"Embarked\", height = 3)\n",
    "g.map(sns.pointplot, \"Pclass\", \"Survived\", \"Sex\")\n",
    "plt.legend()\n",
    "plt.show()"
   ]
  },
  {
   "cell_type": "markdown",
   "id": "65b4a119",
   "metadata": {
    "papermill": {
     "duration": 0.029394,
     "end_time": "2025-03-11T07:07:55.038687",
     "exception": false,
     "start_time": "2025-03-11T07:07:55.009293",
     "status": "completed"
    },
    "tags": []
   },
   "source": [
    "* Female passangers have much better survival rate than males\n",
    "* Males have better survival rate in Pclass 3 in C\n",
    "* Embarked ans sex will be used in training"
   ]
  },
  {
   "cell_type": "markdown",
   "id": "51ec0560",
   "metadata": {
    "papermill": {
     "duration": 0.029149,
     "end_time": "2025-03-11T07:07:55.097222",
     "exception": false,
     "start_time": "2025-03-11T07:07:55.068073",
     "status": "completed"
    },
    "tags": []
   },
   "source": [
    "<a id = \"19\"></a><br>\n",
    "## Embarked -- Sex -- Fare -- Survived"
   ]
  },
  {
   "cell_type": "code",
   "execution_count": 36,
   "id": "2b4e15cb",
   "metadata": {
    "execution": {
     "iopub.execute_input": "2025-03-11T07:07:55.157550Z",
     "iopub.status.busy": "2025-03-11T07:07:55.157004Z",
     "iopub.status.idle": "2025-03-11T07:07:56.666757Z",
     "shell.execute_reply": "2025-03-11T07:07:56.665560Z"
    },
    "papermill": {
     "duration": 1.542264,
     "end_time": "2025-03-11T07:07:56.668945",
     "exception": false,
     "start_time": "2025-03-11T07:07:55.126681",
     "status": "completed"
    },
    "tags": []
   },
   "outputs": [
    {
     "data": {
      "image/png": "[encoded data removed]",
      "text/plain": [
       "<Figure size 500x750 with 6 Axes>"
      ]
     },
     "metadata": {},
     "output_type": "display_data"
    }
   ],
   "source": [
    "g = sns.FacetGrid(train_df, row = \"Embarked\",col = \"Survived\", height = 2.5)\n",
    "g.map(sns.barplot, \"Sex\", \"Fare\")\n",
    "plt.legend()\n",
    "plt.show()"
   ]
  },
  {
   "cell_type": "markdown",
   "id": "741dcff8",
   "metadata": {
    "papermill": {
     "duration": 0.029844,
     "end_time": "2025-03-11T07:07:56.730688",
     "exception": false,
     "start_time": "2025-03-11T07:07:56.700844",
     "status": "completed"
    },
    "tags": []
   },
   "source": [
    "* Passangers who pay higher fare have better survival rate\n",
    "* Fare can be used as categorical for training"
   ]
  },
  {
   "cell_type": "markdown",
   "id": "f838a66b",
   "metadata": {
    "papermill": {
     "duration": 0.030264,
     "end_time": "2025-03-11T07:07:56.791009",
     "exception": false,
     "start_time": "2025-03-11T07:07:56.760745",
     "status": "completed"
    },
    "tags": []
   },
   "source": [
    "<a id = \"20\"></a><br>\n",
    "## Fill Missing: Age Feature"
   ]
  },
  {
   "cell_type": "code",
   "execution_count": 37,
   "id": "10d2adb0",
   "metadata": {
    "execution": {
     "iopub.execute_input": "2025-03-11T07:07:56.857825Z",
     "iopub.status.busy": "2025-03-11T07:07:56.857482Z",
     "iopub.status.idle": "2025-03-11T07:07:56.876094Z",
     "shell.execute_reply": "2025-03-11T07:07:56.874740Z"
    },
    "papermill": {
     "duration": 0.057465,
     "end_time": "2025-03-11T07:07:56.878503",
     "exception": false,
     "start_time": "2025-03-11T07:07:56.821038",
     "status": "completed"
    },
    "tags": []
   },
   "outputs": [
    {
     "data": {
      "text/html": [
       "<div>\n",
       "<style scoped>\n",
       "    .dataframe tbody tr th:only-of-type {\n",
       "        vertical-align: middle;\n",
       "    }\n",
       "\n",
       "    .dataframe tbody tr th {\n",
       "        vertical-align: top;\n",
       "    }\n",
       "\n",
       "    .dataframe thead th {\n",
       "        text-align: right;\n",
       "    }\n",
       "</style>\n",
       "<table border=\"1\" class=\"dataframe\">\n",
       "  <thead>\n",
       "    <tr style=\"text-align: right;\">\n",
       "      <th></th>\n",
       "      <th>PassengerId</th>\n",
       "      <th>Survived</th>\n",
       "      <th>Pclass</th>\n",
       "      <th>Name</th>\n",
       "      <th>Sex</th>\n",
       "      <th>Age</th>\n",
       "      <th>SibSp</th>\n",
       "      <th>Parch</th>\n",
       "      <th>Ticket</th>\n",
       "      <th>Fare</th>\n",
       "      <th>Cabin</th>\n",
       "      <th>Embarked</th>\n",
       "    </tr>\n",
       "  </thead>\n",
       "  <tbody>\n",
       "    <tr>\n",
       "      <th>5</th>\n",
       "      <td>6</td>\n",
       "      <td>0.0</td>\n",
       "      <td>3</td>\n",
       "      <td>Moran, Mr. James</td>\n",
       "      <td>male</td>\n",
       "      <td>NaN</td>\n",
       "      <td>0</td>\n",
       "      <td>0</td>\n",
       "      <td>330877</td>\n",
       "      <td>8.4583</td>\n",
       "      <td>NaN</td>\n",
       "      <td>Q</td>\n",
       "    </tr>\n",
       "    <tr>\n",
       "      <th>17</th>\n",
       "      <td>18</td>\n",
       "      <td>1.0</td>\n",
       "      <td>2</td>\n",
       "      <td>Williams, Mr. Charles Eugene</td>\n",
       "      <td>male</td>\n",
       "      <td>NaN</td>\n",
       "      <td>0</td>\n",
       "      <td>0</td>\n",
       "      <td>244373</td>\n",
       "      <td>13.0000</td>\n",
       "      <td>NaN</td>\n",
       "      <td>S</td>\n",
       "    </tr>\n",
       "    <tr>\n",
       "      <th>19</th>\n",
       "      <td>20</td>\n",
       "      <td>1.0</td>\n",
       "      <td>3</td>\n",
       "      <td>Masselmani, Mrs. Fatima</td>\n",
       "      <td>female</td>\n",
       "      <td>NaN</td>\n",
       "      <td>0</td>\n",
       "      <td>0</td>\n",
       "      <td>2649</td>\n",
       "      <td>7.2250</td>\n",
       "      <td>NaN</td>\n",
       "      <td>C</td>\n",
       "    </tr>\n",
       "    <tr>\n",
       "      <th>26</th>\n",
       "      <td>27</td>\n",
       "      <td>0.0</td>\n",
       "      <td>3</td>\n",
       "      <td>Emir, Mr. Farred Chehab</td>\n",
       "      <td>male</td>\n",
       "      <td>NaN</td>\n",
       "      <td>0</td>\n",
       "      <td>0</td>\n",
       "      <td>2631</td>\n",
       "      <td>7.2250</td>\n",
       "      <td>NaN</td>\n",
       "      <td>C</td>\n",
       "    </tr>\n",
       "    <tr>\n",
       "      <th>27</th>\n",
       "      <td>29</td>\n",
       "      <td>1.0</td>\n",
       "      <td>3</td>\n",
       "      <td>O'Dwyer, Miss. Ellen \"Nellie\"</td>\n",
       "      <td>female</td>\n",
       "      <td>NaN</td>\n",
       "      <td>0</td>\n",
       "      <td>0</td>\n",
       "      <td>330959</td>\n",
       "      <td>7.8792</td>\n",
       "      <td>NaN</td>\n",
       "      <td>Q</td>\n",
       "    </tr>\n",
       "    <tr>\n",
       "      <th>...</th>\n",
       "      <td>...</td>\n",
       "      <td>...</td>\n",
       "      <td>...</td>\n",
       "      <td>...</td>\n",
       "      <td>...</td>\n",
       "      <td>...</td>\n",
       "      <td>...</td>\n",
       "      <td>...</td>\n",
       "      <td>...</td>\n",
       "      <td>...</td>\n",
       "      <td>...</td>\n",
       "      <td>...</td>\n",
       "    </tr>\n",
       "    <tr>\n",
       "      <th>1289</th>\n",
       "      <td>1300</td>\n",
       "      <td>NaN</td>\n",
       "      <td>3</td>\n",
       "      <td>Riordan, Miss. Johanna Hannah\"\"</td>\n",
       "      <td>female</td>\n",
       "      <td>NaN</td>\n",
       "      <td>0</td>\n",
       "      <td>0</td>\n",
       "      <td>334915</td>\n",
       "      <td>7.7208</td>\n",
       "      <td>NaN</td>\n",
       "      <td>Q</td>\n",
       "    </tr>\n",
       "    <tr>\n",
       "      <th>1291</th>\n",
       "      <td>1302</td>\n",
       "      <td>NaN</td>\n",
       "      <td>3</td>\n",
       "      <td>Naughton, Miss. Hannah</td>\n",
       "      <td>female</td>\n",
       "      <td>NaN</td>\n",
       "      <td>0</td>\n",
       "      <td>0</td>\n",
       "      <td>365237</td>\n",
       "      <td>7.7500</td>\n",
       "      <td>NaN</td>\n",
       "      <td>Q</td>\n",
       "    </tr>\n",
       "    <tr>\n",
       "      <th>1294</th>\n",
       "      <td>1305</td>\n",
       "      <td>NaN</td>\n",
       "      <td>3</td>\n",
       "      <td>Spector, Mr. Woolf</td>\n",
       "      <td>male</td>\n",
       "      <td>NaN</td>\n",
       "      <td>0</td>\n",
       "      <td>0</td>\n",
       "      <td>A.5. 3236</td>\n",
       "      <td>8.0500</td>\n",
       "      <td>NaN</td>\n",
       "      <td>S</td>\n",
       "    </tr>\n",
       "    <tr>\n",
       "      <th>1297</th>\n",
       "      <td>1308</td>\n",
       "      <td>NaN</td>\n",
       "      <td>3</td>\n",
       "      <td>Ware, Mr. Frederick</td>\n",
       "      <td>male</td>\n",
       "      <td>NaN</td>\n",
       "      <td>0</td>\n",
       "      <td>0</td>\n",
       "      <td>359309</td>\n",
       "      <td>8.0500</td>\n",
       "      <td>NaN</td>\n",
       "      <td>S</td>\n",
       "    </tr>\n",
       "    <tr>\n",
       "      <th>1298</th>\n",
       "      <td>1309</td>\n",
       "      <td>NaN</td>\n",
       "      <td>3</td>\n",
       "      <td>Peter, Master. Michael J</td>\n",
       "      <td>male</td>\n",
       "      <td>NaN</td>\n",
       "      <td>1</td>\n",
       "      <td>1</td>\n",
       "      <td>2668</td>\n",
       "      <td>22.3583</td>\n",
       "      <td>NaN</td>\n",
       "      <td>C</td>\n",
       "    </tr>\n",
       "  </tbody>\n",
       "</table>\n",
       "<p>256 rows × 12 columns</p>\n",
       "</div>"
      ],
      "text/plain": [
       "      PassengerId  Survived  Pclass                             Name     Sex  \\\n",
       "5               6       0.0       3                 Moran, Mr. James    male   \n",
       "17             18       1.0       2     Williams, Mr. Charles Eugene    male   \n",
       "19             20       1.0       3          Masselmani, Mrs. Fatima  female   \n",
       "26             27       0.0       3          Emir, Mr. Farred Chehab    male   \n",
       "27             29       1.0       3    O'Dwyer, Miss. Ellen \"Nellie\"  female   \n",
       "...           ...       ...     ...                              ...     ...   \n",
       "1289         1300       NaN       3  Riordan, Miss. Johanna Hannah\"\"  female   \n",
       "1291         1302       NaN       3           Naughton, Miss. Hannah  female   \n",
       "1294         1305       NaN       3               Spector, Mr. Woolf    male   \n",
       "1297         1308       NaN       3              Ware, Mr. Frederick    male   \n",
       "1298         1309       NaN       3         Peter, Master. Michael J    male   \n",
       "\n",
       "      Age  SibSp  Parch     Ticket     Fare Cabin Embarked  \n",
       "5     NaN      0      0     330877   8.4583   NaN        Q  \n",
       "17    NaN      0      0     244373  13.0000   NaN        S  \n",
       "19    NaN      0      0       2649   7.2250   NaN        C  \n",
       "26    NaN      0      0       2631   7.2250   NaN        C  \n",
       "27    NaN      0      0     330959   7.8792   NaN        Q  \n",
       "...   ...    ...    ...        ...      ...   ...      ...  \n",
       "1289  NaN      0      0     334915   7.7208   NaN        Q  \n",
       "1291  NaN      0      0     365237   7.7500   NaN        Q  \n",
       "1294  NaN      0      0  A.5. 3236   8.0500   NaN        S  \n",
       "1297  NaN      0      0     359309   8.0500   NaN        S  \n",
       "1298  NaN      1      1       2668  22.3583   NaN        C  \n",
       "\n",
       "[256 rows x 12 columns]"
      ]
     },
     "execution_count": 37,
     "metadata": {},
     "output_type": "execute_result"
    }
   ],
   "source": [
    "train_df[train_df[\"Age\"].isnull()]"
   ]
  },
  {
   "cell_type": "code",
   "execution_count": 38,
   "id": "9b977026",
   "metadata": {
    "execution": {
     "iopub.execute_input": "2025-03-11T07:07:56.944453Z",
     "iopub.status.busy": "2025-03-11T07:07:56.944098Z",
     "iopub.status.idle": "2025-03-11T07:07:57.145556Z",
     "shell.execute_reply": "2025-03-11T07:07:57.144314Z"
    },
    "papermill": {
     "duration": 0.236206,
     "end_time": "2025-03-11T07:07:57.147502",
     "exception": false,
     "start_time": "2025-03-11T07:07:56.911296",
     "status": "completed"
    },
    "tags": []
   },
   "outputs": [
    {
     "data": {
      "image/png": "[encoded data removed]",
      "text/plain": [
       "<Figure size 500x500 with 1 Axes>"
      ]
     },
     "metadata": {},
     "output_type": "display_data"
    }
   ],
   "source": [
    "sns.catplot(x = \"Sex\", y = \"Age\", data = train_df, kind = \"box\")\n",
    "plt.show()"
   ]
  },
  {
   "cell_type": "markdown",
   "id": "cfc01363",
   "metadata": {
    "papermill": {
     "duration": 0.039901,
     "end_time": "2025-03-11T07:07:57.220805",
     "exception": false,
     "start_time": "2025-03-11T07:07:57.180904",
     "status": "completed"
    },
    "tags": []
   },
   "source": [
    "* Sex is not informative for age prediction, age distribution seems to be same"
   ]
  },
  {
   "cell_type": "code",
   "execution_count": 39,
   "id": "ee88254d",
   "metadata": {
    "execution": {
     "iopub.execute_input": "2025-03-11T07:07:57.288387Z",
     "iopub.status.busy": "2025-03-11T07:07:57.287912Z",
     "iopub.status.idle": "2025-03-11T07:07:57.640495Z",
     "shell.execute_reply": "2025-03-11T07:07:57.638880Z"
    },
    "papermill": {
     "duration": 0.390037,
     "end_time": "2025-03-11T07:07:57.643352",
     "exception": false,
     "start_time": "2025-03-11T07:07:57.253315",
     "status": "completed"
    },
    "tags": []
   },
   "outputs": [
    {
     "data": {
      "image/png": "[encoded data removed]",
      "text/plain": [
       "<Figure size 558.875x500 with 1 Axes>"
      ]
     },
     "metadata": {},
     "output_type": "display_data"
    }
   ],
   "source": [
    "sns.catplot(x = \"Sex\", y = \"Age\", hue = \"Pclass\", data = train_df, kind = \"box\")\n",
    "plt.show()"
   ]
  },
  {
   "cell_type": "markdown",
   "id": "23ba87d5",
   "metadata": {
    "papermill": {
     "duration": 0.035284,
     "end_time": "2025-03-11T07:07:57.715332",
     "exception": false,
     "start_time": "2025-03-11T07:07:57.680048",
     "status": "completed"
    },
    "tags": []
   },
   "source": [
    "* 1st class passangers are older than 2nd and 2nd is older than 3rd class"
   ]
  },
  {
   "cell_type": "code",
   "execution_count": 40,
   "id": "2d3b656b",
   "metadata": {
    "execution": {
     "iopub.execute_input": "2025-03-11T07:07:57.783355Z",
     "iopub.status.busy": "2025-03-11T07:07:57.782944Z",
     "iopub.status.idle": "2025-03-11T07:07:58.350301Z",
     "shell.execute_reply": "2025-03-11T07:07:58.348952Z"
    },
    "papermill": {
     "duration": 0.603618,
     "end_time": "2025-03-11T07:07:58.352425",
     "exception": false,
     "start_time": "2025-03-11T07:07:57.748807",
     "status": "completed"
    },
    "tags": []
   },
   "outputs": [
    {
     "data": {
      "image/png": "[encoded data removed]",
      "text/plain": [
       "<Figure size 500x500 with 1 Axes>"
      ]
     },
     "metadata": {},
     "output_type": "display_data"
    },
    {
     "data": {
      "image/png": "[encoded data removed]",
      "text/plain": [
       "<Figure size 500x500 with 1 Axes>"
      ]
     },
     "metadata": {},
     "output_type": "display_data"
    }
   ],
   "source": [
    "sns.catplot(x = \"Parch\", y = \"Age\", data = train_df, kind = \"box\")\n",
    "sns.catplot(x = \"SibSp\", y = \"Age\", data = train_df, kind = \"box\")\n",
    "plt.show()"
   ]
  },
  {
   "cell_type": "code",
   "execution_count": 41,
   "id": "58cfffad",
   "metadata": {
    "execution": {
     "iopub.execute_input": "2025-03-11T07:07:58.428773Z",
     "iopub.status.busy": "2025-03-11T07:07:58.428082Z",
     "iopub.status.idle": "2025-03-11T07:07:58.767060Z",
     "shell.execute_reply": "2025-03-11T07:07:58.765646Z"
    },
    "papermill": {
     "duration": 0.38006,
     "end_time": "2025-03-11T07:07:58.769420",
     "exception": false,
     "start_time": "2025-03-11T07:07:58.389360",
     "status": "completed"
    },
    "tags": []
   },
   "outputs": [
    {
     "data": {
      "image/png": "[encoded data removed]",
      "text/plain": [
       "<Figure size 640x480 with 2 Axes>"
      ]
     },
     "metadata": {},
     "output_type": "display_data"
    }
   ],
   "source": [
    "train_df[\"Sex\"] = [1 if i == \"male\" else 0 for i in train_df[\"Sex\"]]\n",
    "sns.heatmap(train_df[[\"Age\",\"Sex\",\"SibSp\",\"Parch\",\"Pclass\"]].corr(), annot = True)\n",
    "plt.show()"
   ]
  },
  {
   "cell_type": "markdown",
   "id": "1bf0ecbe",
   "metadata": {
    "papermill": {
     "duration": 0.038701,
     "end_time": "2025-03-11T07:07:58.845585",
     "exception": false,
     "start_time": "2025-03-11T07:07:58.806884",
     "status": "completed"
    },
    "tags": []
   },
   "source": [
    "* Age is not corraleted with sex but it is corraleted with Parch, SibSp and Pclass"
   ]
  },
  {
   "cell_type": "code",
   "execution_count": 42,
   "id": "84b426f6",
   "metadata": {
    "execution": {
     "iopub.execute_input": "2025-03-11T07:07:58.922163Z",
     "iopub.status.busy": "2025-03-11T07:07:58.921738Z",
     "iopub.status.idle": "2025-03-11T07:07:59.296047Z",
     "shell.execute_reply": "2025-03-11T07:07:59.294602Z"
    },
    "papermill": {
     "duration": 0.412442,
     "end_time": "2025-03-11T07:07:59.298057",
     "exception": false,
     "start_time": "2025-03-11T07:07:58.885615",
     "status": "completed"
    },
    "tags": []
   },
   "outputs": [],
   "source": [
    "index_nan_age = list(train_df[\"Age\"][train_df[\"Age\"].isnull()].index)\n",
    "for i in index_nan_age:\n",
    "    age_pred = train_df[\"Age\"][((train_df[\"SibSp\"] == train_df.iloc[i][\"SibSp\"]) & (train_df[\"Parch\"] == train_df.iloc[i][\"Parch\"]) & (train_df[\"Pclass\"] == train_df.iloc[i][\"Pclass\"])) ].median()\n",
    "    age_med = train_df[\"Age\"].median()\n",
    "    if not np.isnan(age_pred):\n",
    "        train_df[\"Age\"].iloc[i] = age_pred\n",
    "    else:\n",
    "        train_df[\"Age\"].iloc[i] = age_med"
   ]
  },
  {
   "cell_type": "code",
   "execution_count": 43,
   "id": "86745903",
   "metadata": {
    "execution": {
     "iopub.execute_input": "2025-03-11T07:07:59.369818Z",
     "iopub.status.busy": "2025-03-11T07:07:59.369419Z",
     "iopub.status.idle": "2025-03-11T07:07:59.381576Z",
     "shell.execute_reply": "2025-03-11T07:07:59.380381Z"
    },
    "papermill": {
     "duration": 0.050507,
     "end_time": "2025-03-11T07:07:59.383610",
     "exception": false,
     "start_time": "2025-03-11T07:07:59.333103",
     "status": "completed"
    },
    "tags": []
   },
   "outputs": [
    {
     "data": {
      "text/html": [
       "<div>\n",
       "<style scoped>\n",
       "    .dataframe tbody tr th:only-of-type {\n",
       "        vertical-align: middle;\n",
       "    }\n",
       "\n",
       "    .dataframe tbody tr th {\n",
       "        vertical-align: top;\n",
       "    }\n",
       "\n",
       "    .dataframe thead th {\n",
       "        text-align: right;\n",
       "    }\n",
       "</style>\n",
       "<table border=\"1\" class=\"dataframe\">\n",
       "  <thead>\n",
       "    <tr style=\"text-align: right;\">\n",
       "      <th></th>\n",
       "      <th>PassengerId</th>\n",
       "      <th>Survived</th>\n",
       "      <th>Pclass</th>\n",
       "      <th>Name</th>\n",
       "      <th>Sex</th>\n",
       "      <th>Age</th>\n",
       "      <th>SibSp</th>\n",
       "      <th>Parch</th>\n",
       "      <th>Ticket</th>\n",
       "      <th>Fare</th>\n",
       "      <th>Cabin</th>\n",
       "      <th>Embarked</th>\n",
       "    </tr>\n",
       "  </thead>\n",
       "  <tbody>\n",
       "  </tbody>\n",
       "</table>\n",
       "</div>"
      ],
      "text/plain": [
       "Empty DataFrame\n",
       "Columns: [PassengerId, Survived, Pclass, Name, Sex, Age, SibSp, Parch, Ticket, Fare, Cabin, Embarked]\n",
       "Index: []"
      ]
     },
     "execution_count": 43,
     "metadata": {},
     "output_type": "execute_result"
    }
   ],
   "source": [
    "train_df[train_df[\"Age\"].isnull()]"
   ]
  },
  {
   "cell_type": "markdown",
   "id": "c129ddc5",
   "metadata": {
    "papermill": {
     "duration": 0.034889,
     "end_time": "2025-03-11T07:07:59.454442",
     "exception": false,
     "start_time": "2025-03-11T07:07:59.419553",
     "status": "completed"
    },
    "tags": []
   },
   "source": [
    "<a id = \"21\"></a><br>\n",
    "# Feature Engineering\n"
   ]
  },
  {
   "cell_type": "markdown",
   "id": "47bede4d",
   "metadata": {
    "papermill": {
     "duration": 0.033838,
     "end_time": "2025-03-11T07:07:59.522506",
     "exception": false,
     "start_time": "2025-03-11T07:07:59.488668",
     "status": "completed"
    },
    "tags": []
   },
   "source": [
    "<a id = \"22\"></a><br>\n",
    "## Name -- Title"
   ]
  },
  {
   "cell_type": "code",
   "execution_count": 44,
   "id": "c6bc9e69",
   "metadata": {
    "execution": {
     "iopub.execute_input": "2025-03-11T07:07:59.592672Z",
     "iopub.status.busy": "2025-03-11T07:07:59.592339Z",
     "iopub.status.idle": "2025-03-11T07:07:59.599436Z",
     "shell.execute_reply": "2025-03-11T07:07:59.598274Z"
    },
    "papermill": {
     "duration": 0.043842,
     "end_time": "2025-03-11T07:07:59.601008",
     "exception": false,
     "start_time": "2025-03-11T07:07:59.557166",
     "status": "completed"
    },
    "tags": []
   },
   "outputs": [
    {
     "data": {
      "text/plain": [
       "0                              Braund, Mr. Owen Harris\n",
       "1    Cumings, Mrs. John Bradley (Florence Briggs Th...\n",
       "2                               Heikkinen, Miss. Laina\n",
       "3         Futrelle, Mrs. Jacques Heath (Lily May Peel)\n",
       "4                             Allen, Mr. William Henry\n",
       "5                                     Moran, Mr. James\n",
       "6                              McCarthy, Mr. Timothy J\n",
       "7                       Palsson, Master. Gosta Leonard\n",
       "8    Johnson, Mrs. Oscar W (Elisabeth Vilhelmina Berg)\n",
       "9                  Nasser, Mrs. Nicholas (Adele Achem)\n",
       "Name: Name, dtype: object"
      ]
     },
     "execution_count": 44,
     "metadata": {},
     "output_type": "execute_result"
    }
   ],
   "source": [
    "train_df[\"Name\"].head(10)"
   ]
  },
  {
   "cell_type": "code",
   "execution_count": 45,
   "id": "7237f183",
   "metadata": {
    "execution": {
     "iopub.execute_input": "2025-03-11T07:07:59.672159Z",
     "iopub.status.busy": "2025-03-11T07:07:59.671830Z",
     "iopub.status.idle": "2025-03-11T07:07:59.678218Z",
     "shell.execute_reply": "2025-03-11T07:07:59.677104Z"
    },
    "papermill": {
     "duration": 0.044401,
     "end_time": "2025-03-11T07:07:59.679852",
     "exception": false,
     "start_time": "2025-03-11T07:07:59.635451",
     "status": "completed"
    },
    "tags": []
   },
   "outputs": [],
   "source": [
    "name = train_df[\"Name\"]\n",
    "train_df[\"Title\"] = [i.split(\".\")[0].split(\",\")[-1].strip() for i in name]"
   ]
  },
  {
   "cell_type": "code",
   "execution_count": 46,
   "id": "e12f92c1",
   "metadata": {
    "execution": {
     "iopub.execute_input": "2025-03-11T07:07:59.750604Z",
     "iopub.status.busy": "2025-03-11T07:07:59.750182Z",
     "iopub.status.idle": "2025-03-11T07:07:59.758726Z",
     "shell.execute_reply": "2025-03-11T07:07:59.757366Z"
    },
    "papermill": {
     "duration": 0.046201,
     "end_time": "2025-03-11T07:07:59.760995",
     "exception": false,
     "start_time": "2025-03-11T07:07:59.714794",
     "status": "completed"
    },
    "tags": []
   },
   "outputs": [
    {
     "data": {
      "text/plain": [
       "0        Mr\n",
       "1       Mrs\n",
       "2      Miss\n",
       "3       Mrs\n",
       "4        Mr\n",
       "5        Mr\n",
       "6        Mr\n",
       "7    Master\n",
       "8       Mrs\n",
       "9       Mrs\n",
       "Name: Title, dtype: object"
      ]
     },
     "execution_count": 46,
     "metadata": {},
     "output_type": "execute_result"
    }
   ],
   "source": [
    "train_df[\"Title\"].head(10)"
   ]
  },
  {
   "cell_type": "code",
   "execution_count": 47,
   "id": "35ab4206",
   "metadata": {
    "execution": {
     "iopub.execute_input": "2025-03-11T07:07:59.834841Z",
     "iopub.status.busy": "2025-03-11T07:07:59.834476Z",
     "iopub.status.idle": "2025-03-11T07:08:00.071038Z",
     "shell.execute_reply": "2025-03-11T07:08:00.069732Z"
    },
    "papermill": {
     "duration": 0.275976,
     "end_time": "2025-03-11T07:08:00.073434",
     "exception": false,
     "start_time": "2025-03-11T07:07:59.797458",
     "status": "completed"
    },
    "tags": []
   },
   "outputs": [
    {
     "data": {
      "image/png": "[encoded data removed]",
      "text/plain": [
       "<Figure size 640x480 with 1 Axes>"
      ]
     },
     "metadata": {},
     "output_type": "display_data"
    }
   ],
   "source": [
    "sns.countplot(x=\"Title\", data = train_df)\n",
    "plt.xticks(rotation=60)\n",
    "plt.show()"
   ]
  },
  {
   "cell_type": "code",
   "execution_count": 48,
   "id": "0f13cf9f",
   "metadata": {
    "execution": {
     "iopub.execute_input": "2025-03-11T07:08:00.149785Z",
     "iopub.status.busy": "2025-03-11T07:08:00.149264Z",
     "iopub.status.idle": "2025-03-11T07:08:00.432583Z",
     "shell.execute_reply": "2025-03-11T07:08:00.431234Z"
    },
    "papermill": {
     "duration": 0.323881,
     "end_time": "2025-03-11T07:08:00.434375",
     "exception": false,
     "start_time": "2025-03-11T07:08:00.110494",
     "status": "completed"
    },
    "tags": []
   },
   "outputs": [
    {
     "data": {
      "image/png": "[encoded data removed]",
      "text/plain": [
       "<Figure size 640x480 with 1 Axes>"
      ]
     },
     "metadata": {},
     "output_type": "display_data"
    },
    {
     "data": {
      "text/plain": [
       "0     2\n",
       "1     1\n",
       "2     1\n",
       "3     1\n",
       "4     2\n",
       "5     2\n",
       "6     2\n",
       "7     0\n",
       "8     1\n",
       "9     1\n",
       "10    1\n",
       "11    1\n",
       "12    2\n",
       "13    2\n",
       "14    1\n",
       "15    1\n",
       "16    0\n",
       "17    2\n",
       "18    1\n",
       "19    1\n",
       "Name: Title, dtype: int64"
      ]
     },
     "execution_count": 48,
     "metadata": {},
     "output_type": "execute_result"
    }
   ],
   "source": [
    "# convert to categorical\n",
    "train_df[\"Title\"] = train_df[\"Title\"].replace([\"Lady\",\"the Countess\",\"Capt\",\"Col\",\"Don\",\"Dr\",\"Major\",\"Rev\",\"Sir\",\"Jonkheer\",\"Dona\"],\"other\")\n",
    "train_df[\"Title\"] = [0 if i == \"Master\" else 1 if i == \"Miss\" or i == \"Ms\" or i == \"Mlle\" or i == \"Mrs\" else 2 if i == \"Mr\" else 3 for i in train_df[\"Title\"] ]\n",
    "sns.countplot(x=\"Title\", data = train_df)\n",
    "plt.xticks(rotation=60)\n",
    "plt.show()\n",
    "train_df[\"Title\"].head(20)\n"
   ]
  },
  {
   "cell_type": "code",
   "execution_count": 49,
   "id": "ebd3b5ce",
   "metadata": {
    "execution": {
     "iopub.execute_input": "2025-03-11T07:08:00.508161Z",
     "iopub.status.busy": "2025-03-11T07:08:00.507713Z",
     "iopub.status.idle": "2025-03-11T07:08:00.919247Z",
     "shell.execute_reply": "2025-03-11T07:08:00.918123Z"
    },
    "papermill": {
     "duration": 0.450499,
     "end_time": "2025-03-11T07:08:00.920988",
     "exception": false,
     "start_time": "2025-03-11T07:08:00.470489",
     "status": "completed"
    },
    "tags": []
   },
   "outputs": [
    {
     "data": {
      "image/png": "[encoded data removed]",
      "text/plain": [
       "<Figure size 500x500 with 1 Axes>"
      ]
     },
     "metadata": {},
     "output_type": "display_data"
    }
   ],
   "source": [
    "g = sns.catplot(x = \"Title\", y = \"Survived\", data = train_df, kind = \"bar\")\n",
    "g.set_xticklabels([\"Master\", \"Mrs\",\"Mr\", \"Other\"])\n",
    "g.set_ylabels(\"Survival Probability\")\n",
    "plt.show()"
   ]
  },
  {
   "cell_type": "code",
   "execution_count": 50,
   "id": "9502dac9",
   "metadata": {
    "execution": {
     "iopub.execute_input": "2025-03-11T07:08:00.995803Z",
     "iopub.status.busy": "2025-03-11T07:08:00.995436Z",
     "iopub.status.idle": "2025-03-11T07:08:01.001279Z",
     "shell.execute_reply": "2025-03-11T07:08:01.000173Z"
    },
    "papermill": {
     "duration": 0.045072,
     "end_time": "2025-03-11T07:08:01.002936",
     "exception": false,
     "start_time": "2025-03-11T07:08:00.957864",
     "status": "completed"
    },
    "tags": []
   },
   "outputs": [],
   "source": [
    "train_df.drop(labels = [\"Name\"],axis=1,inplace=True)"
   ]
  },
  {
   "cell_type": "code",
   "execution_count": 51,
   "id": "e29207c1",
   "metadata": {
    "execution": {
     "iopub.execute_input": "2025-03-11T07:08:01.079521Z",
     "iopub.status.busy": "2025-03-11T07:08:01.079118Z",
     "iopub.status.idle": "2025-03-11T07:08:01.093483Z",
     "shell.execute_reply": "2025-03-11T07:08:01.091908Z"
    },
    "papermill": {
     "duration": 0.055178,
     "end_time": "2025-03-11T07:08:01.095732",
     "exception": false,
     "start_time": "2025-03-11T07:08:01.040554",
     "status": "completed"
    },
    "tags": []
   },
   "outputs": [
    {
     "data": {
      "text/html": [
       "<div>\n",
       "<style scoped>\n",
       "    .dataframe tbody tr th:only-of-type {\n",
       "        vertical-align: middle;\n",
       "    }\n",
       "\n",
       "    .dataframe tbody tr th {\n",
       "        vertical-align: top;\n",
       "    }\n",
       "\n",
       "    .dataframe thead th {\n",
       "        text-align: right;\n",
       "    }\n",
       "</style>\n",
       "<table border=\"1\" class=\"dataframe\">\n",
       "  <thead>\n",
       "    <tr style=\"text-align: right;\">\n",
       "      <th></th>\n",
       "      <th>PassengerId</th>\n",
       "      <th>Survived</th>\n",
       "      <th>Pclass</th>\n",
       "      <th>Sex</th>\n",
       "      <th>Age</th>\n",
       "      <th>SibSp</th>\n",
       "      <th>Parch</th>\n",
       "      <th>Ticket</th>\n",
       "      <th>Fare</th>\n",
       "      <th>Cabin</th>\n",
       "      <th>Embarked</th>\n",
       "      <th>Title</th>\n",
       "    </tr>\n",
       "  </thead>\n",
       "  <tbody>\n",
       "    <tr>\n",
       "      <th>0</th>\n",
       "      <td>1</td>\n",
       "      <td>0.0</td>\n",
       "      <td>3</td>\n",
       "      <td>1</td>\n",
       "      <td>22.0</td>\n",
       "      <td>1</td>\n",
       "      <td>0</td>\n",
       "      <td>A/5 21171</td>\n",
       "      <td>7.2500</td>\n",
       "      <td>NaN</td>\n",
       "      <td>S</td>\n",
       "      <td>2</td>\n",
       "    </tr>\n",
       "    <tr>\n",
       "      <th>1</th>\n",
       "      <td>2</td>\n",
       "      <td>1.0</td>\n",
       "      <td>1</td>\n",
       "      <td>0</td>\n",
       "      <td>38.0</td>\n",
       "      <td>1</td>\n",
       "      <td>0</td>\n",
       "      <td>PC 17599</td>\n",
       "      <td>71.2833</td>\n",
       "      <td>C85</td>\n",
       "      <td>C</td>\n",
       "      <td>1</td>\n",
       "    </tr>\n",
       "    <tr>\n",
       "      <th>2</th>\n",
       "      <td>3</td>\n",
       "      <td>1.0</td>\n",
       "      <td>3</td>\n",
       "      <td>0</td>\n",
       "      <td>26.0</td>\n",
       "      <td>0</td>\n",
       "      <td>0</td>\n",
       "      <td>STON/O2. 3101282</td>\n",
       "      <td>7.9250</td>\n",
       "      <td>NaN</td>\n",
       "      <td>S</td>\n",
       "      <td>1</td>\n",
       "    </tr>\n",
       "    <tr>\n",
       "      <th>3</th>\n",
       "      <td>4</td>\n",
       "      <td>1.0</td>\n",
       "      <td>1</td>\n",
       "      <td>0</td>\n",
       "      <td>35.0</td>\n",
       "      <td>1</td>\n",
       "      <td>0</td>\n",
       "      <td>113803</td>\n",
       "      <td>53.1000</td>\n",
       "      <td>C123</td>\n",
       "      <td>S</td>\n",
       "      <td>1</td>\n",
       "    </tr>\n",
       "    <tr>\n",
       "      <th>4</th>\n",
       "      <td>5</td>\n",
       "      <td>0.0</td>\n",
       "      <td>3</td>\n",
       "      <td>1</td>\n",
       "      <td>35.0</td>\n",
       "      <td>0</td>\n",
       "      <td>0</td>\n",
       "      <td>373450</td>\n",
       "      <td>8.0500</td>\n",
       "      <td>NaN</td>\n",
       "      <td>S</td>\n",
       "      <td>2</td>\n",
       "    </tr>\n",
       "  </tbody>\n",
       "</table>\n",
       "</div>"
      ],
      "text/plain": [
       "   PassengerId  Survived  Pclass  Sex   Age  SibSp  Parch            Ticket  \\\n",
       "0            1       0.0       3    1  22.0      1      0         A/5 21171   \n",
       "1            2       1.0       1    0  38.0      1      0          PC 17599   \n",
       "2            3       1.0       3    0  26.0      0      0  STON/O2. 3101282   \n",
       "3            4       1.0       1    0  35.0      1      0            113803   \n",
       "4            5       0.0       3    1  35.0      0      0            373450   \n",
       "\n",
       "      Fare Cabin Embarked  Title  \n",
       "0   7.2500   NaN        S      2  \n",
       "1  71.2833   C85        C      1  \n",
       "2   7.9250   NaN        S      1  \n",
       "3  53.1000  C123        S      1  \n",
       "4   8.0500   NaN        S      2  "
      ]
     },
     "execution_count": 51,
     "metadata": {},
     "output_type": "execute_result"
    }
   ],
   "source": [
    "train_df.head()"
   ]
  },
  {
   "cell_type": "code",
   "execution_count": 52,
   "id": "ae09d4ff",
   "metadata": {
    "execution": {
     "iopub.execute_input": "2025-03-11T07:08:01.170892Z",
     "iopub.status.busy": "2025-03-11T07:08:01.170525Z",
     "iopub.status.idle": "2025-03-11T07:08:01.193840Z",
     "shell.execute_reply": "2025-03-11T07:08:01.191907Z"
    },
    "papermill": {
     "duration": 0.063322,
     "end_time": "2025-03-11T07:08:01.196076",
     "exception": false,
     "start_time": "2025-03-11T07:08:01.132754",
     "status": "completed"
    },
    "tags": []
   },
   "outputs": [
    {
     "data": {
      "text/html": [
       "<div>\n",
       "<style scoped>\n",
       "    .dataframe tbody tr th:only-of-type {\n",
       "        vertical-align: middle;\n",
       "    }\n",
       "\n",
       "    .dataframe tbody tr th {\n",
       "        vertical-align: top;\n",
       "    }\n",
       "\n",
       "    .dataframe thead th {\n",
       "        text-align: right;\n",
       "    }\n",
       "</style>\n",
       "<table border=\"1\" class=\"dataframe\">\n",
       "  <thead>\n",
       "    <tr style=\"text-align: right;\">\n",
       "      <th></th>\n",
       "      <th>PassengerId</th>\n",
       "      <th>Survived</th>\n",
       "      <th>Pclass</th>\n",
       "      <th>Sex</th>\n",
       "      <th>Age</th>\n",
       "      <th>SibSp</th>\n",
       "      <th>Parch</th>\n",
       "      <th>Ticket</th>\n",
       "      <th>Fare</th>\n",
       "      <th>Cabin</th>\n",
       "      <th>Embarked</th>\n",
       "      <th>Title_0</th>\n",
       "      <th>Title_1</th>\n",
       "      <th>Title_2</th>\n",
       "      <th>Title_3</th>\n",
       "    </tr>\n",
       "  </thead>\n",
       "  <tbody>\n",
       "    <tr>\n",
       "      <th>0</th>\n",
       "      <td>1</td>\n",
       "      <td>0.0</td>\n",
       "      <td>3</td>\n",
       "      <td>1</td>\n",
       "      <td>22.0</td>\n",
       "      <td>1</td>\n",
       "      <td>0</td>\n",
       "      <td>A/5 21171</td>\n",
       "      <td>7.2500</td>\n",
       "      <td>NaN</td>\n",
       "      <td>S</td>\n",
       "      <td>False</td>\n",
       "      <td>False</td>\n",
       "      <td>True</td>\n",
       "      <td>False</td>\n",
       "    </tr>\n",
       "    <tr>\n",
       "      <th>1</th>\n",
       "      <td>2</td>\n",
       "      <td>1.0</td>\n",
       "      <td>1</td>\n",
       "      <td>0</td>\n",
       "      <td>38.0</td>\n",
       "      <td>1</td>\n",
       "      <td>0</td>\n",
       "      <td>PC 17599</td>\n",
       "      <td>71.2833</td>\n",
       "      <td>C85</td>\n",
       "      <td>C</td>\n",
       "      <td>False</td>\n",
       "      <td>True</td>\n",
       "      <td>False</td>\n",
       "      <td>False</td>\n",
       "    </tr>\n",
       "    <tr>\n",
       "      <th>2</th>\n",
       "      <td>3</td>\n",
       "      <td>1.0</td>\n",
       "      <td>3</td>\n",
       "      <td>0</td>\n",
       "      <td>26.0</td>\n",
       "      <td>0</td>\n",
       "      <td>0</td>\n",
       "      <td>STON/O2. 3101282</td>\n",
       "      <td>7.9250</td>\n",
       "      <td>NaN</td>\n",
       "      <td>S</td>\n",
       "      <td>False</td>\n",
       "      <td>True</td>\n",
       "      <td>False</td>\n",
       "      <td>False</td>\n",
       "    </tr>\n",
       "    <tr>\n",
       "      <th>3</th>\n",
       "      <td>4</td>\n",
       "      <td>1.0</td>\n",
       "      <td>1</td>\n",
       "      <td>0</td>\n",
       "      <td>35.0</td>\n",
       "      <td>1</td>\n",
       "      <td>0</td>\n",
       "      <td>113803</td>\n",
       "      <td>53.1000</td>\n",
       "      <td>C123</td>\n",
       "      <td>S</td>\n",
       "      <td>False</td>\n",
       "      <td>True</td>\n",
       "      <td>False</td>\n",
       "      <td>False</td>\n",
       "    </tr>\n",
       "    <tr>\n",
       "      <th>4</th>\n",
       "      <td>5</td>\n",
       "      <td>0.0</td>\n",
       "      <td>3</td>\n",
       "      <td>1</td>\n",
       "      <td>35.0</td>\n",
       "      <td>0</td>\n",
       "      <td>0</td>\n",
       "      <td>373450</td>\n",
       "      <td>8.0500</td>\n",
       "      <td>NaN</td>\n",
       "      <td>S</td>\n",
       "      <td>False</td>\n",
       "      <td>False</td>\n",
       "      <td>True</td>\n",
       "      <td>False</td>\n",
       "    </tr>\n",
       "  </tbody>\n",
       "</table>\n",
       "</div>"
      ],
      "text/plain": [
       "   PassengerId  Survived  Pclass  Sex   Age  SibSp  Parch            Ticket  \\\n",
       "0            1       0.0       3    1  22.0      1      0         A/5 21171   \n",
       "1            2       1.0       1    0  38.0      1      0          PC 17599   \n",
       "2            3       1.0       3    0  26.0      0      0  STON/O2. 3101282   \n",
       "3            4       1.0       1    0  35.0      1      0            113803   \n",
       "4            5       0.0       3    1  35.0      0      0            373450   \n",
       "\n",
       "      Fare Cabin Embarked  Title_0  Title_1  Title_2  Title_3  \n",
       "0   7.2500   NaN        S    False    False     True    False  \n",
       "1  71.2833   C85        C    False     True    False    False  \n",
       "2   7.9250   NaN        S    False     True    False    False  \n",
       "3  53.1000  C123        S    False     True    False    False  \n",
       "4   8.0500   NaN        S    False    False     True    False  "
      ]
     },
     "execution_count": 52,
     "metadata": {},
     "output_type": "execute_result"
    }
   ],
   "source": [
    "train_df = pd.get_dummies(train_df, columns=[\"Title\"])\n",
    "train_df.head()"
   ]
  },
  {
   "cell_type": "markdown",
   "id": "31d1cb28",
   "metadata": {
    "papermill": {
     "duration": 0.038046,
     "end_time": "2025-03-11T07:08:01.272100",
     "exception": false,
     "start_time": "2025-03-11T07:08:01.234054",
     "status": "completed"
    },
    "tags": []
   },
   "source": [
    "<a id = \"23\"></a><br>\n",
    "## Family Size"
   ]
  },
  {
   "cell_type": "code",
   "execution_count": 53,
   "id": "abbc2747",
   "metadata": {
    "execution": {
     "iopub.execute_input": "2025-03-11T07:08:01.348631Z",
     "iopub.status.busy": "2025-03-11T07:08:01.348017Z",
     "iopub.status.idle": "2025-03-11T07:08:01.365537Z",
     "shell.execute_reply": "2025-03-11T07:08:01.364148Z"
    },
    "papermill": {
     "duration": 0.059303,
     "end_time": "2025-03-11T07:08:01.367908",
     "exception": false,
     "start_time": "2025-03-11T07:08:01.308605",
     "status": "completed"
    },
    "tags": []
   },
   "outputs": [
    {
     "data": {
      "text/html": [
       "<div>\n",
       "<style scoped>\n",
       "    .dataframe tbody tr th:only-of-type {\n",
       "        vertical-align: middle;\n",
       "    }\n",
       "\n",
       "    .dataframe tbody tr th {\n",
       "        vertical-align: top;\n",
       "    }\n",
       "\n",
       "    .dataframe thead th {\n",
       "        text-align: right;\n",
       "    }\n",
       "</style>\n",
       "<table border=\"1\" class=\"dataframe\">\n",
       "  <thead>\n",
       "    <tr style=\"text-align: right;\">\n",
       "      <th></th>\n",
       "      <th>PassengerId</th>\n",
       "      <th>Survived</th>\n",
       "      <th>Pclass</th>\n",
       "      <th>Sex</th>\n",
       "      <th>Age</th>\n",
       "      <th>SibSp</th>\n",
       "      <th>Parch</th>\n",
       "      <th>Ticket</th>\n",
       "      <th>Fare</th>\n",
       "      <th>Cabin</th>\n",
       "      <th>Embarked</th>\n",
       "      <th>Title_0</th>\n",
       "      <th>Title_1</th>\n",
       "      <th>Title_2</th>\n",
       "      <th>Title_3</th>\n",
       "    </tr>\n",
       "  </thead>\n",
       "  <tbody>\n",
       "    <tr>\n",
       "      <th>0</th>\n",
       "      <td>1</td>\n",
       "      <td>0.0</td>\n",
       "      <td>3</td>\n",
       "      <td>1</td>\n",
       "      <td>22.0</td>\n",
       "      <td>1</td>\n",
       "      <td>0</td>\n",
       "      <td>A/5 21171</td>\n",
       "      <td>7.2500</td>\n",
       "      <td>NaN</td>\n",
       "      <td>S</td>\n",
       "      <td>False</td>\n",
       "      <td>False</td>\n",
       "      <td>True</td>\n",
       "      <td>False</td>\n",
       "    </tr>\n",
       "    <tr>\n",
       "      <th>1</th>\n",
       "      <td>2</td>\n",
       "      <td>1.0</td>\n",
       "      <td>1</td>\n",
       "      <td>0</td>\n",
       "      <td>38.0</td>\n",
       "      <td>1</td>\n",
       "      <td>0</td>\n",
       "      <td>PC 17599</td>\n",
       "      <td>71.2833</td>\n",
       "      <td>C85</td>\n",
       "      <td>C</td>\n",
       "      <td>False</td>\n",
       "      <td>True</td>\n",
       "      <td>False</td>\n",
       "      <td>False</td>\n",
       "    </tr>\n",
       "    <tr>\n",
       "      <th>2</th>\n",
       "      <td>3</td>\n",
       "      <td>1.0</td>\n",
       "      <td>3</td>\n",
       "      <td>0</td>\n",
       "      <td>26.0</td>\n",
       "      <td>0</td>\n",
       "      <td>0</td>\n",
       "      <td>STON/O2. 3101282</td>\n",
       "      <td>7.9250</td>\n",
       "      <td>NaN</td>\n",
       "      <td>S</td>\n",
       "      <td>False</td>\n",
       "      <td>True</td>\n",
       "      <td>False</td>\n",
       "      <td>False</td>\n",
       "    </tr>\n",
       "    <tr>\n",
       "      <th>3</th>\n",
       "      <td>4</td>\n",
       "      <td>1.0</td>\n",
       "      <td>1</td>\n",
       "      <td>0</td>\n",
       "      <td>35.0</td>\n",
       "      <td>1</td>\n",
       "      <td>0</td>\n",
       "      <td>113803</td>\n",
       "      <td>53.1000</td>\n",
       "      <td>C123</td>\n",
       "      <td>S</td>\n",
       "      <td>False</td>\n",
       "      <td>True</td>\n",
       "      <td>False</td>\n",
       "      <td>False</td>\n",
       "    </tr>\n",
       "    <tr>\n",
       "      <th>4</th>\n",
       "      <td>5</td>\n",
       "      <td>0.0</td>\n",
       "      <td>3</td>\n",
       "      <td>1</td>\n",
       "      <td>35.0</td>\n",
       "      <td>0</td>\n",
       "      <td>0</td>\n",
       "      <td>373450</td>\n",
       "      <td>8.0500</td>\n",
       "      <td>NaN</td>\n",
       "      <td>S</td>\n",
       "      <td>False</td>\n",
       "      <td>False</td>\n",
       "      <td>True</td>\n",
       "      <td>False</td>\n",
       "    </tr>\n",
       "  </tbody>\n",
       "</table>\n",
       "</div>"
      ],
      "text/plain": [
       "   PassengerId  Survived  Pclass  Sex   Age  SibSp  Parch            Ticket  \\\n",
       "0            1       0.0       3    1  22.0      1      0         A/5 21171   \n",
       "1            2       1.0       1    0  38.0      1      0          PC 17599   \n",
       "2            3       1.0       3    0  26.0      0      0  STON/O2. 3101282   \n",
       "3            4       1.0       1    0  35.0      1      0            113803   \n",
       "4            5       0.0       3    1  35.0      0      0            373450   \n",
       "\n",
       "      Fare Cabin Embarked  Title_0  Title_1  Title_2  Title_3  \n",
       "0   7.2500   NaN        S    False    False     True    False  \n",
       "1  71.2833   C85        C    False     True    False    False  \n",
       "2   7.9250   NaN        S    False     True    False    False  \n",
       "3  53.1000  C123        S    False     True    False    False  \n",
       "4   8.0500   NaN        S    False    False     True    False  "
      ]
     },
     "execution_count": 53,
     "metadata": {},
     "output_type": "execute_result"
    }
   ],
   "source": [
    "train_df.head()"
   ]
  },
  {
   "cell_type": "code",
   "execution_count": 54,
   "id": "c9103ff0",
   "metadata": {
    "execution": {
     "iopub.execute_input": "2025-03-11T07:08:01.448837Z",
     "iopub.status.busy": "2025-03-11T07:08:01.448116Z",
     "iopub.status.idle": "2025-03-11T07:08:01.454530Z",
     "shell.execute_reply": "2025-03-11T07:08:01.453476Z"
    },
    "papermill": {
     "duration": 0.049918,
     "end_time": "2025-03-11T07:08:01.456515",
     "exception": false,
     "start_time": "2025-03-11T07:08:01.406597",
     "status": "completed"
    },
    "tags": []
   },
   "outputs": [],
   "source": [
    "train_df[\"Fsize\"] = train_df[\"SibSp\"] + train_df[\"Parch\"] + 1"
   ]
  },
  {
   "cell_type": "code",
   "execution_count": 55,
   "id": "c2107164",
   "metadata": {
    "execution": {
     "iopub.execute_input": "2025-03-11T07:08:01.533519Z",
     "iopub.status.busy": "2025-03-11T07:08:01.533125Z",
     "iopub.status.idle": "2025-03-11T07:08:01.548298Z",
     "shell.execute_reply": "2025-03-11T07:08:01.547305Z"
    },
    "papermill": {
     "duration": 0.055142,
     "end_time": "2025-03-11T07:08:01.549823",
     "exception": false,
     "start_time": "2025-03-11T07:08:01.494681",
     "status": "completed"
    },
    "tags": []
   },
   "outputs": [
    {
     "data": {
      "text/html": [
       "<div>\n",
       "<style scoped>\n",
       "    .dataframe tbody tr th:only-of-type {\n",
       "        vertical-align: middle;\n",
       "    }\n",
       "\n",
       "    .dataframe tbody tr th {\n",
       "        vertical-align: top;\n",
       "    }\n",
       "\n",
       "    .dataframe thead th {\n",
       "        text-align: right;\n",
       "    }\n",
       "</style>\n",
       "<table border=\"1\" class=\"dataframe\">\n",
       "  <thead>\n",
       "    <tr style=\"text-align: right;\">\n",
       "      <th></th>\n",
       "      <th>PassengerId</th>\n",
       "      <th>Survived</th>\n",
       "      <th>Pclass</th>\n",
       "      <th>Sex</th>\n",
       "      <th>Age</th>\n",
       "      <th>SibSp</th>\n",
       "      <th>Parch</th>\n",
       "      <th>Ticket</th>\n",
       "      <th>Fare</th>\n",
       "      <th>Cabin</th>\n",
       "      <th>Embarked</th>\n",
       "      <th>Title_0</th>\n",
       "      <th>Title_1</th>\n",
       "      <th>Title_2</th>\n",
       "      <th>Title_3</th>\n",
       "      <th>Fsize</th>\n",
       "    </tr>\n",
       "  </thead>\n",
       "  <tbody>\n",
       "    <tr>\n",
       "      <th>0</th>\n",
       "      <td>1</td>\n",
       "      <td>0.0</td>\n",
       "      <td>3</td>\n",
       "      <td>1</td>\n",
       "      <td>22.0</td>\n",
       "      <td>1</td>\n",
       "      <td>0</td>\n",
       "      <td>A/5 21171</td>\n",
       "      <td>7.2500</td>\n",
       "      <td>NaN</td>\n",
       "      <td>S</td>\n",
       "      <td>False</td>\n",
       "      <td>False</td>\n",
       "      <td>True</td>\n",
       "      <td>False</td>\n",
       "      <td>2</td>\n",
       "    </tr>\n",
       "    <tr>\n",
       "      <th>1</th>\n",
       "      <td>2</td>\n",
       "      <td>1.0</td>\n",
       "      <td>1</td>\n",
       "      <td>0</td>\n",
       "      <td>38.0</td>\n",
       "      <td>1</td>\n",
       "      <td>0</td>\n",
       "      <td>PC 17599</td>\n",
       "      <td>71.2833</td>\n",
       "      <td>C85</td>\n",
       "      <td>C</td>\n",
       "      <td>False</td>\n",
       "      <td>True</td>\n",
       "      <td>False</td>\n",
       "      <td>False</td>\n",
       "      <td>2</td>\n",
       "    </tr>\n",
       "    <tr>\n",
       "      <th>2</th>\n",
       "      <td>3</td>\n",
       "      <td>1.0</td>\n",
       "      <td>3</td>\n",
       "      <td>0</td>\n",
       "      <td>26.0</td>\n",
       "      <td>0</td>\n",
       "      <td>0</td>\n",
       "      <td>STON/O2. 3101282</td>\n",
       "      <td>7.9250</td>\n",
       "      <td>NaN</td>\n",
       "      <td>S</td>\n",
       "      <td>False</td>\n",
       "      <td>True</td>\n",
       "      <td>False</td>\n",
       "      <td>False</td>\n",
       "      <td>1</td>\n",
       "    </tr>\n",
       "    <tr>\n",
       "      <th>3</th>\n",
       "      <td>4</td>\n",
       "      <td>1.0</td>\n",
       "      <td>1</td>\n",
       "      <td>0</td>\n",
       "      <td>35.0</td>\n",
       "      <td>1</td>\n",
       "      <td>0</td>\n",
       "      <td>113803</td>\n",
       "      <td>53.1000</td>\n",
       "      <td>C123</td>\n",
       "      <td>S</td>\n",
       "      <td>False</td>\n",
       "      <td>True</td>\n",
       "      <td>False</td>\n",
       "      <td>False</td>\n",
       "      <td>2</td>\n",
       "    </tr>\n",
       "    <tr>\n",
       "      <th>4</th>\n",
       "      <td>5</td>\n",
       "      <td>0.0</td>\n",
       "      <td>3</td>\n",
       "      <td>1</td>\n",
       "      <td>35.0</td>\n",
       "      <td>0</td>\n",
       "      <td>0</td>\n",
       "      <td>373450</td>\n",
       "      <td>8.0500</td>\n",
       "      <td>NaN</td>\n",
       "      <td>S</td>\n",
       "      <td>False</td>\n",
       "      <td>False</td>\n",
       "      <td>True</td>\n",
       "      <td>False</td>\n",
       "      <td>1</td>\n",
       "    </tr>\n",
       "  </tbody>\n",
       "</table>\n",
       "</div>"
      ],
      "text/plain": [
       "   PassengerId  Survived  Pclass  Sex   Age  SibSp  Parch            Ticket  \\\n",
       "0            1       0.0       3    1  22.0      1      0         A/5 21171   \n",
       "1            2       1.0       1    0  38.0      1      0          PC 17599   \n",
       "2            3       1.0       3    0  26.0      0      0  STON/O2. 3101282   \n",
       "3            4       1.0       1    0  35.0      1      0            113803   \n",
       "4            5       0.0       3    1  35.0      0      0            373450   \n",
       "\n",
       "      Fare Cabin Embarked  Title_0  Title_1  Title_2  Title_3  Fsize  \n",
       "0   7.2500   NaN        S    False    False     True    False      2  \n",
       "1  71.2833   C85        C    False     True    False    False      2  \n",
       "2   7.9250   NaN        S    False     True    False    False      1  \n",
       "3  53.1000  C123        S    False     True    False    False      2  \n",
       "4   8.0500   NaN        S    False    False     True    False      1  "
      ]
     },
     "execution_count": 55,
     "metadata": {},
     "output_type": "execute_result"
    }
   ],
   "source": [
    "train_df.head()"
   ]
  },
  {
   "cell_type": "code",
   "execution_count": 56,
   "id": "02d69c76",
   "metadata": {
    "execution": {
     "iopub.execute_input": "2025-03-11T07:08:01.625823Z",
     "iopub.status.busy": "2025-03-11T07:08:01.625497Z",
     "iopub.status.idle": "2025-03-11T07:08:02.255148Z",
     "shell.execute_reply": "2025-03-11T07:08:02.253779Z"
    },
    "papermill": {
     "duration": 0.670451,
     "end_time": "2025-03-11T07:08:02.257970",
     "exception": false,
     "start_time": "2025-03-11T07:08:01.587519",
     "status": "completed"
    },
    "tags": []
   },
   "outputs": [
    {
     "data": {
      "image/png": "[encoded data removed]",
      "text/plain": [
       "<Figure size 500x500 with 1 Axes>"
      ]
     },
     "metadata": {},
     "output_type": "display_data"
    }
   ],
   "source": [
    "g = sns.catplot(x = \"Fsize\", y = \"Survived\", data = train_df, kind = \"bar\")\n",
    "g.set_ylabels(\"Survival\")\n",
    "plt.show()"
   ]
  },
  {
   "cell_type": "code",
   "execution_count": 57,
   "id": "125dec01",
   "metadata": {
    "execution": {
     "iopub.execute_input": "2025-03-11T07:08:02.343226Z",
     "iopub.status.busy": "2025-03-11T07:08:02.342833Z",
     "iopub.status.idle": "2025-03-11T07:08:02.349498Z",
     "shell.execute_reply": "2025-03-11T07:08:02.348344Z"
    },
    "papermill": {
     "duration": 0.055251,
     "end_time": "2025-03-11T07:08:02.351980",
     "exception": false,
     "start_time": "2025-03-11T07:08:02.296729",
     "status": "completed"
    },
    "tags": []
   },
   "outputs": [],
   "source": [
    "train_df[\"family_size\"] = [1 if i<5 else 0 for i in train_df[\"Fsize\"]]"
   ]
  },
  {
   "cell_type": "code",
   "execution_count": 58,
   "id": "9796aff5",
   "metadata": {
    "execution": {
     "iopub.execute_input": "2025-03-11T07:08:02.431446Z",
     "iopub.status.busy": "2025-03-11T07:08:02.431045Z",
     "iopub.status.idle": "2025-03-11T07:08:02.446695Z",
     "shell.execute_reply": "2025-03-11T07:08:02.445663Z"
    },
    "papermill": {
     "duration": 0.055948,
     "end_time": "2025-03-11T07:08:02.448311",
     "exception": false,
     "start_time": "2025-03-11T07:08:02.392363",
     "status": "completed"
    },
    "tags": []
   },
   "outputs": [
    {
     "data": {
      "text/html": [
       "<div>\n",
       "<style scoped>\n",
       "    .dataframe tbody tr th:only-of-type {\n",
       "        vertical-align: middle;\n",
       "    }\n",
       "\n",
       "    .dataframe tbody tr th {\n",
       "        vertical-align: top;\n",
       "    }\n",
       "\n",
       "    .dataframe thead th {\n",
       "        text-align: right;\n",
       "    }\n",
       "</style>\n",
       "<table border=\"1\" class=\"dataframe\">\n",
       "  <thead>\n",
       "    <tr style=\"text-align: right;\">\n",
       "      <th></th>\n",
       "      <th>PassengerId</th>\n",
       "      <th>Survived</th>\n",
       "      <th>Pclass</th>\n",
       "      <th>Sex</th>\n",
       "      <th>Age</th>\n",
       "      <th>SibSp</th>\n",
       "      <th>Parch</th>\n",
       "      <th>Ticket</th>\n",
       "      <th>Fare</th>\n",
       "      <th>Cabin</th>\n",
       "      <th>Embarked</th>\n",
       "      <th>Title_0</th>\n",
       "      <th>Title_1</th>\n",
       "      <th>Title_2</th>\n",
       "      <th>Title_3</th>\n",
       "      <th>Fsize</th>\n",
       "      <th>family_size</th>\n",
       "    </tr>\n",
       "  </thead>\n",
       "  <tbody>\n",
       "    <tr>\n",
       "      <th>0</th>\n",
       "      <td>1</td>\n",
       "      <td>0.0</td>\n",
       "      <td>3</td>\n",
       "      <td>1</td>\n",
       "      <td>22.0</td>\n",
       "      <td>1</td>\n",
       "      <td>0</td>\n",
       "      <td>A/5 21171</td>\n",
       "      <td>7.2500</td>\n",
       "      <td>NaN</td>\n",
       "      <td>S</td>\n",
       "      <td>False</td>\n",
       "      <td>False</td>\n",
       "      <td>True</td>\n",
       "      <td>False</td>\n",
       "      <td>2</td>\n",
       "      <td>1</td>\n",
       "    </tr>\n",
       "    <tr>\n",
       "      <th>1</th>\n",
       "      <td>2</td>\n",
       "      <td>1.0</td>\n",
       "      <td>1</td>\n",
       "      <td>0</td>\n",
       "      <td>38.0</td>\n",
       "      <td>1</td>\n",
       "      <td>0</td>\n",
       "      <td>PC 17599</td>\n",
       "      <td>71.2833</td>\n",
       "      <td>C85</td>\n",
       "      <td>C</td>\n",
       "      <td>False</td>\n",
       "      <td>True</td>\n",
       "      <td>False</td>\n",
       "      <td>False</td>\n",
       "      <td>2</td>\n",
       "      <td>1</td>\n",
       "    </tr>\n",
       "    <tr>\n",
       "      <th>2</th>\n",
       "      <td>3</td>\n",
       "      <td>1.0</td>\n",
       "      <td>3</td>\n",
       "      <td>0</td>\n",
       "      <td>26.0</td>\n",
       "      <td>0</td>\n",
       "      <td>0</td>\n",
       "      <td>STON/O2. 3101282</td>\n",
       "      <td>7.9250</td>\n",
       "      <td>NaN</td>\n",
       "      <td>S</td>\n",
       "      <td>False</td>\n",
       "      <td>True</td>\n",
       "      <td>False</td>\n",
       "      <td>False</td>\n",
       "      <td>1</td>\n",
       "      <td>1</td>\n",
       "    </tr>\n",
       "    <tr>\n",
       "      <th>3</th>\n",
       "      <td>4</td>\n",
       "      <td>1.0</td>\n",
       "      <td>1</td>\n",
       "      <td>0</td>\n",
       "      <td>35.0</td>\n",
       "      <td>1</td>\n",
       "      <td>0</td>\n",
       "      <td>113803</td>\n",
       "      <td>53.1000</td>\n",
       "      <td>C123</td>\n",
       "      <td>S</td>\n",
       "      <td>False</td>\n",
       "      <td>True</td>\n",
       "      <td>False</td>\n",
       "      <td>False</td>\n",
       "      <td>2</td>\n",
       "      <td>1</td>\n",
       "    </tr>\n",
       "    <tr>\n",
       "      <th>4</th>\n",
       "      <td>5</td>\n",
       "      <td>0.0</td>\n",
       "      <td>3</td>\n",
       "      <td>1</td>\n",
       "      <td>35.0</td>\n",
       "      <td>0</td>\n",
       "      <td>0</td>\n",
       "      <td>373450</td>\n",
       "      <td>8.0500</td>\n",
       "      <td>NaN</td>\n",
       "      <td>S</td>\n",
       "      <td>False</td>\n",
       "      <td>False</td>\n",
       "      <td>True</td>\n",
       "      <td>False</td>\n",
       "      <td>1</td>\n",
       "      <td>1</td>\n",
       "    </tr>\n",
       "  </tbody>\n",
       "</table>\n",
       "</div>"
      ],
      "text/plain": [
       "   PassengerId  Survived  Pclass  Sex   Age  SibSp  Parch            Ticket  \\\n",
       "0            1       0.0       3    1  22.0      1      0         A/5 21171   \n",
       "1            2       1.0       1    0  38.0      1      0          PC 17599   \n",
       "2            3       1.0       3    0  26.0      0      0  STON/O2. 3101282   \n",
       "3            4       1.0       1    0  35.0      1      0            113803   \n",
       "4            5       0.0       3    1  35.0      0      0            373450   \n",
       "\n",
       "      Fare Cabin Embarked  Title_0  Title_1  Title_2  Title_3  Fsize  \\\n",
       "0   7.2500   NaN        S    False    False     True    False      2   \n",
       "1  71.2833   C85        C    False     True    False    False      2   \n",
       "2   7.9250   NaN        S    False     True    False    False      1   \n",
       "3  53.1000  C123        S    False     True    False    False      2   \n",
       "4   8.0500   NaN        S    False    False     True    False      1   \n",
       "\n",
       "   family_size  \n",
       "0            1  \n",
       "1            1  \n",
       "2            1  \n",
       "3            1  \n",
       "4            1  "
      ]
     },
     "execution_count": 58,
     "metadata": {},
     "output_type": "execute_result"
    }
   ],
   "source": [
    "train_df.head()"
   ]
  },
  {
   "cell_type": "code",
   "execution_count": 59,
   "id": "415486e0",
   "metadata": {
    "execution": {
     "iopub.execute_input": "2025-03-11T07:08:02.528808Z",
     "iopub.status.busy": "2025-03-11T07:08:02.528468Z",
     "iopub.status.idle": "2025-03-11T07:08:02.646565Z",
     "shell.execute_reply": "2025-03-11T07:08:02.645082Z"
    },
    "papermill": {
     "duration": 0.160027,
     "end_time": "2025-03-11T07:08:02.648930",
     "exception": false,
     "start_time": "2025-03-11T07:08:02.488903",
     "status": "completed"
    },
    "tags": []
   },
   "outputs": [
    {
     "data": {
      "image/png": "[encoded data removed]",
      "text/plain": [
       "<Figure size 640x480 with 1 Axes>"
      ]
     },
     "metadata": {},
     "output_type": "display_data"
    }
   ],
   "source": [
    "sns.countplot(x = \"family_size\", data = train_df)\n",
    "plt.show()"
   ]
  },
  {
   "cell_type": "code",
   "execution_count": 60,
   "id": "87893bf5",
   "metadata": {
    "execution": {
     "iopub.execute_input": "2025-03-11T07:08:02.727040Z",
     "iopub.status.busy": "2025-03-11T07:08:02.726664Z",
     "iopub.status.idle": "2025-03-11T07:08:03.025490Z",
     "shell.execute_reply": "2025-03-11T07:08:03.024343Z"
    },
    "papermill": {
     "duration": 0.339366,
     "end_time": "2025-03-11T07:08:03.027164",
     "exception": false,
     "start_time": "2025-03-11T07:08:02.687798",
     "status": "completed"
    },
    "tags": []
   },
   "outputs": [
    {
     "data": {
      "image/png": "[encoded data removed]",
      "text/plain": [
       "<Figure size 500x500 with 1 Axes>"
      ]
     },
     "metadata": {},
     "output_type": "display_data"
    }
   ],
   "source": [
    "g = sns.catplot(x = \"family_size\", y = \"Survived\", data = train_df, kind = \"bar\")\n",
    "g.set_ylabels(\"Survival\")\n",
    "plt.show()"
   ]
  },
  {
   "cell_type": "markdown",
   "id": "7fd4b576",
   "metadata": {
    "papermill": {
     "duration": 0.039447,
     "end_time": "2025-03-11T07:08:03.105946",
     "exception": false,
     "start_time": "2025-03-11T07:08:03.066499",
     "status": "completed"
    },
    "tags": []
   },
   "source": [
    "Small families have more chance to survive"
   ]
  },
  {
   "cell_type": "code",
   "execution_count": 61,
   "id": "d48cb06b",
   "metadata": {
    "execution": {
     "iopub.execute_input": "2025-03-11T07:08:03.185768Z",
     "iopub.status.busy": "2025-03-11T07:08:03.185392Z",
     "iopub.status.idle": "2025-03-11T07:08:03.207421Z",
     "shell.execute_reply": "2025-03-11T07:08:03.206328Z"
    },
    "papermill": {
     "duration": 0.064659,
     "end_time": "2025-03-11T07:08:03.209065",
     "exception": false,
     "start_time": "2025-03-11T07:08:03.144406",
     "status": "completed"
    },
    "tags": []
   },
   "outputs": [
    {
     "data": {
      "text/html": [
       "<div>\n",
       "<style scoped>\n",
       "    .dataframe tbody tr th:only-of-type {\n",
       "        vertical-align: middle;\n",
       "    }\n",
       "\n",
       "    .dataframe tbody tr th {\n",
       "        vertical-align: top;\n",
       "    }\n",
       "\n",
       "    .dataframe thead th {\n",
       "        text-align: right;\n",
       "    }\n",
       "</style>\n",
       "<table border=\"1\" class=\"dataframe\">\n",
       "  <thead>\n",
       "    <tr style=\"text-align: right;\">\n",
       "      <th></th>\n",
       "      <th>PassengerId</th>\n",
       "      <th>Survived</th>\n",
       "      <th>Pclass</th>\n",
       "      <th>Sex</th>\n",
       "      <th>Age</th>\n",
       "      <th>SibSp</th>\n",
       "      <th>Parch</th>\n",
       "      <th>Ticket</th>\n",
       "      <th>Fare</th>\n",
       "      <th>Cabin</th>\n",
       "      <th>Embarked</th>\n",
       "      <th>Title_0</th>\n",
       "      <th>Title_1</th>\n",
       "      <th>Title_2</th>\n",
       "      <th>Title_3</th>\n",
       "      <th>Fsize</th>\n",
       "      <th>family_size_0</th>\n",
       "      <th>family_size_1</th>\n",
       "    </tr>\n",
       "  </thead>\n",
       "  <tbody>\n",
       "    <tr>\n",
       "      <th>0</th>\n",
       "      <td>1</td>\n",
       "      <td>0.0</td>\n",
       "      <td>3</td>\n",
       "      <td>1</td>\n",
       "      <td>22.0</td>\n",
       "      <td>1</td>\n",
       "      <td>0</td>\n",
       "      <td>A/5 21171</td>\n",
       "      <td>7.2500</td>\n",
       "      <td>NaN</td>\n",
       "      <td>S</td>\n",
       "      <td>False</td>\n",
       "      <td>False</td>\n",
       "      <td>True</td>\n",
       "      <td>False</td>\n",
       "      <td>2</td>\n",
       "      <td>False</td>\n",
       "      <td>True</td>\n",
       "    </tr>\n",
       "    <tr>\n",
       "      <th>1</th>\n",
       "      <td>2</td>\n",
       "      <td>1.0</td>\n",
       "      <td>1</td>\n",
       "      <td>0</td>\n",
       "      <td>38.0</td>\n",
       "      <td>1</td>\n",
       "      <td>0</td>\n",
       "      <td>PC 17599</td>\n",
       "      <td>71.2833</td>\n",
       "      <td>C85</td>\n",
       "      <td>C</td>\n",
       "      <td>False</td>\n",
       "      <td>True</td>\n",
       "      <td>False</td>\n",
       "      <td>False</td>\n",
       "      <td>2</td>\n",
       "      <td>False</td>\n",
       "      <td>True</td>\n",
       "    </tr>\n",
       "    <tr>\n",
       "      <th>2</th>\n",
       "      <td>3</td>\n",
       "      <td>1.0</td>\n",
       "      <td>3</td>\n",
       "      <td>0</td>\n",
       "      <td>26.0</td>\n",
       "      <td>0</td>\n",
       "      <td>0</td>\n",
       "      <td>STON/O2. 3101282</td>\n",
       "      <td>7.9250</td>\n",
       "      <td>NaN</td>\n",
       "      <td>S</td>\n",
       "      <td>False</td>\n",
       "      <td>True</td>\n",
       "      <td>False</td>\n",
       "      <td>False</td>\n",
       "      <td>1</td>\n",
       "      <td>False</td>\n",
       "      <td>True</td>\n",
       "    </tr>\n",
       "    <tr>\n",
       "      <th>3</th>\n",
       "      <td>4</td>\n",
       "      <td>1.0</td>\n",
       "      <td>1</td>\n",
       "      <td>0</td>\n",
       "      <td>35.0</td>\n",
       "      <td>1</td>\n",
       "      <td>0</td>\n",
       "      <td>113803</td>\n",
       "      <td>53.1000</td>\n",
       "      <td>C123</td>\n",
       "      <td>S</td>\n",
       "      <td>False</td>\n",
       "      <td>True</td>\n",
       "      <td>False</td>\n",
       "      <td>False</td>\n",
       "      <td>2</td>\n",
       "      <td>False</td>\n",
       "      <td>True</td>\n",
       "    </tr>\n",
       "    <tr>\n",
       "      <th>4</th>\n",
       "      <td>5</td>\n",
       "      <td>0.0</td>\n",
       "      <td>3</td>\n",
       "      <td>1</td>\n",
       "      <td>35.0</td>\n",
       "      <td>0</td>\n",
       "      <td>0</td>\n",
       "      <td>373450</td>\n",
       "      <td>8.0500</td>\n",
       "      <td>NaN</td>\n",
       "      <td>S</td>\n",
       "      <td>False</td>\n",
       "      <td>False</td>\n",
       "      <td>True</td>\n",
       "      <td>False</td>\n",
       "      <td>1</td>\n",
       "      <td>False</td>\n",
       "      <td>True</td>\n",
       "    </tr>\n",
       "  </tbody>\n",
       "</table>\n",
       "</div>"
      ],
      "text/plain": [
       "   PassengerId  Survived  Pclass  Sex   Age  SibSp  Parch            Ticket  \\\n",
       "0            1       0.0       3    1  22.0      1      0         A/5 21171   \n",
       "1            2       1.0       1    0  38.0      1      0          PC 17599   \n",
       "2            3       1.0       3    0  26.0      0      0  STON/O2. 3101282   \n",
       "3            4       1.0       1    0  35.0      1      0            113803   \n",
       "4            5       0.0       3    1  35.0      0      0            373450   \n",
       "\n",
       "      Fare Cabin Embarked  Title_0  Title_1  Title_2  Title_3  Fsize  \\\n",
       "0   7.2500   NaN        S    False    False     True    False      2   \n",
       "1  71.2833   C85        C    False     True    False    False      2   \n",
       "2   7.9250   NaN        S    False     True    False    False      1   \n",
       "3  53.1000  C123        S    False     True    False    False      2   \n",
       "4   8.0500   NaN        S    False    False     True    False      1   \n",
       "\n",
       "   family_size_0  family_size_1  \n",
       "0          False           True  \n",
       "1          False           True  \n",
       "2          False           True  \n",
       "3          False           True  \n",
       "4          False           True  "
      ]
     },
     "execution_count": 61,
     "metadata": {},
     "output_type": "execute_result"
    }
   ],
   "source": [
    "train_df = pd.get_dummies(train_df, columns=[\"family_size\"])\n",
    "train_df.head()"
   ]
  },
  {
   "cell_type": "markdown",
   "id": "d16da84b",
   "metadata": {
    "papermill": {
     "duration": 0.038638,
     "end_time": "2025-03-11T07:08:03.287316",
     "exception": false,
     "start_time": "2025-03-11T07:08:03.248678",
     "status": "completed"
    },
    "tags": []
   },
   "source": [
    "<a id = \"24\"></a><br>\n",
    "## Embarked"
   ]
  },
  {
   "cell_type": "code",
   "execution_count": 62,
   "id": "65b3a41d",
   "metadata": {
    "execution": {
     "iopub.execute_input": "2025-03-11T07:08:03.366830Z",
     "iopub.status.busy": "2025-03-11T07:08:03.366485Z",
     "iopub.status.idle": "2025-03-11T07:08:03.374416Z",
     "shell.execute_reply": "2025-03-11T07:08:03.372754Z"
    },
    "papermill": {
     "duration": 0.050282,
     "end_time": "2025-03-11T07:08:03.376077",
     "exception": false,
     "start_time": "2025-03-11T07:08:03.325795",
     "status": "completed"
    },
    "tags": []
   },
   "outputs": [
    {
     "data": {
      "text/plain": [
       "0    S\n",
       "1    C\n",
       "2    S\n",
       "3    S\n",
       "4    S\n",
       "Name: Embarked, dtype: object"
      ]
     },
     "execution_count": 62,
     "metadata": {},
     "output_type": "execute_result"
    }
   ],
   "source": [
    "train_df[\"Embarked\"].head()"
   ]
  },
  {
   "cell_type": "code",
   "execution_count": 63,
   "id": "a8bc771d",
   "metadata": {
    "execution": {
     "iopub.execute_input": "2025-03-11T07:08:03.456661Z",
     "iopub.status.busy": "2025-03-11T07:08:03.456024Z",
     "iopub.status.idle": "2025-03-11T07:08:03.568488Z",
     "shell.execute_reply": "2025-03-11T07:08:03.567501Z"
    },
    "papermill": {
     "duration": 0.155016,
     "end_time": "2025-03-11T07:08:03.569950",
     "exception": false,
     "start_time": "2025-03-11T07:08:03.414934",
     "status": "completed"
    },
    "tags": []
   },
   "outputs": [
    {
     "data": {
      "image/png": "[encoded data removed]",
      "text/plain": [
       "<Figure size 640x480 with 1 Axes>"
      ]
     },
     "metadata": {},
     "output_type": "display_data"
    }
   ],
   "source": [
    "sns.countplot(x = \"Embarked\", data = train_df)\n",
    "plt.show()"
   ]
  },
  {
   "cell_type": "code",
   "execution_count": 64,
   "id": "99f31990",
   "metadata": {
    "execution": {
     "iopub.execute_input": "2025-03-11T07:08:03.648785Z",
     "iopub.status.busy": "2025-03-11T07:08:03.648426Z",
     "iopub.status.idle": "2025-03-11T07:08:03.672862Z",
     "shell.execute_reply": "2025-03-11T07:08:03.671682Z"
    },
    "papermill": {
     "duration": 0.065749,
     "end_time": "2025-03-11T07:08:03.674538",
     "exception": false,
     "start_time": "2025-03-11T07:08:03.608789",
     "status": "completed"
    },
    "tags": []
   },
   "outputs": [
    {
     "data": {
      "text/html": [
       "<div>\n",
       "<style scoped>\n",
       "    .dataframe tbody tr th:only-of-type {\n",
       "        vertical-align: middle;\n",
       "    }\n",
       "\n",
       "    .dataframe tbody tr th {\n",
       "        vertical-align: top;\n",
       "    }\n",
       "\n",
       "    .dataframe thead th {\n",
       "        text-align: right;\n",
       "    }\n",
       "</style>\n",
       "<table border=\"1\" class=\"dataframe\">\n",
       "  <thead>\n",
       "    <tr style=\"text-align: right;\">\n",
       "      <th></th>\n",
       "      <th>PassengerId</th>\n",
       "      <th>Survived</th>\n",
       "      <th>Pclass</th>\n",
       "      <th>Sex</th>\n",
       "      <th>Age</th>\n",
       "      <th>SibSp</th>\n",
       "      <th>Parch</th>\n",
       "      <th>Ticket</th>\n",
       "      <th>Fare</th>\n",
       "      <th>Cabin</th>\n",
       "      <th>Title_0</th>\n",
       "      <th>Title_1</th>\n",
       "      <th>Title_2</th>\n",
       "      <th>Title_3</th>\n",
       "      <th>Fsize</th>\n",
       "      <th>family_size_0</th>\n",
       "      <th>family_size_1</th>\n",
       "      <th>Embarked_C</th>\n",
       "      <th>Embarked_Q</th>\n",
       "      <th>Embarked_S</th>\n",
       "    </tr>\n",
       "  </thead>\n",
       "  <tbody>\n",
       "    <tr>\n",
       "      <th>0</th>\n",
       "      <td>1</td>\n",
       "      <td>0.0</td>\n",
       "      <td>3</td>\n",
       "      <td>1</td>\n",
       "      <td>22.0</td>\n",
       "      <td>1</td>\n",
       "      <td>0</td>\n",
       "      <td>A/5 21171</td>\n",
       "      <td>7.2500</td>\n",
       "      <td>NaN</td>\n",
       "      <td>False</td>\n",
       "      <td>False</td>\n",
       "      <td>True</td>\n",
       "      <td>False</td>\n",
       "      <td>2</td>\n",
       "      <td>False</td>\n",
       "      <td>True</td>\n",
       "      <td>False</td>\n",
       "      <td>False</td>\n",
       "      <td>True</td>\n",
       "    </tr>\n",
       "    <tr>\n",
       "      <th>1</th>\n",
       "      <td>2</td>\n",
       "      <td>1.0</td>\n",
       "      <td>1</td>\n",
       "      <td>0</td>\n",
       "      <td>38.0</td>\n",
       "      <td>1</td>\n",
       "      <td>0</td>\n",
       "      <td>PC 17599</td>\n",
       "      <td>71.2833</td>\n",
       "      <td>C85</td>\n",
       "      <td>False</td>\n",
       "      <td>True</td>\n",
       "      <td>False</td>\n",
       "      <td>False</td>\n",
       "      <td>2</td>\n",
       "      <td>False</td>\n",
       "      <td>True</td>\n",
       "      <td>True</td>\n",
       "      <td>False</td>\n",
       "      <td>False</td>\n",
       "    </tr>\n",
       "    <tr>\n",
       "      <th>2</th>\n",
       "      <td>3</td>\n",
       "      <td>1.0</td>\n",
       "      <td>3</td>\n",
       "      <td>0</td>\n",
       "      <td>26.0</td>\n",
       "      <td>0</td>\n",
       "      <td>0</td>\n",
       "      <td>STON/O2. 3101282</td>\n",
       "      <td>7.9250</td>\n",
       "      <td>NaN</td>\n",
       "      <td>False</td>\n",
       "      <td>True</td>\n",
       "      <td>False</td>\n",
       "      <td>False</td>\n",
       "      <td>1</td>\n",
       "      <td>False</td>\n",
       "      <td>True</td>\n",
       "      <td>False</td>\n",
       "      <td>False</td>\n",
       "      <td>True</td>\n",
       "    </tr>\n",
       "    <tr>\n",
       "      <th>3</th>\n",
       "      <td>4</td>\n",
       "      <td>1.0</td>\n",
       "      <td>1</td>\n",
       "      <td>0</td>\n",
       "      <td>35.0</td>\n",
       "      <td>1</td>\n",
       "      <td>0</td>\n",
       "      <td>113803</td>\n",
       "      <td>53.1000</td>\n",
       "      <td>C123</td>\n",
       "      <td>False</td>\n",
       "      <td>True</td>\n",
       "      <td>False</td>\n",
       "      <td>False</td>\n",
       "      <td>2</td>\n",
       "      <td>False</td>\n",
       "      <td>True</td>\n",
       "      <td>False</td>\n",
       "      <td>False</td>\n",
       "      <td>True</td>\n",
       "    </tr>\n",
       "    <tr>\n",
       "      <th>4</th>\n",
       "      <td>5</td>\n",
       "      <td>0.0</td>\n",
       "      <td>3</td>\n",
       "      <td>1</td>\n",
       "      <td>35.0</td>\n",
       "      <td>0</td>\n",
       "      <td>0</td>\n",
       "      <td>373450</td>\n",
       "      <td>8.0500</td>\n",
       "      <td>NaN</td>\n",
       "      <td>False</td>\n",
       "      <td>False</td>\n",
       "      <td>True</td>\n",
       "      <td>False</td>\n",
       "      <td>1</td>\n",
       "      <td>False</td>\n",
       "      <td>True</td>\n",
       "      <td>False</td>\n",
       "      <td>False</td>\n",
       "      <td>True</td>\n",
       "    </tr>\n",
       "    <tr>\n",
       "      <th>5</th>\n",
       "      <td>6</td>\n",
       "      <td>0.0</td>\n",
       "      <td>3</td>\n",
       "      <td>1</td>\n",
       "      <td>25.0</td>\n",
       "      <td>0</td>\n",
       "      <td>0</td>\n",
       "      <td>330877</td>\n",
       "      <td>8.4583</td>\n",
       "      <td>NaN</td>\n",
       "      <td>False</td>\n",
       "      <td>False</td>\n",
       "      <td>True</td>\n",
       "      <td>False</td>\n",
       "      <td>1</td>\n",
       "      <td>False</td>\n",
       "      <td>True</td>\n",
       "      <td>False</td>\n",
       "      <td>True</td>\n",
       "      <td>False</td>\n",
       "    </tr>\n",
       "    <tr>\n",
       "      <th>6</th>\n",
       "      <td>7</td>\n",
       "      <td>0.0</td>\n",
       "      <td>1</td>\n",
       "      <td>1</td>\n",
       "      <td>54.0</td>\n",
       "      <td>0</td>\n",
       "      <td>0</td>\n",
       "      <td>17463</td>\n",
       "      <td>51.8625</td>\n",
       "      <td>E46</td>\n",
       "      <td>False</td>\n",
       "      <td>False</td>\n",
       "      <td>True</td>\n",
       "      <td>False</td>\n",
       "      <td>1</td>\n",
       "      <td>False</td>\n",
       "      <td>True</td>\n",
       "      <td>False</td>\n",
       "      <td>False</td>\n",
       "      <td>True</td>\n",
       "    </tr>\n",
       "    <tr>\n",
       "      <th>7</th>\n",
       "      <td>8</td>\n",
       "      <td>0.0</td>\n",
       "      <td>3</td>\n",
       "      <td>1</td>\n",
       "      <td>2.0</td>\n",
       "      <td>3</td>\n",
       "      <td>1</td>\n",
       "      <td>349909</td>\n",
       "      <td>21.0750</td>\n",
       "      <td>NaN</td>\n",
       "      <td>True</td>\n",
       "      <td>False</td>\n",
       "      <td>False</td>\n",
       "      <td>False</td>\n",
       "      <td>5</td>\n",
       "      <td>True</td>\n",
       "      <td>False</td>\n",
       "      <td>False</td>\n",
       "      <td>False</td>\n",
       "      <td>True</td>\n",
       "    </tr>\n",
       "    <tr>\n",
       "      <th>8</th>\n",
       "      <td>9</td>\n",
       "      <td>1.0</td>\n",
       "      <td>3</td>\n",
       "      <td>0</td>\n",
       "      <td>27.0</td>\n",
       "      <td>0</td>\n",
       "      <td>2</td>\n",
       "      <td>347742</td>\n",
       "      <td>11.1333</td>\n",
       "      <td>NaN</td>\n",
       "      <td>False</td>\n",
       "      <td>True</td>\n",
       "      <td>False</td>\n",
       "      <td>False</td>\n",
       "      <td>3</td>\n",
       "      <td>False</td>\n",
       "      <td>True</td>\n",
       "      <td>False</td>\n",
       "      <td>False</td>\n",
       "      <td>True</td>\n",
       "    </tr>\n",
       "    <tr>\n",
       "      <th>9</th>\n",
       "      <td>10</td>\n",
       "      <td>1.0</td>\n",
       "      <td>2</td>\n",
       "      <td>0</td>\n",
       "      <td>14.0</td>\n",
       "      <td>1</td>\n",
       "      <td>0</td>\n",
       "      <td>237736</td>\n",
       "      <td>30.0708</td>\n",
       "      <td>NaN</td>\n",
       "      <td>False</td>\n",
       "      <td>True</td>\n",
       "      <td>False</td>\n",
       "      <td>False</td>\n",
       "      <td>2</td>\n",
       "      <td>False</td>\n",
       "      <td>True</td>\n",
       "      <td>True</td>\n",
       "      <td>False</td>\n",
       "      <td>False</td>\n",
       "    </tr>\n",
       "  </tbody>\n",
       "</table>\n",
       "</div>"
      ],
      "text/plain": [
       "   PassengerId  Survived  Pclass  Sex   Age  SibSp  Parch            Ticket  \\\n",
       "0            1       0.0       3    1  22.0      1      0         A/5 21171   \n",
       "1            2       1.0       1    0  38.0      1      0          PC 17599   \n",
       "2            3       1.0       3    0  26.0      0      0  STON/O2. 3101282   \n",
       "3            4       1.0       1    0  35.0      1      0            113803   \n",
       "4            5       0.0       3    1  35.0      0      0            373450   \n",
       "5            6       0.0       3    1  25.0      0      0            330877   \n",
       "6            7       0.0       1    1  54.0      0      0             17463   \n",
       "7            8       0.0       3    1   2.0      3      1            349909   \n",
       "8            9       1.0       3    0  27.0      0      2            347742   \n",
       "9           10       1.0       2    0  14.0      1      0            237736   \n",
       "\n",
       "      Fare Cabin  Title_0  Title_1  Title_2  Title_3  Fsize  family_size_0  \\\n",
       "0   7.2500   NaN    False    False     True    False      2          False   \n",
       "1  71.2833   C85    False     True    False    False      2          False   \n",
       "2   7.9250   NaN    False     True    False    False      1          False   \n",
       "3  53.1000  C123    False     True    False    False      2          False   \n",
       "4   8.0500   NaN    False    False     True    False      1          False   \n",
       "5   8.4583   NaN    False    False     True    False      1          False   \n",
       "6  51.8625   E46    False    False     True    False      1          False   \n",
       "7  21.0750   NaN     True    False    False    False      5           True   \n",
       "8  11.1333   NaN    False     True    False    False      3          False   \n",
       "9  30.0708   NaN    False     True    False    False      2          False   \n",
       "\n",
       "   family_size_1  Embarked_C  Embarked_Q  Embarked_S  \n",
       "0           True       False       False        True  \n",
       "1           True        True       False       False  \n",
       "2           True       False       False        True  \n",
       "3           True       False       False        True  \n",
       "4           True       False       False        True  \n",
       "5           True       False        True       False  \n",
       "6           True       False       False        True  \n",
       "7          False       False       False        True  \n",
       "8           True       False       False        True  \n",
       "9           True        True       False       False  "
      ]
     },
     "execution_count": 64,
     "metadata": {},
     "output_type": "execute_result"
    }
   ],
   "source": [
    "train_df = pd.get_dummies(train_df, columns = [\"Embarked\"])\n",
    "train_df.head(10)"
   ]
  },
  {
   "cell_type": "markdown",
   "id": "14cc150e",
   "metadata": {
    "papermill": {
     "duration": 0.039049,
     "end_time": "2025-03-11T07:08:03.753421",
     "exception": false,
     "start_time": "2025-03-11T07:08:03.714372",
     "status": "completed"
    },
    "tags": []
   },
   "source": [
    "<a id = \"25\"></a><br>\n",
    "## Ticket"
   ]
  },
  {
   "cell_type": "code",
   "execution_count": 65,
   "id": "4c5303d7",
   "metadata": {
    "execution": {
     "iopub.execute_input": "2025-03-11T07:08:03.835013Z",
     "iopub.status.busy": "2025-03-11T07:08:03.834692Z",
     "iopub.status.idle": "2025-03-11T07:08:03.842367Z",
     "shell.execute_reply": "2025-03-11T07:08:03.841296Z"
    },
    "papermill": {
     "duration": 0.050131,
     "end_time": "2025-03-11T07:08:03.844102",
     "exception": false,
     "start_time": "2025-03-11T07:08:03.793971",
     "status": "completed"
    },
    "tags": []
   },
   "outputs": [
    {
     "data": {
      "text/plain": [
       "0            A/5 21171\n",
       "1             PC 17599\n",
       "2     STON/O2. 3101282\n",
       "3               113803\n",
       "4               373450\n",
       "5               330877\n",
       "6                17463\n",
       "7               349909\n",
       "8               347742\n",
       "9               237736\n",
       "10             PP 9549\n",
       "11              113783\n",
       "12           A/5. 2151\n",
       "13              347082\n",
       "14              350406\n",
       "15              248706\n",
       "16              382652\n",
       "17              244373\n",
       "18              345763\n",
       "19                2649\n",
       "Name: Ticket, dtype: object"
      ]
     },
     "execution_count": 65,
     "metadata": {},
     "output_type": "execute_result"
    }
   ],
   "source": [
    "train_df[\"Ticket\"].head(20)"
   ]
  },
  {
   "cell_type": "code",
   "execution_count": 66,
   "id": "37317f71",
   "metadata": {
    "execution": {
     "iopub.execute_input": "2025-03-11T07:08:03.927297Z",
     "iopub.status.busy": "2025-03-11T07:08:03.926887Z",
     "iopub.status.idle": "2025-03-11T07:08:03.933262Z",
     "shell.execute_reply": "2025-03-11T07:08:03.932223Z"
    },
    "papermill": {
     "duration": 0.048393,
     "end_time": "2025-03-11T07:08:03.934838",
     "exception": false,
     "start_time": "2025-03-11T07:08:03.886445",
     "status": "completed"
    },
    "tags": []
   },
   "outputs": [],
   "source": [
    "tickets = []\n",
    "for i in list(train_df.Ticket):\n",
    "    if not i.isdigit():\n",
    "        tickets.append(i.replace(\".\",\"\").replace(\"/\",\"\").strip().split(\" \")[0])\n",
    "    else : \n",
    "        tickets.append(\"X\")\n",
    "\n",
    "train_df[\"Ticket\"] = tickets"
   ]
  },
  {
   "cell_type": "code",
   "execution_count": 67,
   "id": "1262c756",
   "metadata": {
    "execution": {
     "iopub.execute_input": "2025-03-11T07:08:04.015699Z",
     "iopub.status.busy": "2025-03-11T07:08:04.015344Z",
     "iopub.status.idle": "2025-03-11T07:08:04.022509Z",
     "shell.execute_reply": "2025-03-11T07:08:04.021475Z"
    },
    "papermill": {
     "duration": 0.04999,
     "end_time": "2025-03-11T07:08:04.024093",
     "exception": false,
     "start_time": "2025-03-11T07:08:03.974103",
     "status": "completed"
    },
    "tags": []
   },
   "outputs": [
    {
     "data": {
      "text/plain": [
       "0         A5\n",
       "1         PC\n",
       "2     STONO2\n",
       "3          X\n",
       "4          X\n",
       "5          X\n",
       "6          X\n",
       "7          X\n",
       "8          X\n",
       "9          X\n",
       "10        PP\n",
       "11         X\n",
       "12        A5\n",
       "13         X\n",
       "14         X\n",
       "Name: Ticket, dtype: object"
      ]
     },
     "execution_count": 67,
     "metadata": {},
     "output_type": "execute_result"
    }
   ],
   "source": [
    "train_df[\"Ticket\"].head(15)"
   ]
  },
  {
   "cell_type": "code",
   "execution_count": 68,
   "id": "8a1bc712",
   "metadata": {
    "execution": {
     "iopub.execute_input": "2025-03-11T07:08:04.106940Z",
     "iopub.status.busy": "2025-03-11T07:08:04.106594Z",
     "iopub.status.idle": "2025-03-11T07:08:04.135158Z",
     "shell.execute_reply": "2025-03-11T07:08:04.134182Z"
    },
    "papermill": {
     "duration": 0.070749,
     "end_time": "2025-03-11T07:08:04.136727",
     "exception": false,
     "start_time": "2025-03-11T07:08:04.065978",
     "status": "completed"
    },
    "tags": []
   },
   "outputs": [
    {
     "data": {
      "text/html": [
       "<div>\n",
       "<style scoped>\n",
       "    .dataframe tbody tr th:only-of-type {\n",
       "        vertical-align: middle;\n",
       "    }\n",
       "\n",
       "    .dataframe tbody tr th {\n",
       "        vertical-align: top;\n",
       "    }\n",
       "\n",
       "    .dataframe thead th {\n",
       "        text-align: right;\n",
       "    }\n",
       "</style>\n",
       "<table border=\"1\" class=\"dataframe\">\n",
       "  <thead>\n",
       "    <tr style=\"text-align: right;\">\n",
       "      <th></th>\n",
       "      <th>PassengerId</th>\n",
       "      <th>Survived</th>\n",
       "      <th>Pclass</th>\n",
       "      <th>Sex</th>\n",
       "      <th>Age</th>\n",
       "      <th>SibSp</th>\n",
       "      <th>Parch</th>\n",
       "      <th>Fare</th>\n",
       "      <th>Cabin</th>\n",
       "      <th>Title_0</th>\n",
       "      <th>...</th>\n",
       "      <th>T_SOTONO2</th>\n",
       "      <th>T_SOTONOQ</th>\n",
       "      <th>T_SP</th>\n",
       "      <th>T_STONO</th>\n",
       "      <th>T_STONO2</th>\n",
       "      <th>T_STONOQ</th>\n",
       "      <th>T_SWPP</th>\n",
       "      <th>T_WC</th>\n",
       "      <th>T_WEP</th>\n",
       "      <th>T_X</th>\n",
       "    </tr>\n",
       "  </thead>\n",
       "  <tbody>\n",
       "    <tr>\n",
       "      <th>0</th>\n",
       "      <td>1</td>\n",
       "      <td>0.0</td>\n",
       "      <td>3</td>\n",
       "      <td>1</td>\n",
       "      <td>22.0</td>\n",
       "      <td>1</td>\n",
       "      <td>0</td>\n",
       "      <td>7.2500</td>\n",
       "      <td>NaN</td>\n",
       "      <td>False</td>\n",
       "      <td>...</td>\n",
       "      <td>False</td>\n",
       "      <td>False</td>\n",
       "      <td>False</td>\n",
       "      <td>False</td>\n",
       "      <td>False</td>\n",
       "      <td>False</td>\n",
       "      <td>False</td>\n",
       "      <td>False</td>\n",
       "      <td>False</td>\n",
       "      <td>False</td>\n",
       "    </tr>\n",
       "    <tr>\n",
       "      <th>1</th>\n",
       "      <td>2</td>\n",
       "      <td>1.0</td>\n",
       "      <td>1</td>\n",
       "      <td>0</td>\n",
       "      <td>38.0</td>\n",
       "      <td>1</td>\n",
       "      <td>0</td>\n",
       "      <td>71.2833</td>\n",
       "      <td>C85</td>\n",
       "      <td>False</td>\n",
       "      <td>...</td>\n",
       "      <td>False</td>\n",
       "      <td>False</td>\n",
       "      <td>False</td>\n",
       "      <td>False</td>\n",
       "      <td>False</td>\n",
       "      <td>False</td>\n",
       "      <td>False</td>\n",
       "      <td>False</td>\n",
       "      <td>False</td>\n",
       "      <td>False</td>\n",
       "    </tr>\n",
       "    <tr>\n",
       "      <th>2</th>\n",
       "      <td>3</td>\n",
       "      <td>1.0</td>\n",
       "      <td>3</td>\n",
       "      <td>0</td>\n",
       "      <td>26.0</td>\n",
       "      <td>0</td>\n",
       "      <td>0</td>\n",
       "      <td>7.9250</td>\n",
       "      <td>NaN</td>\n",
       "      <td>False</td>\n",
       "      <td>...</td>\n",
       "      <td>False</td>\n",
       "      <td>False</td>\n",
       "      <td>False</td>\n",
       "      <td>False</td>\n",
       "      <td>True</td>\n",
       "      <td>False</td>\n",
       "      <td>False</td>\n",
       "      <td>False</td>\n",
       "      <td>False</td>\n",
       "      <td>False</td>\n",
       "    </tr>\n",
       "    <tr>\n",
       "      <th>3</th>\n",
       "      <td>4</td>\n",
       "      <td>1.0</td>\n",
       "      <td>1</td>\n",
       "      <td>0</td>\n",
       "      <td>35.0</td>\n",
       "      <td>1</td>\n",
       "      <td>0</td>\n",
       "      <td>53.1000</td>\n",
       "      <td>C123</td>\n",
       "      <td>False</td>\n",
       "      <td>...</td>\n",
       "      <td>False</td>\n",
       "      <td>False</td>\n",
       "      <td>False</td>\n",
       "      <td>False</td>\n",
       "      <td>False</td>\n",
       "      <td>False</td>\n",
       "      <td>False</td>\n",
       "      <td>False</td>\n",
       "      <td>False</td>\n",
       "      <td>True</td>\n",
       "    </tr>\n",
       "    <tr>\n",
       "      <th>4</th>\n",
       "      <td>5</td>\n",
       "      <td>0.0</td>\n",
       "      <td>3</td>\n",
       "      <td>1</td>\n",
       "      <td>35.0</td>\n",
       "      <td>0</td>\n",
       "      <td>0</td>\n",
       "      <td>8.0500</td>\n",
       "      <td>NaN</td>\n",
       "      <td>False</td>\n",
       "      <td>...</td>\n",
       "      <td>False</td>\n",
       "      <td>False</td>\n",
       "      <td>False</td>\n",
       "      <td>False</td>\n",
       "      <td>False</td>\n",
       "      <td>False</td>\n",
       "      <td>False</td>\n",
       "      <td>False</td>\n",
       "      <td>False</td>\n",
       "      <td>True</td>\n",
       "    </tr>\n",
       "    <tr>\n",
       "      <th>5</th>\n",
       "      <td>6</td>\n",
       "      <td>0.0</td>\n",
       "      <td>3</td>\n",
       "      <td>1</td>\n",
       "      <td>25.0</td>\n",
       "      <td>0</td>\n",
       "      <td>0</td>\n",
       "      <td>8.4583</td>\n",
       "      <td>NaN</td>\n",
       "      <td>False</td>\n",
       "      <td>...</td>\n",
       "      <td>False</td>\n",
       "      <td>False</td>\n",
       "      <td>False</td>\n",
       "      <td>False</td>\n",
       "      <td>False</td>\n",
       "      <td>False</td>\n",
       "      <td>False</td>\n",
       "      <td>False</td>\n",
       "      <td>False</td>\n",
       "      <td>True</td>\n",
       "    </tr>\n",
       "    <tr>\n",
       "      <th>6</th>\n",
       "      <td>7</td>\n",
       "      <td>0.0</td>\n",
       "      <td>1</td>\n",
       "      <td>1</td>\n",
       "      <td>54.0</td>\n",
       "      <td>0</td>\n",
       "      <td>0</td>\n",
       "      <td>51.8625</td>\n",
       "      <td>E46</td>\n",
       "      <td>False</td>\n",
       "      <td>...</td>\n",
       "      <td>False</td>\n",
       "      <td>False</td>\n",
       "      <td>False</td>\n",
       "      <td>False</td>\n",
       "      <td>False</td>\n",
       "      <td>False</td>\n",
       "      <td>False</td>\n",
       "      <td>False</td>\n",
       "      <td>False</td>\n",
       "      <td>True</td>\n",
       "    </tr>\n",
       "    <tr>\n",
       "      <th>7</th>\n",
       "      <td>8</td>\n",
       "      <td>0.0</td>\n",
       "      <td>3</td>\n",
       "      <td>1</td>\n",
       "      <td>2.0</td>\n",
       "      <td>3</td>\n",
       "      <td>1</td>\n",
       "      <td>21.0750</td>\n",
       "      <td>NaN</td>\n",
       "      <td>True</td>\n",
       "      <td>...</td>\n",
       "      <td>False</td>\n",
       "      <td>False</td>\n",
       "      <td>False</td>\n",
       "      <td>False</td>\n",
       "      <td>False</td>\n",
       "      <td>False</td>\n",
       "      <td>False</td>\n",
       "      <td>False</td>\n",
       "      <td>False</td>\n",
       "      <td>True</td>\n",
       "    </tr>\n",
       "    <tr>\n",
       "      <th>8</th>\n",
       "      <td>9</td>\n",
       "      <td>1.0</td>\n",
       "      <td>3</td>\n",
       "      <td>0</td>\n",
       "      <td>27.0</td>\n",
       "      <td>0</td>\n",
       "      <td>2</td>\n",
       "      <td>11.1333</td>\n",
       "      <td>NaN</td>\n",
       "      <td>False</td>\n",
       "      <td>...</td>\n",
       "      <td>False</td>\n",
       "      <td>False</td>\n",
       "      <td>False</td>\n",
       "      <td>False</td>\n",
       "      <td>False</td>\n",
       "      <td>False</td>\n",
       "      <td>False</td>\n",
       "      <td>False</td>\n",
       "      <td>False</td>\n",
       "      <td>True</td>\n",
       "    </tr>\n",
       "    <tr>\n",
       "      <th>9</th>\n",
       "      <td>10</td>\n",
       "      <td>1.0</td>\n",
       "      <td>2</td>\n",
       "      <td>0</td>\n",
       "      <td>14.0</td>\n",
       "      <td>1</td>\n",
       "      <td>0</td>\n",
       "      <td>30.0708</td>\n",
       "      <td>NaN</td>\n",
       "      <td>False</td>\n",
       "      <td>...</td>\n",
       "      <td>False</td>\n",
       "      <td>False</td>\n",
       "      <td>False</td>\n",
       "      <td>False</td>\n",
       "      <td>False</td>\n",
       "      <td>False</td>\n",
       "      <td>False</td>\n",
       "      <td>False</td>\n",
       "      <td>False</td>\n",
       "      <td>True</td>\n",
       "    </tr>\n",
       "  </tbody>\n",
       "</table>\n",
       "<p>10 rows × 56 columns</p>\n",
       "</div>"
      ],
      "text/plain": [
       "   PassengerId  Survived  Pclass  Sex   Age  SibSp  Parch     Fare Cabin  \\\n",
       "0            1       0.0       3    1  22.0      1      0   7.2500   NaN   \n",
       "1            2       1.0       1    0  38.0      1      0  71.2833   C85   \n",
       "2            3       1.0       3    0  26.0      0      0   7.9250   NaN   \n",
       "3            4       1.0       1    0  35.0      1      0  53.1000  C123   \n",
       "4            5       0.0       3    1  35.0      0      0   8.0500   NaN   \n",
       "5            6       0.0       3    1  25.0      0      0   8.4583   NaN   \n",
       "6            7       0.0       1    1  54.0      0      0  51.8625   E46   \n",
       "7            8       0.0       3    1   2.0      3      1  21.0750   NaN   \n",
       "8            9       1.0       3    0  27.0      0      2  11.1333   NaN   \n",
       "9           10       1.0       2    0  14.0      1      0  30.0708   NaN   \n",
       "\n",
       "   Title_0  ...  T_SOTONO2  T_SOTONOQ   T_SP  T_STONO  T_STONO2  T_STONOQ  \\\n",
       "0    False  ...      False      False  False    False     False     False   \n",
       "1    False  ...      False      False  False    False     False     False   \n",
       "2    False  ...      False      False  False    False      True     False   \n",
       "3    False  ...      False      False  False    False     False     False   \n",
       "4    False  ...      False      False  False    False     False     False   \n",
       "5    False  ...      False      False  False    False     False     False   \n",
       "6    False  ...      False      False  False    False     False     False   \n",
       "7     True  ...      False      False  False    False     False     False   \n",
       "8    False  ...      False      False  False    False     False     False   \n",
       "9    False  ...      False      False  False    False     False     False   \n",
       "\n",
       "   T_SWPP   T_WC  T_WEP    T_X  \n",
       "0   False  False  False  False  \n",
       "1   False  False  False  False  \n",
       "2   False  False  False  False  \n",
       "3   False  False  False   True  \n",
       "4   False  False  False   True  \n",
       "5   False  False  False   True  \n",
       "6   False  False  False   True  \n",
       "7   False  False  False   True  \n",
       "8   False  False  False   True  \n",
       "9   False  False  False   True  \n",
       "\n",
       "[10 rows x 56 columns]"
      ]
     },
     "execution_count": 68,
     "metadata": {},
     "output_type": "execute_result"
    }
   ],
   "source": [
    "train_df = pd.get_dummies(train_df, columns = [\"Ticket\"], prefix = \"T\")\n",
    "train_df.head(10)"
   ]
  },
  {
   "cell_type": "markdown",
   "id": "e78cc6e2",
   "metadata": {
    "papermill": {
     "duration": 0.038911,
     "end_time": "2025-03-11T07:08:04.215945",
     "exception": false,
     "start_time": "2025-03-11T07:08:04.177034",
     "status": "completed"
    },
    "tags": []
   },
   "source": [
    "<a id = \"26\"></a><br>\n",
    "## Pclass"
   ]
  },
  {
   "cell_type": "code",
   "execution_count": 69,
   "id": "d573ce7d",
   "metadata": {
    "execution": {
     "iopub.execute_input": "2025-03-11T07:08:04.297401Z",
     "iopub.status.busy": "2025-03-11T07:08:04.297009Z",
     "iopub.status.idle": "2025-03-11T07:08:04.422585Z",
     "shell.execute_reply": "2025-03-11T07:08:04.421162Z"
    },
    "papermill": {
     "duration": 0.168404,
     "end_time": "2025-03-11T07:08:04.424488",
     "exception": false,
     "start_time": "2025-03-11T07:08:04.256084",
     "status": "completed"
    },
    "tags": []
   },
   "outputs": [
    {
     "data": {
      "image/png": "[encoded data removed]",
      "text/plain": [
       "<Figure size 640x480 with 1 Axes>"
      ]
     },
     "metadata": {},
     "output_type": "display_data"
    }
   ],
   "source": [
    "sns.countplot(x = \"Pclass\", data = train_df)\n",
    "plt.show()"
   ]
  },
  {
   "cell_type": "code",
   "execution_count": 70,
   "id": "468447ef",
   "metadata": {
    "execution": {
     "iopub.execute_input": "2025-03-11T07:08:04.507965Z",
     "iopub.status.busy": "2025-03-11T07:08:04.507636Z",
     "iopub.status.idle": "2025-03-11T07:08:04.531633Z",
     "shell.execute_reply": "2025-03-11T07:08:04.530437Z"
    },
    "papermill": {
     "duration": 0.068223,
     "end_time": "2025-03-11T07:08:04.533784",
     "exception": false,
     "start_time": "2025-03-11T07:08:04.465561",
     "status": "completed"
    },
    "tags": []
   },
   "outputs": [
    {
     "data": {
      "text/html": [
       "<div>\n",
       "<style scoped>\n",
       "    .dataframe tbody tr th:only-of-type {\n",
       "        vertical-align: middle;\n",
       "    }\n",
       "\n",
       "    .dataframe tbody tr th {\n",
       "        vertical-align: top;\n",
       "    }\n",
       "\n",
       "    .dataframe thead th {\n",
       "        text-align: right;\n",
       "    }\n",
       "</style>\n",
       "<table border=\"1\" class=\"dataframe\">\n",
       "  <thead>\n",
       "    <tr style=\"text-align: right;\">\n",
       "      <th></th>\n",
       "      <th>PassengerId</th>\n",
       "      <th>Survived</th>\n",
       "      <th>Sex</th>\n",
       "      <th>Age</th>\n",
       "      <th>SibSp</th>\n",
       "      <th>Parch</th>\n",
       "      <th>Fare</th>\n",
       "      <th>Cabin</th>\n",
       "      <th>Title_0</th>\n",
       "      <th>Title_1</th>\n",
       "      <th>...</th>\n",
       "      <th>T_STONO</th>\n",
       "      <th>T_STONO2</th>\n",
       "      <th>T_STONOQ</th>\n",
       "      <th>T_SWPP</th>\n",
       "      <th>T_WC</th>\n",
       "      <th>T_WEP</th>\n",
       "      <th>T_X</th>\n",
       "      <th>Pclass_1</th>\n",
       "      <th>Pclass_2</th>\n",
       "      <th>Pclass_3</th>\n",
       "    </tr>\n",
       "  </thead>\n",
       "  <tbody>\n",
       "    <tr>\n",
       "      <th>0</th>\n",
       "      <td>1</td>\n",
       "      <td>0.0</td>\n",
       "      <td>1</td>\n",
       "      <td>22.0</td>\n",
       "      <td>1</td>\n",
       "      <td>0</td>\n",
       "      <td>7.2500</td>\n",
       "      <td>NaN</td>\n",
       "      <td>False</td>\n",
       "      <td>False</td>\n",
       "      <td>...</td>\n",
       "      <td>False</td>\n",
       "      <td>False</td>\n",
       "      <td>False</td>\n",
       "      <td>False</td>\n",
       "      <td>False</td>\n",
       "      <td>False</td>\n",
       "      <td>False</td>\n",
       "      <td>False</td>\n",
       "      <td>False</td>\n",
       "      <td>True</td>\n",
       "    </tr>\n",
       "    <tr>\n",
       "      <th>1</th>\n",
       "      <td>2</td>\n",
       "      <td>1.0</td>\n",
       "      <td>0</td>\n",
       "      <td>38.0</td>\n",
       "      <td>1</td>\n",
       "      <td>0</td>\n",
       "      <td>71.2833</td>\n",
       "      <td>C85</td>\n",
       "      <td>False</td>\n",
       "      <td>True</td>\n",
       "      <td>...</td>\n",
       "      <td>False</td>\n",
       "      <td>False</td>\n",
       "      <td>False</td>\n",
       "      <td>False</td>\n",
       "      <td>False</td>\n",
       "      <td>False</td>\n",
       "      <td>False</td>\n",
       "      <td>True</td>\n",
       "      <td>False</td>\n",
       "      <td>False</td>\n",
       "    </tr>\n",
       "    <tr>\n",
       "      <th>2</th>\n",
       "      <td>3</td>\n",
       "      <td>1.0</td>\n",
       "      <td>0</td>\n",
       "      <td>26.0</td>\n",
       "      <td>0</td>\n",
       "      <td>0</td>\n",
       "      <td>7.9250</td>\n",
       "      <td>NaN</td>\n",
       "      <td>False</td>\n",
       "      <td>True</td>\n",
       "      <td>...</td>\n",
       "      <td>False</td>\n",
       "      <td>True</td>\n",
       "      <td>False</td>\n",
       "      <td>False</td>\n",
       "      <td>False</td>\n",
       "      <td>False</td>\n",
       "      <td>False</td>\n",
       "      <td>False</td>\n",
       "      <td>False</td>\n",
       "      <td>True</td>\n",
       "    </tr>\n",
       "    <tr>\n",
       "      <th>3</th>\n",
       "      <td>4</td>\n",
       "      <td>1.0</td>\n",
       "      <td>0</td>\n",
       "      <td>35.0</td>\n",
       "      <td>1</td>\n",
       "      <td>0</td>\n",
       "      <td>53.1000</td>\n",
       "      <td>C123</td>\n",
       "      <td>False</td>\n",
       "      <td>True</td>\n",
       "      <td>...</td>\n",
       "      <td>False</td>\n",
       "      <td>False</td>\n",
       "      <td>False</td>\n",
       "      <td>False</td>\n",
       "      <td>False</td>\n",
       "      <td>False</td>\n",
       "      <td>True</td>\n",
       "      <td>True</td>\n",
       "      <td>False</td>\n",
       "      <td>False</td>\n",
       "    </tr>\n",
       "    <tr>\n",
       "      <th>4</th>\n",
       "      <td>5</td>\n",
       "      <td>0.0</td>\n",
       "      <td>1</td>\n",
       "      <td>35.0</td>\n",
       "      <td>0</td>\n",
       "      <td>0</td>\n",
       "      <td>8.0500</td>\n",
       "      <td>NaN</td>\n",
       "      <td>False</td>\n",
       "      <td>False</td>\n",
       "      <td>...</td>\n",
       "      <td>False</td>\n",
       "      <td>False</td>\n",
       "      <td>False</td>\n",
       "      <td>False</td>\n",
       "      <td>False</td>\n",
       "      <td>False</td>\n",
       "      <td>True</td>\n",
       "      <td>False</td>\n",
       "      <td>False</td>\n",
       "      <td>True</td>\n",
       "    </tr>\n",
       "  </tbody>\n",
       "</table>\n",
       "<p>5 rows × 58 columns</p>\n",
       "</div>"
      ],
      "text/plain": [
       "   PassengerId  Survived  Sex   Age  SibSp  Parch     Fare Cabin  Title_0  \\\n",
       "0            1       0.0    1  22.0      1      0   7.2500   NaN    False   \n",
       "1            2       1.0    0  38.0      1      0  71.2833   C85    False   \n",
       "2            3       1.0    0  26.0      0      0   7.9250   NaN    False   \n",
       "3            4       1.0    0  35.0      1      0  53.1000  C123    False   \n",
       "4            5       0.0    1  35.0      0      0   8.0500   NaN    False   \n",
       "\n",
       "   Title_1  ...  T_STONO  T_STONO2  T_STONOQ  T_SWPP   T_WC  T_WEP    T_X  \\\n",
       "0    False  ...    False     False     False   False  False  False  False   \n",
       "1     True  ...    False     False     False   False  False  False  False   \n",
       "2     True  ...    False      True     False   False  False  False  False   \n",
       "3     True  ...    False     False     False   False  False  False   True   \n",
       "4    False  ...    False     False     False   False  False  False   True   \n",
       "\n",
       "   Pclass_1  Pclass_2  Pclass_3  \n",
       "0     False     False      True  \n",
       "1      True     False     False  \n",
       "2     False     False      True  \n",
       "3      True     False     False  \n",
       "4     False     False      True  \n",
       "\n",
       "[5 rows x 58 columns]"
      ]
     },
     "execution_count": 70,
     "metadata": {},
     "output_type": "execute_result"
    }
   ],
   "source": [
    "train_df[\"Pclass\"] = train_df[\"Pclass\"].astype(\"category\")\n",
    "train_df = pd.get_dummies(train_df, columns = [\"Pclass\"])\n",
    "train_df.head()"
   ]
  },
  {
   "cell_type": "markdown",
   "id": "0dea4d20",
   "metadata": {
    "papermill": {
     "duration": 0.040137,
     "end_time": "2025-03-11T07:08:04.614750",
     "exception": false,
     "start_time": "2025-03-11T07:08:04.574613",
     "status": "completed"
    },
    "tags": []
   },
   "source": [
    "<a id = \"27\"></a><br>\n",
    "## Sex"
   ]
  },
  {
   "cell_type": "code",
   "execution_count": 71,
   "id": "48101195",
   "metadata": {
    "execution": {
     "iopub.execute_input": "2025-03-11T07:08:04.696057Z",
     "iopub.status.busy": "2025-03-11T07:08:04.695717Z",
     "iopub.status.idle": "2025-03-11T07:08:04.719955Z",
     "shell.execute_reply": "2025-03-11T07:08:04.718845Z"
    },
    "papermill": {
     "duration": 0.066919,
     "end_time": "2025-03-11T07:08:04.721620",
     "exception": false,
     "start_time": "2025-03-11T07:08:04.654701",
     "status": "completed"
    },
    "tags": []
   },
   "outputs": [
    {
     "data": {
      "text/html": [
       "<div>\n",
       "<style scoped>\n",
       "    .dataframe tbody tr th:only-of-type {\n",
       "        vertical-align: middle;\n",
       "    }\n",
       "\n",
       "    .dataframe tbody tr th {\n",
       "        vertical-align: top;\n",
       "    }\n",
       "\n",
       "    .dataframe thead th {\n",
       "        text-align: right;\n",
       "    }\n",
       "</style>\n",
       "<table border=\"1\" class=\"dataframe\">\n",
       "  <thead>\n",
       "    <tr style=\"text-align: right;\">\n",
       "      <th></th>\n",
       "      <th>PassengerId</th>\n",
       "      <th>Survived</th>\n",
       "      <th>Age</th>\n",
       "      <th>SibSp</th>\n",
       "      <th>Parch</th>\n",
       "      <th>Fare</th>\n",
       "      <th>Cabin</th>\n",
       "      <th>Title_0</th>\n",
       "      <th>Title_1</th>\n",
       "      <th>Title_2</th>\n",
       "      <th>...</th>\n",
       "      <th>T_STONOQ</th>\n",
       "      <th>T_SWPP</th>\n",
       "      <th>T_WC</th>\n",
       "      <th>T_WEP</th>\n",
       "      <th>T_X</th>\n",
       "      <th>Pclass_1</th>\n",
       "      <th>Pclass_2</th>\n",
       "      <th>Pclass_3</th>\n",
       "      <th>Sex_0</th>\n",
       "      <th>Sex_1</th>\n",
       "    </tr>\n",
       "  </thead>\n",
       "  <tbody>\n",
       "    <tr>\n",
       "      <th>0</th>\n",
       "      <td>1</td>\n",
       "      <td>0.0</td>\n",
       "      <td>22.0</td>\n",
       "      <td>1</td>\n",
       "      <td>0</td>\n",
       "      <td>7.2500</td>\n",
       "      <td>NaN</td>\n",
       "      <td>False</td>\n",
       "      <td>False</td>\n",
       "      <td>True</td>\n",
       "      <td>...</td>\n",
       "      <td>False</td>\n",
       "      <td>False</td>\n",
       "      <td>False</td>\n",
       "      <td>False</td>\n",
       "      <td>False</td>\n",
       "      <td>False</td>\n",
       "      <td>False</td>\n",
       "      <td>True</td>\n",
       "      <td>False</td>\n",
       "      <td>True</td>\n",
       "    </tr>\n",
       "    <tr>\n",
       "      <th>1</th>\n",
       "      <td>2</td>\n",
       "      <td>1.0</td>\n",
       "      <td>38.0</td>\n",
       "      <td>1</td>\n",
       "      <td>0</td>\n",
       "      <td>71.2833</td>\n",
       "      <td>C85</td>\n",
       "      <td>False</td>\n",
       "      <td>True</td>\n",
       "      <td>False</td>\n",
       "      <td>...</td>\n",
       "      <td>False</td>\n",
       "      <td>False</td>\n",
       "      <td>False</td>\n",
       "      <td>False</td>\n",
       "      <td>False</td>\n",
       "      <td>True</td>\n",
       "      <td>False</td>\n",
       "      <td>False</td>\n",
       "      <td>True</td>\n",
       "      <td>False</td>\n",
       "    </tr>\n",
       "    <tr>\n",
       "      <th>2</th>\n",
       "      <td>3</td>\n",
       "      <td>1.0</td>\n",
       "      <td>26.0</td>\n",
       "      <td>0</td>\n",
       "      <td>0</td>\n",
       "      <td>7.9250</td>\n",
       "      <td>NaN</td>\n",
       "      <td>False</td>\n",
       "      <td>True</td>\n",
       "      <td>False</td>\n",
       "      <td>...</td>\n",
       "      <td>False</td>\n",
       "      <td>False</td>\n",
       "      <td>False</td>\n",
       "      <td>False</td>\n",
       "      <td>False</td>\n",
       "      <td>False</td>\n",
       "      <td>False</td>\n",
       "      <td>True</td>\n",
       "      <td>True</td>\n",
       "      <td>False</td>\n",
       "    </tr>\n",
       "    <tr>\n",
       "      <th>3</th>\n",
       "      <td>4</td>\n",
       "      <td>1.0</td>\n",
       "      <td>35.0</td>\n",
       "      <td>1</td>\n",
       "      <td>0</td>\n",
       "      <td>53.1000</td>\n",
       "      <td>C123</td>\n",
       "      <td>False</td>\n",
       "      <td>True</td>\n",
       "      <td>False</td>\n",
       "      <td>...</td>\n",
       "      <td>False</td>\n",
       "      <td>False</td>\n",
       "      <td>False</td>\n",
       "      <td>False</td>\n",
       "      <td>True</td>\n",
       "      <td>True</td>\n",
       "      <td>False</td>\n",
       "      <td>False</td>\n",
       "      <td>True</td>\n",
       "      <td>False</td>\n",
       "    </tr>\n",
       "    <tr>\n",
       "      <th>4</th>\n",
       "      <td>5</td>\n",
       "      <td>0.0</td>\n",
       "      <td>35.0</td>\n",
       "      <td>0</td>\n",
       "      <td>0</td>\n",
       "      <td>8.0500</td>\n",
       "      <td>NaN</td>\n",
       "      <td>False</td>\n",
       "      <td>False</td>\n",
       "      <td>True</td>\n",
       "      <td>...</td>\n",
       "      <td>False</td>\n",
       "      <td>False</td>\n",
       "      <td>False</td>\n",
       "      <td>False</td>\n",
       "      <td>True</td>\n",
       "      <td>False</td>\n",
       "      <td>False</td>\n",
       "      <td>True</td>\n",
       "      <td>False</td>\n",
       "      <td>True</td>\n",
       "    </tr>\n",
       "  </tbody>\n",
       "</table>\n",
       "<p>5 rows × 59 columns</p>\n",
       "</div>"
      ],
      "text/plain": [
       "   PassengerId  Survived   Age  SibSp  Parch     Fare Cabin  Title_0  Title_1  \\\n",
       "0            1       0.0  22.0      1      0   7.2500   NaN    False    False   \n",
       "1            2       1.0  38.0      1      0  71.2833   C85    False     True   \n",
       "2            3       1.0  26.0      0      0   7.9250   NaN    False     True   \n",
       "3            4       1.0  35.0      1      0  53.1000  C123    False     True   \n",
       "4            5       0.0  35.0      0      0   8.0500   NaN    False    False   \n",
       "\n",
       "   Title_2  ...  T_STONOQ  T_SWPP   T_WC  T_WEP    T_X  Pclass_1  Pclass_2  \\\n",
       "0     True  ...     False   False  False  False  False     False     False   \n",
       "1    False  ...     False   False  False  False  False      True     False   \n",
       "2    False  ...     False   False  False  False  False     False     False   \n",
       "3    False  ...     False   False  False  False   True      True     False   \n",
       "4     True  ...     False   False  False  False   True     False     False   \n",
       "\n",
       "   Pclass_3  Sex_0  Sex_1  \n",
       "0      True  False   True  \n",
       "1     False   True  False  \n",
       "2      True   True  False  \n",
       "3     False   True  False  \n",
       "4      True  False   True  \n",
       "\n",
       "[5 rows x 59 columns]"
      ]
     },
     "execution_count": 71,
     "metadata": {},
     "output_type": "execute_result"
    }
   ],
   "source": [
    "train_df[\"Sex\"] = train_df[\"Sex\"].astype(\"category\")\n",
    "train_df = pd.get_dummies(train_df, columns = [\"Sex\"])\n",
    "train_df.head()"
   ]
  },
  {
   "cell_type": "markdown",
   "id": "044e26c2",
   "metadata": {
    "papermill": {
     "duration": 0.041521,
     "end_time": "2025-03-11T07:08:04.803820",
     "exception": false,
     "start_time": "2025-03-11T07:08:04.762299",
     "status": "completed"
    },
    "tags": []
   },
   "source": [
    "<a id = \"28\"></a><br>\n",
    "## Drop Passenger ID and Cabin"
   ]
  },
  {
   "cell_type": "code",
   "execution_count": 72,
   "id": "b0dc7db6",
   "metadata": {
    "execution": {
     "iopub.execute_input": "2025-03-11T07:08:04.889682Z",
     "iopub.status.busy": "2025-03-11T07:08:04.889346Z",
     "iopub.status.idle": "2025-03-11T07:08:04.895053Z",
     "shell.execute_reply": "2025-03-11T07:08:04.893801Z"
    },
    "papermill": {
     "duration": 0.052519,
     "end_time": "2025-03-11T07:08:04.897233",
     "exception": false,
     "start_time": "2025-03-11T07:08:04.844714",
     "status": "completed"
    },
    "tags": []
   },
   "outputs": [],
   "source": [
    "train_df.drop(labels = [\"PassengerId\", \"Cabin\"], axis = 1, inplace = True)"
   ]
  },
  {
   "cell_type": "code",
   "execution_count": 73,
   "id": "11d84b3e",
   "metadata": {
    "execution": {
     "iopub.execute_input": "2025-03-11T07:08:04.981563Z",
     "iopub.status.busy": "2025-03-11T07:08:04.980816Z",
     "iopub.status.idle": "2025-03-11T07:08:04.987052Z",
     "shell.execute_reply": "2025-03-11T07:08:04.985739Z"
    },
    "papermill": {
     "duration": 0.050914,
     "end_time": "2025-03-11T07:08:04.988799",
     "exception": false,
     "start_time": "2025-03-11T07:08:04.937885",
     "status": "completed"
    },
    "tags": []
   },
   "outputs": [
    {
     "data": {
      "text/plain": [
       "Index(['Survived', 'Age', 'SibSp', 'Parch', 'Fare', 'Title_0', 'Title_1',\n",
       "       'Title_2', 'Title_3', 'Fsize', 'family_size_0', 'family_size_1',\n",
       "       'Embarked_C', 'Embarked_Q', 'Embarked_S', 'T_A', 'T_A4', 'T_A5',\n",
       "       'T_AQ3', 'T_AQ4', 'T_AS', 'T_C', 'T_CA', 'T_CASOTON', 'T_FC', 'T_FCC',\n",
       "       'T_Fa', 'T_LINE', 'T_LP', 'T_PC', 'T_PP', 'T_PPP', 'T_SC', 'T_SCA3',\n",
       "       'T_SCA4', 'T_SCAH', 'T_SCOW', 'T_SCPARIS', 'T_SCParis', 'T_SOC',\n",
       "       'T_SOP', 'T_SOPP', 'T_SOTONO2', 'T_SOTONOQ', 'T_SP', 'T_STONO',\n",
       "       'T_STONO2', 'T_STONOQ', 'T_SWPP', 'T_WC', 'T_WEP', 'T_X', 'Pclass_1',\n",
       "       'Pclass_2', 'Pclass_3', 'Sex_0', 'Sex_1'],\n",
       "      dtype='object')"
      ]
     },
     "execution_count": 73,
     "metadata": {},
     "output_type": "execute_result"
    }
   ],
   "source": [
    "train_df.columns"
   ]
  },
  {
   "cell_type": "markdown",
   "id": "300baeea",
   "metadata": {
    "papermill": {
     "duration": 0.04527,
     "end_time": "2025-03-11T07:08:05.077080",
     "exception": false,
     "start_time": "2025-03-11T07:08:05.031810",
     "status": "completed"
    },
    "tags": []
   },
   "source": [
    "<a id = \"29\"></a><br>\n",
    "## Modeling"
   ]
  },
  {
   "cell_type": "code",
   "execution_count": 74,
   "id": "273f2385",
   "metadata": {
    "execution": {
     "iopub.execute_input": "2025-03-11T07:08:05.162332Z",
     "iopub.status.busy": "2025-03-11T07:08:05.161919Z",
     "iopub.status.idle": "2025-03-11T07:08:06.044615Z",
     "shell.execute_reply": "2025-03-11T07:08:06.042840Z"
    },
    "papermill": {
     "duration": 0.927905,
     "end_time": "2025-03-11T07:08:06.047622",
     "exception": false,
     "start_time": "2025-03-11T07:08:05.119717",
     "status": "completed"
    },
    "tags": []
   },
   "outputs": [],
   "source": [
    "from sklearn.model_selection import train_test_split,StratifiedKFold, GridSearchCV\n",
    "from sklearn.linear_model import LogisticRegression\n",
    "from sklearn.svm import SVC\n",
    "from sklearn.ensemble import RandomForestClassifier, VotingClassifier\n",
    "from sklearn.neighbors import KNeighborsClassifier\n",
    "from sklearn.tree import DecisionTreeClassifier\n",
    "from sklearn.metrics import accuracy_score"
   ]
  },
  {
   "cell_type": "markdown",
   "id": "80c61f77",
   "metadata": {
    "papermill": {
     "duration": 0.039919,
     "end_time": "2025-03-11T07:08:06.137716",
     "exception": false,
     "start_time": "2025-03-11T07:08:06.097797",
     "status": "completed"
    },
    "tags": []
   },
   "source": [
    "<a id = \"30\"></a><br>\n",
    "## Train - Test Split"
   ]
  },
  {
   "cell_type": "code",
   "execution_count": 75,
   "id": "00fb1558",
   "metadata": {
    "execution": {
     "iopub.execute_input": "2025-03-11T07:08:06.220375Z",
     "iopub.status.busy": "2025-03-11T07:08:06.219990Z",
     "iopub.status.idle": "2025-03-11T07:08:06.226704Z",
     "shell.execute_reply": "2025-03-11T07:08:06.225366Z"
    },
    "papermill": {
     "duration": 0.051253,
     "end_time": "2025-03-11T07:08:06.229036",
     "exception": false,
     "start_time": "2025-03-11T07:08:06.177783",
     "status": "completed"
    },
    "tags": []
   },
   "outputs": [
    {
     "data": {
      "text/plain": [
       "881"
      ]
     },
     "execution_count": 75,
     "metadata": {},
     "output_type": "execute_result"
    }
   ],
   "source": [
    "train_df_len"
   ]
  },
  {
   "cell_type": "code",
   "execution_count": 76,
   "id": "c71ec354",
   "metadata": {
    "execution": {
     "iopub.execute_input": "2025-03-11T07:08:06.313700Z",
     "iopub.status.busy": "2025-03-11T07:08:06.313368Z",
     "iopub.status.idle": "2025-03-11T07:08:06.319425Z",
     "shell.execute_reply": "2025-03-11T07:08:06.318354Z"
    },
    "papermill": {
     "duration": 0.049507,
     "end_time": "2025-03-11T07:08:06.321107",
     "exception": false,
     "start_time": "2025-03-11T07:08:06.271600",
     "status": "completed"
    },
    "tags": []
   },
   "outputs": [],
   "source": [
    "test = train_df[train_df_len:]\n",
    "test_PassangerId = test_df[\"PassengerId\"]\n",
    "test.drop(labels = [\"Survived\"], axis = 1, inplace = True)"
   ]
  },
  {
   "cell_type": "code",
   "execution_count": 77,
   "id": "1bfcf6f7",
   "metadata": {
    "execution": {
     "iopub.execute_input": "2025-03-11T07:08:06.406912Z",
     "iopub.status.busy": "2025-03-11T07:08:06.406441Z",
     "iopub.status.idle": "2025-03-11T07:08:06.429006Z",
     "shell.execute_reply": "2025-03-11T07:08:06.427835Z"
    },
    "papermill": {
     "duration": 0.068123,
     "end_time": "2025-03-11T07:08:06.431173",
     "exception": false,
     "start_time": "2025-03-11T07:08:06.363050",
     "status": "completed"
    },
    "tags": []
   },
   "outputs": [
    {
     "data": {
      "text/html": [
       "<div>\n",
       "<style scoped>\n",
       "    .dataframe tbody tr th:only-of-type {\n",
       "        vertical-align: middle;\n",
       "    }\n",
       "\n",
       "    .dataframe tbody tr th {\n",
       "        vertical-align: top;\n",
       "    }\n",
       "\n",
       "    .dataframe thead th {\n",
       "        text-align: right;\n",
       "    }\n",
       "</style>\n",
       "<table border=\"1\" class=\"dataframe\">\n",
       "  <thead>\n",
       "    <tr style=\"text-align: right;\">\n",
       "      <th></th>\n",
       "      <th>Age</th>\n",
       "      <th>SibSp</th>\n",
       "      <th>Parch</th>\n",
       "      <th>Fare</th>\n",
       "      <th>Title_0</th>\n",
       "      <th>Title_1</th>\n",
       "      <th>Title_2</th>\n",
       "      <th>Title_3</th>\n",
       "      <th>Fsize</th>\n",
       "      <th>family_size_0</th>\n",
       "      <th>...</th>\n",
       "      <th>T_STONOQ</th>\n",
       "      <th>T_SWPP</th>\n",
       "      <th>T_WC</th>\n",
       "      <th>T_WEP</th>\n",
       "      <th>T_X</th>\n",
       "      <th>Pclass_1</th>\n",
       "      <th>Pclass_2</th>\n",
       "      <th>Pclass_3</th>\n",
       "      <th>Sex_0</th>\n",
       "      <th>Sex_1</th>\n",
       "    </tr>\n",
       "  </thead>\n",
       "  <tbody>\n",
       "    <tr>\n",
       "      <th>881</th>\n",
       "      <td>34.5</td>\n",
       "      <td>0</td>\n",
       "      <td>0</td>\n",
       "      <td>7.8292</td>\n",
       "      <td>False</td>\n",
       "      <td>False</td>\n",
       "      <td>True</td>\n",
       "      <td>False</td>\n",
       "      <td>1</td>\n",
       "      <td>False</td>\n",
       "      <td>...</td>\n",
       "      <td>False</td>\n",
       "      <td>False</td>\n",
       "      <td>False</td>\n",
       "      <td>False</td>\n",
       "      <td>True</td>\n",
       "      <td>False</td>\n",
       "      <td>False</td>\n",
       "      <td>True</td>\n",
       "      <td>False</td>\n",
       "      <td>True</td>\n",
       "    </tr>\n",
       "    <tr>\n",
       "      <th>882</th>\n",
       "      <td>47.0</td>\n",
       "      <td>1</td>\n",
       "      <td>0</td>\n",
       "      <td>7.0000</td>\n",
       "      <td>False</td>\n",
       "      <td>True</td>\n",
       "      <td>False</td>\n",
       "      <td>False</td>\n",
       "      <td>2</td>\n",
       "      <td>False</td>\n",
       "      <td>...</td>\n",
       "      <td>False</td>\n",
       "      <td>False</td>\n",
       "      <td>False</td>\n",
       "      <td>False</td>\n",
       "      <td>True</td>\n",
       "      <td>False</td>\n",
       "      <td>False</td>\n",
       "      <td>True</td>\n",
       "      <td>True</td>\n",
       "      <td>False</td>\n",
       "    </tr>\n",
       "    <tr>\n",
       "      <th>883</th>\n",
       "      <td>62.0</td>\n",
       "      <td>0</td>\n",
       "      <td>0</td>\n",
       "      <td>9.6875</td>\n",
       "      <td>False</td>\n",
       "      <td>False</td>\n",
       "      <td>True</td>\n",
       "      <td>False</td>\n",
       "      <td>1</td>\n",
       "      <td>False</td>\n",
       "      <td>...</td>\n",
       "      <td>False</td>\n",
       "      <td>False</td>\n",
       "      <td>False</td>\n",
       "      <td>False</td>\n",
       "      <td>True</td>\n",
       "      <td>False</td>\n",
       "      <td>True</td>\n",
       "      <td>False</td>\n",
       "      <td>False</td>\n",
       "      <td>True</td>\n",
       "    </tr>\n",
       "    <tr>\n",
       "      <th>884</th>\n",
       "      <td>27.0</td>\n",
       "      <td>0</td>\n",
       "      <td>0</td>\n",
       "      <td>8.6625</td>\n",
       "      <td>False</td>\n",
       "      <td>False</td>\n",
       "      <td>True</td>\n",
       "      <td>False</td>\n",
       "      <td>1</td>\n",
       "      <td>False</td>\n",
       "      <td>...</td>\n",
       "      <td>False</td>\n",
       "      <td>False</td>\n",
       "      <td>False</td>\n",
       "      <td>False</td>\n",
       "      <td>True</td>\n",
       "      <td>False</td>\n",
       "      <td>False</td>\n",
       "      <td>True</td>\n",
       "      <td>False</td>\n",
       "      <td>True</td>\n",
       "    </tr>\n",
       "    <tr>\n",
       "      <th>885</th>\n",
       "      <td>22.0</td>\n",
       "      <td>1</td>\n",
       "      <td>1</td>\n",
       "      <td>12.2875</td>\n",
       "      <td>False</td>\n",
       "      <td>True</td>\n",
       "      <td>False</td>\n",
       "      <td>False</td>\n",
       "      <td>3</td>\n",
       "      <td>False</td>\n",
       "      <td>...</td>\n",
       "      <td>False</td>\n",
       "      <td>False</td>\n",
       "      <td>False</td>\n",
       "      <td>False</td>\n",
       "      <td>True</td>\n",
       "      <td>False</td>\n",
       "      <td>False</td>\n",
       "      <td>True</td>\n",
       "      <td>True</td>\n",
       "      <td>False</td>\n",
       "    </tr>\n",
       "  </tbody>\n",
       "</table>\n",
       "<p>5 rows × 56 columns</p>\n",
       "</div>"
      ],
      "text/plain": [
       "      Age  SibSp  Parch     Fare  Title_0  Title_1  Title_2  Title_3  Fsize  \\\n",
       "881  34.5      0      0   7.8292    False    False     True    False      1   \n",
       "882  47.0      1      0   7.0000    False     True    False    False      2   \n",
       "883  62.0      0      0   9.6875    False    False     True    False      1   \n",
       "884  27.0      0      0   8.6625    False    False     True    False      1   \n",
       "885  22.0      1      1  12.2875    False     True    False    False      3   \n",
       "\n",
       "     family_size_0  ...  T_STONOQ  T_SWPP   T_WC  T_WEP   T_X  Pclass_1  \\\n",
       "881          False  ...     False   False  False  False  True     False   \n",
       "882          False  ...     False   False  False  False  True     False   \n",
       "883          False  ...     False   False  False  False  True     False   \n",
       "884          False  ...     False   False  False  False  True     False   \n",
       "885          False  ...     False   False  False  False  True     False   \n",
       "\n",
       "     Pclass_2  Pclass_3  Sex_0  Sex_1  \n",
       "881     False      True  False   True  \n",
       "882     False      True   True  False  \n",
       "883      True     False  False   True  \n",
       "884     False      True  False   True  \n",
       "885     False      True   True  False  \n",
       "\n",
       "[5 rows x 56 columns]"
      ]
     },
     "execution_count": 77,
     "metadata": {},
     "output_type": "execute_result"
    }
   ],
   "source": [
    "test.head()"
   ]
  },
  {
   "cell_type": "code",
   "execution_count": 78,
   "id": "5be8cb33",
   "metadata": {
    "execution": {
     "iopub.execute_input": "2025-03-11T07:08:06.521281Z",
     "iopub.status.busy": "2025-03-11T07:08:06.520865Z",
     "iopub.status.idle": "2025-03-11T07:08:06.536540Z",
     "shell.execute_reply": "2025-03-11T07:08:06.535488Z"
    },
    "papermill": {
     "duration": 0.064203,
     "end_time": "2025-03-11T07:08:06.538862",
     "exception": false,
     "start_time": "2025-03-11T07:08:06.474659",
     "status": "completed"
    },
    "tags": []
   },
   "outputs": [
    {
     "name": "stdout",
     "output_type": "stream",
     "text": [
      "Xtrain 590\n",
      "Xtest 291\n",
      "ytrain 590\n",
      "ytest 291\n",
      "test 418\n"
     ]
    }
   ],
   "source": [
    "train = train_df[:train_df_len]\n",
    "X_train = train.drop(labels = \"Survived\", axis = 1)\n",
    "y_train = train[\"Survived\"]\n",
    "X_train, X_test, y_train, y_test = train_test_split(X_train, y_train, test_size = 0.33, random_state = 42)\n",
    "print(\"Xtrain\", len(X_train))\n",
    "print(\"Xtest\", len(X_test))\n",
    "print(\"ytrain\", len(y_train))\n",
    "print(\"ytest\", len(y_test))\n",
    "print(\"test\", len(test))"
   ]
  },
  {
   "cell_type": "markdown",
   "id": "1df7ca87",
   "metadata": {
    "papermill": {
     "duration": 0.046338,
     "end_time": "2025-03-11T07:08:06.630465",
     "exception": false,
     "start_time": "2025-03-11T07:08:06.584127",
     "status": "completed"
    },
    "tags": []
   },
   "source": [
    "<a id = \"31\"></a><br>\n",
    "## Simple Logistic Regression"
   ]
  },
  {
   "cell_type": "code",
   "execution_count": 79,
   "id": "cbe2d758",
   "metadata": {
    "execution": {
     "iopub.execute_input": "2025-03-11T07:08:06.719453Z",
     "iopub.status.busy": "2025-03-11T07:08:06.718955Z",
     "iopub.status.idle": "2025-03-11T07:08:06.771905Z",
     "shell.execute_reply": "2025-03-11T07:08:06.770610Z"
    },
    "papermill": {
     "duration": 0.09962,
     "end_time": "2025-03-11T07:08:06.773905",
     "exception": false,
     "start_time": "2025-03-11T07:08:06.674285",
     "status": "completed"
    },
    "tags": []
   },
   "outputs": [
    {
     "name": "stdout",
     "output_type": "stream",
     "text": [
      "Training acc : % 82.71\n",
      "Testing acc : % 81.79\n"
     ]
    }
   ],
   "source": [
    "logreg = LogisticRegression()\n",
    "logreg.fit(X_train,y_train)\n",
    "acc_log_train = round(logreg.score(X_train, y_train)*100,2) \n",
    "acc_log_test = round(logreg.score(X_test,y_test)*100,2)\n",
    "print(\"Training acc : % {}\".format(acc_log_train))\n",
    "print(\"Testing acc : % {}\".format(acc_log_test))"
   ]
  },
  {
   "cell_type": "markdown",
   "id": "1a47cbfa",
   "metadata": {
    "papermill": {
     "duration": 0.040515,
     "end_time": "2025-03-11T07:08:06.857634",
     "exception": false,
     "start_time": "2025-03-11T07:08:06.817119",
     "status": "completed"
    },
    "tags": []
   },
   "source": [
    "<a id = \"32\"></a><br>\n",
    "## Hyper Parameter Tuning -- Grid Search -- Cross Validation\n",
    "We will compare 5 ml classifier and evaluate mean accuracy of each of them by stratified cross  validation.\n",
    "* Decision Tree\n",
    "* SVM\n",
    "* Random Forest\n",
    "* KNN\n",
    "* Logistic Regression"
   ]
  },
  {
   "cell_type": "code",
   "execution_count": 80,
   "id": "8ff25367",
   "metadata": {
    "execution": {
     "iopub.execute_input": "2025-03-11T07:08:06.945565Z",
     "iopub.status.busy": "2025-03-11T07:08:06.945184Z",
     "iopub.status.idle": "2025-03-11T07:08:06.952763Z",
     "shell.execute_reply": "2025-03-11T07:08:06.951760Z"
    },
    "papermill": {
     "duration": 0.051857,
     "end_time": "2025-03-11T07:08:06.954301",
     "exception": false,
     "start_time": "2025-03-11T07:08:06.902444",
     "status": "completed"
    },
    "tags": []
   },
   "outputs": [],
   "source": [
    "random_state = 42\n",
    "classifier = [DecisionTreeClassifier(random_state = random_state),\n",
    "              SVC(random_state = random_state),\n",
    "              RandomForestClassifier(random_state = random_state),\n",
    "              LogisticRegression(random_state = random_state),\n",
    "              KNeighborsClassifier()]\n",
    "\n",
    "dt_param_grid = {\"min_samples_split\" : range(10,500,20),\n",
    "                \"max_depth\" : range(1,20,2)}\n",
    "svc_param_grid = {\"kernel\" : [\"rbf\"],\n",
    "                 \"gamma\" : [0.001,0.01,0.1,1],\n",
    "                 \"C\" : [1,10,50,100,200,300,1000]}\n",
    "rf_param_grid = {\"max_features\" : [1,3,10],\n",
    "                \"min_samples_split\" : [2,3,10],\n",
    "                \"min_samples_leaf\" : [1,3,10],\n",
    "                \"bootstrap\" : [False],\n",
    "                \"n_estimators\" : [100,300],\n",
    "                \"criterion\" : [\"gini\"]}\n",
    "logreg_param_grid = {\"C\" : np.logspace(-3,3,7),\n",
    "                    \"penalty\" : [\"l1\",\"l2\"]}\n",
    "knn_param_grid = {\"n_neighbors\" : np.linspace(1,19,10, dtype = int).tolist(),\n",
    "                 \"weights\" : [\"uniform\", \"distance\"],\n",
    "                 \"metric\" : [\"eucledian\", \"manhattan\"]}\n",
    "classifier_param = [dt_param_grid,\n",
    "                   svc_param_grid,\n",
    "                   rf_param_grid,\n",
    "                   logreg_param_grid,\n",
    "                   knn_param_grid]"
   ]
  },
  {
   "cell_type": "code",
   "execution_count": 81,
   "id": "4d05d1d8",
   "metadata": {
    "execution": {
     "iopub.execute_input": "2025-03-11T07:08:07.038607Z",
     "iopub.status.busy": "2025-03-11T07:08:07.038279Z",
     "iopub.status.idle": "2025-03-11T07:09:28.426191Z",
     "shell.execute_reply": "2025-03-11T07:09:28.424704Z"
    },
    "papermill": {
     "duration": 81.431731,
     "end_time": "2025-03-11T07:09:28.427855",
     "exception": false,
     "start_time": "2025-03-11T07:08:06.996124",
     "status": "completed"
    },
    "tags": []
   },
   "outputs": [
    {
     "name": "stdout",
     "output_type": "stream",
     "text": [
      "Fitting 10 folds for each of 250 candidates, totalling 2500 fits\n",
      "0.8355932203389831\n",
      "Fitting 10 folds for each of 28 candidates, totalling 280 fits\n",
      "0.7983050847457627\n",
      "Fitting 10 folds for each of 54 candidates, totalling 540 fits\n",
      "0.840677966101695\n",
      "Fitting 10 folds for each of 14 candidates, totalling 140 fits\n",
      "0.8220338983050846\n",
      "Fitting 10 folds for each of 40 candidates, totalling 400 fits\n",
      "0.7813559322033898\n"
     ]
    }
   ],
   "source": [
    "cv_result = []\n",
    "best_estimators = []\n",
    "for i in range(len(classifier)):\n",
    "    clf = GridSearchCV(classifier[i], param_grid=classifier_param[i], cv = StratifiedKFold(n_splits = 10), scoring = \"accuracy\", n_jobs = -1, verbose = 1)\n",
    "    clf.fit(X_train,y_train)\n",
    "    cv_result.append(clf.best_score_)\n",
    "    best_estimators.append(clf.best_estimator_)\n",
    "    print(cv_result[i])"
   ]
  },
  {
   "cell_type": "code",
   "execution_count": 82,
   "id": "f61c456a",
   "metadata": {
    "execution": {
     "iopub.execute_input": "2025-03-11T07:09:28.513832Z",
     "iopub.status.busy": "2025-03-11T07:09:28.513474Z",
     "iopub.status.idle": "2025-03-11T07:09:28.729901Z",
     "shell.execute_reply": "2025-03-11T07:09:28.729022Z"
    },
    "papermill": {
     "duration": 0.262093,
     "end_time": "2025-03-11T07:09:28.731650",
     "exception": false,
     "start_time": "2025-03-11T07:09:28.469557",
     "status": "completed"
    },
    "tags": []
   },
   "outputs": [
    {
     "data": {
      "text/plain": [
       "Text(0.5, 1.0, 'Cross Validation Scores')"
      ]
     },
     "execution_count": 82,
     "metadata": {},
     "output_type": "execute_result"
    },
    {
     "data": {
      "image/png": "[encoded data removed]",
      "text/plain": [
       "<Figure size 640x480 with 1 Axes>"
      ]
     },
     "metadata": {},
     "output_type": "display_data"
    }
   ],
   "source": [
    "cv_results = pd.DataFrame({\"Cross Validation Means\" :cv_result, \"ML Models\":[\"DecisionTreeClassifier\",\n",
    "              \"SVM\",\n",
    "              \"RandomForestClassifier\",\n",
    "              \"LogisticRegression\",\n",
    "              \"KNeighborsClassifier\"]})\n",
    "g = sns.barplot(x = \"Cross Validation Means\", y =\"ML Models\", data = cv_results)\n",
    "g.set_xlabel(\"Mean Accuracy\")\n",
    "g.set_title(\"Cross Validation Scores\")"
   ]
  },
  {
   "cell_type": "markdown",
   "id": "281d8a32",
   "metadata": {
    "papermill": {
     "duration": 0.042077,
     "end_time": "2025-03-11T07:09:28.816759",
     "exception": false,
     "start_time": "2025-03-11T07:09:28.774682",
     "status": "completed"
    },
    "tags": []
   },
   "source": [
    "<a id = \"33\"></a><br>\n",
    "## Ensemble Modeling"
   ]
  },
  {
   "cell_type": "code",
   "execution_count": 83,
   "id": "4a92b119",
   "metadata": {
    "execution": {
     "iopub.execute_input": "2025-03-11T07:09:28.902218Z",
     "iopub.status.busy": "2025-03-11T07:09:28.901833Z",
     "iopub.status.idle": "2025-03-11T07:09:29.447633Z",
     "shell.execute_reply": "2025-03-11T07:09:29.446121Z"
    },
    "papermill": {
     "duration": 0.590668,
     "end_time": "2025-03-11T07:09:29.449345",
     "exception": false,
     "start_time": "2025-03-11T07:09:28.858677",
     "status": "completed"
    },
    "tags": []
   },
   "outputs": [
    {
     "name": "stdout",
     "output_type": "stream",
     "text": [
      "0.8178694158075601\n"
     ]
    }
   ],
   "source": [
    "votingC = VotingClassifier(estimators = [(\"dt\", best_estimators[0]),\n",
    "                                        (\"rfc\", best_estimators[2]),\n",
    "                                        (\"lr\", best_estimators[3])],\n",
    "                                        voting = \"soft\", n_jobs = -1)\n",
    "votingC = votingC.fit(X_train, y_train)\n",
    "print(accuracy_score(votingC.predict(X_test),y_test))"
   ]
  },
  {
   "cell_type": "markdown",
   "id": "997b487b",
   "metadata": {
    "papermill": {
     "duration": 0.041473,
     "end_time": "2025-03-11T07:09:29.533805",
     "exception": false,
     "start_time": "2025-03-11T07:09:29.492332",
     "status": "completed"
    },
    "tags": []
   },
   "source": [
    "<a id = \"34\"></a><br>\n",
    "## Prediction and Submission"
   ]
  },
  {
   "cell_type": "code",
   "execution_count": 84,
   "id": "aeaf8a4d",
   "metadata": {
    "execution": {
     "iopub.execute_input": "2025-03-11T07:09:29.617710Z",
     "iopub.status.busy": "2025-03-11T07:09:29.617383Z",
     "iopub.status.idle": "2025-03-11T07:09:29.663368Z",
     "shell.execute_reply": "2025-03-11T07:09:29.662492Z"
    },
    "papermill": {
     "duration": 0.090021,
     "end_time": "2025-03-11T07:09:29.665098",
     "exception": false,
     "start_time": "2025-03-11T07:09:29.575077",
     "status": "completed"
    },
    "tags": []
   },
   "outputs": [],
   "source": [
    "test_survived = pd.Series(votingC.predict(test), name = \"Survived\").astype(int)\n",
    "results = pd.concat([test_PassangerId,test_survived], axis = 1)\n",
    "results.to_csv(\"titanic.csv\", index = False)"
   ]
  },
  {
   "cell_type": "code",
   "execution_count": 85,
   "id": "21d97830",
   "metadata": {
    "execution": {
     "iopub.execute_input": "2025-03-11T07:09:29.750464Z",
     "iopub.status.busy": "2025-03-11T07:09:29.750083Z",
     "iopub.status.idle": "2025-03-11T07:09:29.759634Z",
     "shell.execute_reply": "2025-03-11T07:09:29.758822Z"
    },
    "papermill": {
     "duration": 0.053146,
     "end_time": "2025-03-11T07:09:29.760980",
     "exception": false,
     "start_time": "2025-03-11T07:09:29.707834",
     "status": "completed"
    },
    "tags": []
   },
   "outputs": [
    {
     "data": {
      "text/html": [
       "<div>\n",
       "<style scoped>\n",
       "    .dataframe tbody tr th:only-of-type {\n",
       "        vertical-align: middle;\n",
       "    }\n",
       "\n",
       "    .dataframe tbody tr th {\n",
       "        vertical-align: top;\n",
       "    }\n",
       "\n",
       "    .dataframe thead th {\n",
       "        text-align: right;\n",
       "    }\n",
       "</style>\n",
       "<table border=\"1\" class=\"dataframe\">\n",
       "  <thead>\n",
       "    <tr style=\"text-align: right;\">\n",
       "      <th></th>\n",
       "      <th>PassengerId</th>\n",
       "      <th>Survived</th>\n",
       "    </tr>\n",
       "  </thead>\n",
       "  <tbody>\n",
       "    <tr>\n",
       "      <th>0</th>\n",
       "      <td>892</td>\n",
       "      <td>0</td>\n",
       "    </tr>\n",
       "    <tr>\n",
       "      <th>1</th>\n",
       "      <td>893</td>\n",
       "      <td>0</td>\n",
       "    </tr>\n",
       "    <tr>\n",
       "      <th>2</th>\n",
       "      <td>894</td>\n",
       "      <td>0</td>\n",
       "    </tr>\n",
       "    <tr>\n",
       "      <th>3</th>\n",
       "      <td>895</td>\n",
       "      <td>0</td>\n",
       "    </tr>\n",
       "    <tr>\n",
       "      <th>4</th>\n",
       "      <td>896</td>\n",
       "      <td>1</td>\n",
       "    </tr>\n",
       "    <tr>\n",
       "      <th>...</th>\n",
       "      <td>...</td>\n",
       "      <td>...</td>\n",
       "    </tr>\n",
       "    <tr>\n",
       "      <th>413</th>\n",
       "      <td>1305</td>\n",
       "      <td>0</td>\n",
       "    </tr>\n",
       "    <tr>\n",
       "      <th>414</th>\n",
       "      <td>1306</td>\n",
       "      <td>1</td>\n",
       "    </tr>\n",
       "    <tr>\n",
       "      <th>415</th>\n",
       "      <td>1307</td>\n",
       "      <td>0</td>\n",
       "    </tr>\n",
       "    <tr>\n",
       "      <th>416</th>\n",
       "      <td>1308</td>\n",
       "      <td>0</td>\n",
       "    </tr>\n",
       "    <tr>\n",
       "      <th>417</th>\n",
       "      <td>1309</td>\n",
       "      <td>1</td>\n",
       "    </tr>\n",
       "  </tbody>\n",
       "</table>\n",
       "<p>418 rows × 2 columns</p>\n",
       "</div>"
      ],
      "text/plain": [
       "     PassengerId  Survived\n",
       "0            892         0\n",
       "1            893         0\n",
       "2            894         0\n",
       "3            895         0\n",
       "4            896         1\n",
       "..           ...       ...\n",
       "413         1305         0\n",
       "414         1306         1\n",
       "415         1307         0\n",
       "416         1308         0\n",
       "417         1309         1\n",
       "\n",
       "[418 rows x 2 columns]"
      ]
     },
     "execution_count": 85,
     "metadata": {},
     "output_type": "execute_result"
    }
   ],
   "source": [
    "results"
   ]
  }
 ],
 "metadata": {
  "kaggle": {
   "accelerator": "none",
   "dataSources": [
    {
     "databundleVersionId": 26502,
     "sourceId": 3136,
     "sourceType": "competition"
    }
   ],
   "dockerImageVersionId": 30918,
   "isGpuEnabled": false,
   "isInternetEnabled": false,
   "language": "python",
   "sourceType": "notebook"
  },
  "kernelspec": {
   "display_name": "Python 3",
   "language": "python",
   "name": "python3"
  },
  "language_info": {
   "codemirror_mode": {
    "name": "ipython",
    "version": 3
   },
   "file_extension": ".py",
   "mimetype": "text/x-python",
   "name": "python",
   "nbconvert_exporter": "python",
   "pygments_lexer": "ipython3",
   "version": "3.10.12"
  },
  "papermill": {
   "default_parameters": {},
   "duration": 112.256656,
   "end_time": "2025-03-11T07:09:30.525395",
   "environment_variables": {},
   "exception": null,
   "input_path": "__notebook__.ipynb",
   "output_path": "__notebook__.ipynb",
   "parameters": {},
   "start_time": "2025-03-11T07:07:38.268739",
   "version": "2.6.0"
  }
 },
 "nbformat": 4,
 "nbformat_minor": 5
}
